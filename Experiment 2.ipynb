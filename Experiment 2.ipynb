{
 "cells": [
  {
   "cell_type": "markdown",
   "metadata": {},
   "source": [
    "# Complete analysis for Experiment 2, @Magdeburg"
   ]
  },
  {
   "cell_type": "code",
   "execution_count": 1,
   "metadata": {},
   "outputs": [],
   "source": [
    "rm(list=ls())"
   ]
  },
  {
   "cell_type": "code",
   "execution_count": 3,
   "metadata": {},
   "outputs": [],
   "source": [
    "library(dplyr)\n",
    "library(lme4)\n",
    "library(ggplot2)\n",
    "library(BayesFactor)\n",
    "library(stringr)"
   ]
  },
  {
   "cell_type": "markdown",
   "metadata": {},
   "source": [
    "### Loading and preprocessing data\n",
    "Loading raw data and converting integer constants to factors"
   ]
  },
  {
   "cell_type": "code",
   "execution_count": 4,
   "metadata": {},
   "outputs": [],
   "source": [
    "responses <- read.table(file.path('Experiment 2', 'Experiment 2.csv'), sep=',', dec = '.', header = TRUE)\n",
    "\n",
    "# converting factors and values to a readable format\n",
    "responses$DisplayType <- recode(responses$DisplayType, 'H' = 'Horizontally arranged', 'V'= 'Vertically arranged')\n",
    "responses$RotationAxis <- recode(responses$RotationAxis, 'X'='Horizontal', 'Y'= 'Vertical')\n",
    "responses$Percept <- factor(responses$Percept, levels= c(-2, -1, 1), labels= c('unclear', 'counter-rotation', 'co-rotation'))\n",
    "responses$Background <- factor(responses$Background, levels= c(0, 1), labels= c('absent', 'present'))\n",
    "\n",
    "# computing axes configuration\n",
    "responses$Axes.Configuration <- 'parallel'\n",
    "responses$Axes.Configuration[(responses$DisplayType=='Horizontally arranged') & (responses$RotationAxis=='Horizontal')] <- 'co-axial'\n",
    "responses$Axes.Configuration[(responses$DisplayType=='Vertically arranged') & (responses$RotationAxis=='Vertical')] <- 'co-axial'\n",
    "responses$Axes.Configuration <- factor(responses$Axes.Configuration)"
   ]
  },
  {
   "cell_type": "markdown",
   "metadata": {},
   "source": [
    "### Computing duration of individual percepts"
   ]
  },
  {
   "cell_type": "code",
   "execution_count": 5,
   "metadata": {},
   "outputs": [],
   "source": [
    "block.duration <- 300 # Duration of a single continuous presentaiton run in seconds\n",
    "responses$Duration <- NA\n",
    "responses$Curtailed <- FALSE # duration of the last percept is curtailed by the end-of-the block\n",
    "for(i.row in 1:(nrow(responses)-1)){\n",
    "    if (responses$Time[i.row+1]<responses$Time[i.row]){\n",
    "        # block end?\n",
    "        if ((responses$ObserverID[i.row+1]!=responses$ObserverID[i.row]) ||\n",
    "            (responses$DisplayType[i.row+1]!=responses$DisplayType[i.row]) ||\n",
    "            (responses$RotationAxis[i.row+1]!=responses$RotationAxis[i.row]) ||\n",
    "            (responses$Background[i.row+1]!=responses$Background[i.row]) ||\n",
    "            (responses$Distance[i.row+1]!=responses$Distance[i.row])){\n",
    "            # block end!\n",
    "            responses$Duration[i.row] <- block.duration-responses$Time[i.row]\n",
    "            responses$Curtailed[i.row] <- TRUE\n",
    "        }\n",
    "        \n",
    "        else{\n",
    "            stop(sprintf('What the Fish? Row %d', i.row))\n",
    "        }\n",
    "    }\n",
    "    else{\n",
    "        responses$Duration[i.row] <- responses$Time[i.row+1]-responses$Time[i.row]\n",
    "    }\n",
    "}"
   ]
  },
  {
   "cell_type": "markdown",
   "metadata": {},
   "source": [
    "### Computing average counter-rotation for all combinations of conditions\n",
    "In this case we look separately at all for combinations for the objects' arrangement (horizontally vs. vertically arranged) and of the objects' rotation axis (horizontal or vertical)"
   ]
  },
  {
   "cell_type": "code",
   "execution_count": 24,
   "metadata": {},
   "outputs": [
    {
     "data": {
      "image/png": "[encoded data removed]",
      "text/plain": [
       "plot without title"
      ]
     },
     "metadata": {},
     "output_type": "display_data"
    }
   ],
   "source": [
    "counter.rotation <- responses %>%\n",
    "    dplyr::filter(Percept=='counter-rotation') %>%\n",
    "    dplyr::group_by(ObserverID, DisplayType, RotationAxis, Background, Distance) %>%\n",
    "    dplyr::summarize(total.duration= sum(Duration)/block.duration) %>%\n",
    "    dplyr::group_by(DisplayType, RotationAxis, Background, Distance) %>%\n",
    "    dplyr::summarize(\n",
    "        mean.duration= mean(total.duration, na.rm=TRUE),\n",
    "        serr.duration= sd(total.duration, na.rm=TRUE)/sqrt(n()))\n",
    "\n",
    "counter.rotation.plot <- ggplot(data= counter.rotation, \n",
    "                          aes(x= Distance+0.1, y= mean.duration, \n",
    "                              ymin= mean.duration-serr.duration,\n",
    "                              ymax= mean.duration+serr.duration,\n",
    "                              group= Background, color= Background))+\n",
    "    geom_line()+\n",
    "    geom_errorbar(width= 0.05)+\n",
    "#     scale_colour_discrete(guide = FALSE) +\n",
    "    geom_point() + \n",
    "    facet_grid(DisplayType ~ RotationAxis)+\n",
    "    scale_x_log10(breaks= unique(counter.rotation$Distance)+0.1, \n",
    "                  labels= unique(counter.rotation$Distance))+\n",
    "    theme(panel.grid.minor.x=  element_blank(), panel.grid.minor.y=  element_blank())+\n",
    "    ylab('Counter-rotation percept [fraction of total time]')+\n",
    "    xlab('Gap [SFM object diameter]')\n",
    "print(counter.rotation.plot)\n",
    "ggsave('Figures/Exp2 - all.pdf', counter.rotation.plot, width= 11, height= 11, units = 'cm', useDingbats = FALSE)"
   ]
  },
  {
   "cell_type": "code",
   "execution_count": 25,
   "metadata": {},
   "outputs": [
    {
     "data": {
      "text/html": [
       "<table>\n",
       "<thead><tr><th></th><th scope=col>Df</th><th scope=col>AIC</th><th scope=col>BIC</th><th scope=col>logLik</th><th scope=col>deviance</th><th scope=col>Chisq</th><th scope=col>Chi Df</th><th scope=col>Pr(&gt;Chisq)</th></tr></thead>\n",
       "<tbody>\n",
       "\t<tr><th scope=row>lm.null</th><td>3           </td><td>-254.7706   </td><td>-243.2661   </td><td>130.3853    </td><td>-260.7706   </td><td>        NA  </td><td>NA          </td><td>          NA</td></tr>\n",
       "\t<tr><th scope=row>lm.distance</th><td>4           </td><td>-355.1831   </td><td>-339.8439   </td><td>181.5916    </td><td>-363.1831   </td><td>102.412586  </td><td> 1          </td><td>4.508283e-24</td></tr>\n",
       "\t<tr><th scope=row>lm.layout</th><td>5           </td><td>-357.1181   </td><td>-337.9440   </td><td>183.5590    </td><td>-367.1181   </td><td>  3.934962  </td><td> 1          </td><td>4.729222e-02</td></tr>\n",
       "\t<tr><th scope=row>lm.axis</th><td>6           </td><td>-360.8410   </td><td>-337.8321   </td><td>186.4205    </td><td>-372.8410   </td><td>  5.722900  </td><td> 1          </td><td>1.674506e-02</td></tr>\n",
       "\t<tr><th scope=row>lm.axes.conf</th><td>7           </td><td>-457.1890   </td><td>-430.3453   </td><td>235.5945    </td><td>-471.1890   </td><td> 98.347955  </td><td> 1          </td><td>3.509631e-23</td></tr>\n",
       "\t<tr><th scope=row>lm.bg</th><td>8           </td><td>-461.0461   </td><td>-430.3676   </td><td>238.5230    </td><td>-477.0461   </td><td>  5.857111  </td><td> 1          </td><td>1.551424e-02</td></tr>\n",
       "\t<tr><th scope=row>lm.bg.axes.conf</th><td>9           </td><td>-463.2582   </td><td>-428.7449   </td><td>240.6291    </td><td>-481.2582   </td><td>  4.212180  </td><td> 1          </td><td>4.013472e-02</td></tr>\n",
       "</tbody>\n",
       "</table>\n"
      ],
      "text/latex": [
       "\\begin{tabular}{r|llllllll}\n",
       "  & Df & AIC & BIC & logLik & deviance & Chisq & Chi Df & Pr(>Chisq)\\\\\n",
       "\\hline\n",
       "\tlm.null & 3            & -254.7706    & -243.2661    & 130.3853     & -260.7706    &         NA   & NA           &           NA\\\\\n",
       "\tlm.distance & 4            & -355.1831    & -339.8439    & 181.5916     & -363.1831    & 102.412586   &  1           & 4.508283e-24\\\\\n",
       "\tlm.layout & 5            & -357.1181    & -337.9440    & 183.5590     & -367.1181    &   3.934962   &  1           & 4.729222e-02\\\\\n",
       "\tlm.axis & 6            & -360.8410    & -337.8321    & 186.4205     & -372.8410    &   5.722900   &  1           & 1.674506e-02\\\\\n",
       "\tlm.axes.conf & 7            & -457.1890    & -430.3453    & 235.5945     & -471.1890    &  98.347955   &  1           & 3.509631e-23\\\\\n",
       "\tlm.bg & 8            & -461.0461    & -430.3676    & 238.5230     & -477.0461    &   5.857111   &  1           & 1.551424e-02\\\\\n",
       "\tlm.bg.axes.conf & 9            & -463.2582    & -428.7449    & 240.6291     & -481.2582    &   4.212180   &  1           & 4.013472e-02\\\\\n",
       "\\end{tabular}\n"
      ],
      "text/markdown": [
       "\n",
       "| <!--/--> | Df | AIC | BIC | logLik | deviance | Chisq | Chi Df | Pr(>Chisq) | \n",
       "|---|---|---|---|---|---|---|\n",
       "| lm.null | 3            | -254.7706    | -243.2661    | 130.3853     | -260.7706    |         NA   | NA           |           NA | \n",
       "| lm.distance | 4            | -355.1831    | -339.8439    | 181.5916     | -363.1831    | 102.412586   |  1           | 4.508283e-24 | \n",
       "| lm.layout | 5            | -357.1181    | -337.9440    | 183.5590     | -367.1181    |   3.934962   |  1           | 4.729222e-02 | \n",
       "| lm.axis | 6            | -360.8410    | -337.8321    | 186.4205     | -372.8410    |   5.722900   |  1           | 1.674506e-02 | \n",
       "| lm.axes.conf | 7            | -457.1890    | -430.3453    | 235.5945     | -471.1890    |  98.347955   |  1           | 3.509631e-23 | \n",
       "| lm.bg | 8            | -461.0461    | -430.3676    | 238.5230     | -477.0461    |   5.857111   |  1           | 1.551424e-02 | \n",
       "| lm.bg.axes.conf | 9            | -463.2582    | -428.7449    | 240.6291     | -481.2582    |   4.212180   |  1           | 4.013472e-02 | \n",
       "\n",
       "\n"
      ],
      "text/plain": [
       "                Df AIC       BIC       logLik   deviance  Chisq      Chi Df\n",
       "lm.null         3  -254.7706 -243.2661 130.3853 -260.7706         NA NA    \n",
       "lm.distance     4  -355.1831 -339.8439 181.5916 -363.1831 102.412586  1    \n",
       "lm.layout       5  -357.1181 -337.9440 183.5590 -367.1181   3.934962  1    \n",
       "lm.axis         6  -360.8410 -337.8321 186.4205 -372.8410   5.722900  1    \n",
       "lm.axes.conf    7  -457.1890 -430.3453 235.5945 -471.1890  98.347955  1    \n",
       "lm.bg           8  -461.0461 -430.3676 238.5230 -477.0461   5.857111  1    \n",
       "lm.bg.axes.conf 9  -463.2582 -428.7449 240.6291 -481.2582   4.212180  1    \n",
       "                Pr(>Chisq)  \n",
       "lm.null                   NA\n",
       "lm.distance     4.508283e-24\n",
       "lm.layout       4.729222e-02\n",
       "lm.axis         1.674506e-02\n",
       "lm.axes.conf    3.509631e-23\n",
       "lm.bg           1.551424e-02\n",
       "lm.bg.axes.conf 4.013472e-02"
      ]
     },
     "metadata": {},
     "output_type": "display_data"
    },
    {
     "data": {
      "text/html": [
       "<ol class=list-inline>\n",
       "\t<li>&lt;NA&gt;</li>\n",
       "\t<li>4.50828266282816e-24</li>\n",
       "\t<li>0.0472922169289144</li>\n",
       "\t<li>0.0167450552713257</li>\n",
       "\t<li>3.50963074994031e-23</li>\n",
       "\t<li>0.0155142382524151</li>\n",
       "\t<li>0.0401347179483128</li>\n",
       "</ol>\n"
      ],
      "text/latex": [
       "\\begin{enumerate*}\n",
       "\\item <NA>\n",
       "\\item 4.50828266282816e-24\n",
       "\\item 0.0472922169289144\n",
       "\\item 0.0167450552713257\n",
       "\\item 3.50963074994031e-23\n",
       "\\item 0.0155142382524151\n",
       "\\item 0.0401347179483128\n",
       "\\end{enumerate*}\n"
      ],
      "text/markdown": [
       "1. &lt;NA&gt;\n",
       "2. 4.50828266282816e-24\n",
       "3. 0.0472922169289144\n",
       "4. 0.0167450552713257\n",
       "5. 3.50963074994031e-23\n",
       "6. 0.0155142382524151\n",
       "7. 0.0401347179483128\n",
       "\n",
       "\n"
      ],
      "text/plain": [
       "[1]           NA 4.508283e-24 4.729222e-02 1.674506e-02 3.509631e-23\n",
       "[6] 1.551424e-02 4.013472e-02"
      ]
     },
     "metadata": {},
     "output_type": "display_data"
    }
   ],
   "source": [
    "counter.rotation.per.observer <- responses %>%\n",
    "    dplyr::filter(Percept=='counter-rotation') %>%\n",
    "    dplyr::group_by(ObserverID, DisplayType, RotationAxis, Background, Distance, Axes.Configuration) %>%\n",
    "    dplyr::summarize(total.duration= sum(Duration)/block.duration)\n",
    "\n",
    "# linear-mixed models\n",
    "lm.null <- lmer(total.duration ~ (1|ObserverID), data= counter.rotation.per.observer, REML=FALSE)\n",
    "lm.distance <- update(lm.null, .~. + Distance)\n",
    "lm.layout <- update(lm.distance, .~. + DisplayType)\n",
    "lm.axis <- update(lm.layout, .~. + RotationAxis)\n",
    "lm.axes.conf <- update(lm.axis, .~.  + Axes.Configuration)\n",
    "lm.bg <- update(lm.axes.conf, .~.+Background)\n",
    "lm.bg.axes.conf <- update(lm.bg, .~. +Background * Axes.Configuration)\n",
    "lm.summary <- anova(lm.null, lm.distance, lm.layout, lm.axis, lm.axes.conf, lm.bg, lm.bg.axes.conf)\n",
    "lm.summary\n",
    "lm.summary$'Pr(>Chisq)'"
   ]
  },
  {
   "cell_type": "markdown",
   "metadata": {},
   "source": [
    "## Looking at the probability independent switching given the strength of the perceptual coupling"
   ]
  },
  {
   "cell_type": "code",
   "execution_count": 26,
   "metadata": {
    "scrolled": true
   },
   "outputs": [],
   "source": [
    "switch.vs.coupling <- responses %>%\n",
    "    group_by(ObserverID, DisplayType, RotationAxis, Background, Distance) %>%\n",
    "\n",
    "    # marking out simultaneous switchs (same dual percept to the same dual percept)\n",
    "    mutate(iPercept= 1:n(), \n",
    "           simultaneous.switch= Percept==lag(Percept)) %>%\n",
    "    summarise(counter.rotation.prop= sum(Duration[Percept=='counter-rotation'])/sum(Duration),\n",
    "              balance= abs(counter.rotation.prop-0.5),\n",
    "              mean.switch.count= sum(is.finite(simultaneous.switch))/2, \n",
    "              sim.switch.prop= sum(simultaneous.switch, na.rm= TRUE)/sum(is.finite(simultaneous.switch))) %>%\n",
    "\n",
    "    # retaining only block with at least 5 switches \n",
    "    filter(mean.switch.count>=5)"
   ]
  },
  {
   "cell_type": "code",
   "execution_count": 28,
   "metadata": {
    "scrolled": false
   },
   "outputs": [
    {
     "data": {
      "text/plain": [
       "Linear mixed model fit by REML t-tests use Satterthwaite approximations to\n",
       "  degrees of freedom [lmerMod]\n",
       "Formula: sim.switch.prop ~ balance + (1 | ObserverID)\n",
       "   Data: switch.vs.coupling\n",
       "\n",
       "REML criterion at convergence: -419.7\n",
       "\n",
       "Scaled residuals: \n",
       "    Min      1Q  Median      3Q     Max \n",
       "-3.3915 -0.6691 -0.0208  0.6947  2.3145 \n",
       "\n",
       "Random effects:\n",
       " Groups     Name        Variance Std.Dev.\n",
       " ObserverID (Intercept) 0.004884 0.06989 \n",
       " Residual               0.016639 0.12899 \n",
       "Number of obs: 358, groups:  ObserverID, 9\n",
       "\n",
       "Fixed effects:\n",
       "             Estimate Std. Error        df t value Pr(>|t|)    \n",
       "(Intercept)   0.23826    0.02898  16.10000   8.223 3.78e-07 ***\n",
       "balance       1.07981    0.04855 353.30000  22.243  < 2e-16 ***\n",
       "---\n",
       "Signif. codes:  0 '***' 0.001 '**' 0.01 '*' 0.05 '.' 0.1 ' ' 1\n",
       "\n",
       "Correlation of Fixed Effects:\n",
       "        (Intr)\n",
       "balance -0.546"
      ]
     },
     "metadata": {},
     "output_type": "display_data"
    },
    {
     "data": {
      "text/html": [
       "<table>\n",
       "<thead><tr><th scope=col>Estimate</th><th scope=col>Std.Error</th><th scope=col>df</th><th scope=col>t.value</th><th scope=col>p.value</th><th scope=col>R.sqr</th></tr></thead>\n",
       "<tbody>\n",
       "\t<tr><td>0.2382632   </td><td>0.02897688  </td><td> 16.05443   </td><td> 8.222527   </td><td>3.784573e-07</td><td>0.8989489   </td></tr>\n",
       "\t<tr><td>1.0798108   </td><td>0.04854606  </td><td>353.30968   </td><td>22.243018   </td><td>0.000000e+00</td><td>0.7638007   </td></tr>\n",
       "</tbody>\n",
       "</table>\n"
      ],
      "text/latex": [
       "\\begin{tabular}{r|llllll}\n",
       " Estimate & Std.Error & df & t.value & p.value & R.sqr\\\\\n",
       "\\hline\n",
       "\t 0.2382632    & 0.02897688   &  16.05443    &  8.222527    & 3.784573e-07 & 0.8989489   \\\\\n",
       "\t 1.0798108    & 0.04854606   & 353.30968    & 22.243018    & 0.000000e+00 & 0.7638007   \\\\\n",
       "\\end{tabular}\n"
      ],
      "text/markdown": [
       "\n",
       "Estimate | Std.Error | df | t.value | p.value | R.sqr | \n",
       "|---|---|\n",
       "| 0.2382632    | 0.02897688   |  16.05443    |  8.222527    | 3.784573e-07 | 0.8989489    | \n",
       "| 1.0798108    | 0.04854606   | 353.30968    | 22.243018    | 0.000000e+00 | 0.7638007    | \n",
       "\n",
       "\n"
      ],
      "text/plain": [
       "  Estimate  Std.Error  df        t.value   p.value      R.sqr    \n",
       "1 0.2382632 0.02897688  16.05443  8.222527 3.784573e-07 0.8989489\n",
       "2 1.0798108 0.04854606 353.30968 22.243018 0.000000e+00 0.7638007"
      ]
     },
     "metadata": {},
     "output_type": "display_data"
    },
    {
     "name": "stderr",
     "output_type": "stream",
     "text": [
      "Warning message:\n",
      "\"Removed 1 rows containing non-finite values (stat_smooth).\"Warning message:\n",
      "\"Removed 1 rows containing missing values (geom_point).\"Warning message:\n",
      "\"Removed 1 rows containing non-finite values (stat_smooth).\"Warning message:\n",
      "\"Removed 1 rows containing missing values (geom_point).\""
     ]
    },
    {
     "data": {
      "image/png": "[encoded data removed]",
      "text/plain": [
       "plot without title"
      ]
     },
     "metadata": {},
     "output_type": "display_data"
    }
   ],
   "source": [
    "rcontrast<-function(t, df) {\n",
    "    return (sqrt(t^2/(t^2 + df)))\n",
    "}\n",
    "\n",
    "sim.switch.model <- lmerTest::lmer(sim.switch.prop ~ balance + (1|ObserverID), data=  switch.vs.coupling)\n",
    "summary(sim.switch.model)\n",
    "coefficients.only <- data.frame(summary(sim.switch.model)$coefficients)\n",
    "colnames(coefficients.only) <- c('Estimate', 'Std.Error', 'df', 't.value', 'p.value')\n",
    "dplyr::mutate(coefficients.only, R.sqr= rcontrast(t.value, df))\n",
    "\n",
    "coupling.vs.sim.switches.plot <- ggplot(data= switch.vs.coupling, aes(x= 100*counter.rotation.prop, y= 100*sim.switch.prop)) +\n",
    "    geom_point(aes(color= ObserverID, size= mean.switch.count))+\n",
    "    geom_smooth(color= 'black', method='loess')+\n",
    "    scale_colour_discrete(guide = FALSE) +\n",
    "    xlab('Pcounter-rotation')\n",
    "print(coupling.vs.sim.switches.plot)\n",
    "ggsave('Figures/Exp2 - independent switching versus coupling.pdf', coupling.vs.sim.switches.plot, width= 13, height= 7.5, units = 'cm',  useDingbats = FALSE)"
   ]
  },
  {
   "cell_type": "code",
   "execution_count": 21,
   "metadata": {},
   "outputs": [
    {
     "name": "stdout",
     "output_type": "stream",
     "text": [
      "Number of balanced blocks: 103\n",
      "Number of balanced participants: 9\n"
     ]
    }
   ],
   "source": [
    "balanced.blocks <- switch.vs.coupling %>%\n",
    "    mutate(balanced= (counter.rotation.prop>0.25) & (counter.rotation.prop<0.75)) %>%\n",
    "    filter(balanced== TRUE)\n",
    "cat(sprintf('Number of balanced blocks: %d\\n', nrow(balanced.blocks)))\n",
    "cat(sprintf('Number of balanced participants: %d\\n', length(unique(balanced.blocks$ObserverID))))"
   ]
  },
  {
   "cell_type": "code",
   "execution_count": 27,
   "metadata": {},
   "outputs": [
    {
     "name": "stderr",
     "output_type": "stream",
     "text": [
      "Joining, by = c(\"ObserverID\", \"DisplayType\", \"RotationAxis\", \"Background\", \"Distance\")\n"
     ]
    }
   ],
   "source": [
    "persistence.relative.to.chance.level <- function(perceptual.reports){\n",
    "    reports.N <- length(perceptual.reports)\n",
    "    actual.persistence <- mean(perceptual.reports[1:(reports.N-1)]==perceptual.reports[2:reports.N])\n",
    "\n",
    "    shuffle.repetitions <- 1000\n",
    "    shuffled.persistence <- rep(NA, shuffle.repetitions) \n",
    "    for(iteration in 1:shuffle.repetitions){\n",
    "        shuffled.reports <- sample(perceptual.reports)\n",
    "        shuffled.persistence[iteration] <- mean(shuffled.reports[1:(reports.N-1)]==shuffled.reports[2:reports.N])\n",
    "    }    \n",
    "\n",
    "    # z-scoring the actual persistence based on the randomly sampled sequences\n",
    "    z.scores <- c(scale(c(actual.persistence, shuffled.persistence)))\n",
    "    return(z.scores[1])\n",
    "    \n",
    "    # computing there the actual persistence is relative to a distribution of randomly shuffled reports\n",
    "    # we need to use -, as t-test measures distance from the center of distribution to the value and we need it the other way around\n",
    "#     return(-t.test(logit(shuffled.persistence), mu= logit(actual.persistence))$statistic)\n",
    "}\n",
    "\n",
    "perceptual.trapping <- responses %>% \n",
    "    semi_join(balanced.blocks) %>%\n",
    "\n",
    "    # adding unique block index\n",
    "    group_by(ObserverID, DisplayType, RotationAxis, Background, Distance) %>%\n",
    "    mutate(block.id= str_c(as.character(ObserverID[1]), as.character(DisplayType[1]), as.character(RotationAxis[1]), as.character(Background[1]), as.character(Distance[1]))) %>%\n",
    "    ungroup() %>%\n",
    "    mutate(block.id= as.factor(block.id)) %>%\n",
    "\n",
    "    # computing probability of perceptual trapping\n",
    "    group_by(ObserverID, block.id) %>%\n",
    "    summarise(p.trapped= mean(Percept[1:(n()-1)]==Percept[2:n()]),\n",
    "              z.trapped= persistence.relative.to.chance.level(Percept)) "
   ]
  },
  {
   "cell_type": "code",
   "execution_count": 23,
   "metadata": {},
   "outputs": [
    {
     "data": {
      "text/plain": [
       "\n",
       "\tOne Sample t-test\n",
       "\n",
       "data:  perceptual.trapping$z.trapped\n",
       "t = -7.9648, df = 102, p-value = 2.435e-12\n",
       "alternative hypothesis: true mean is not equal to 0\n",
       "95 percent confidence interval:\n",
       " -1.929260 -1.159946\n",
       "sample estimates:\n",
       "mean of x \n",
       "-1.544603 \n"
      ]
     },
     "metadata": {},
     "output_type": "display_data"
    },
    {
     "name": "stdout",
     "output_type": "stream",
     "text": [
      "R^2: 0.62"
     ]
    },
    {
     "data": {
      "image/png": "[encoded data removed]",
      "text/plain": [
       "plot without title"
      ]
     },
     "metadata": {},
     "output_type": "display_data"
    }
   ],
   "source": [
    "t.trapped <- t.test(perceptual.trapping$z.trapped)\n",
    "t.trapped\n",
    "cat(sprintf('R^2: %.2f', rcontrast(t.trapped$statistic, t.trapped$parameter)))\n",
    "\n",
    "trapping.plot <- ggplot(data= perceptual.trapping, aes(x= z.trapped, fill= ObserverID)) + \n",
    "    geom_histogram(bins= 21)+\n",
    "    scale_y_continuous(breaks= seq(0, 14, 2))+\n",
    "    scale_x_continuous(breaks= seq(-6, 5, 1))+\n",
    "    theme(legend.position=\"none\")\n",
    "print(trapping.plot)\n",
    "ggsave('Figures/Exp2 - perceptual trapping.pdf', trapping.plot, width= 10.5, height= 5.0, units = 'cm',  useDingbats = FALSE)"
   ]
  }
 ],
 "metadata": {
  "kernelspec": {
   "display_name": "R",
   "language": "R",
   "name": "ir"
  },
  "language_info": {
   "codemirror_mode": "r",
   "file_extension": ".r",
   "mimetype": "text/x-r-source",
   "name": "R",
   "pygments_lexer": "r",
   "version": "3.4.2"
  }
 },
 "nbformat": 4,
 "nbformat_minor": 1
}
