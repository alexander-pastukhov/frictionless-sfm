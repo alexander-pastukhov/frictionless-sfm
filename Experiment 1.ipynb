{
 "cells": [
  {
   "cell_type": "markdown",
   "metadata": {},
   "source": [
    "# Complete analysis for Experiment 1"
   ]
  },
  {
   "cell_type": "code",
   "execution_count": 1,
   "metadata": {},
   "outputs": [],
   "source": [
    "rm(list=ls())"
   ]
  },
  {
   "cell_type": "code",
   "execution_count": 26,
   "metadata": {},
   "outputs": [],
   "source": [
    "library(tidyverse)\n",
    "library(lme4)\n",
    "library(lmerTest)\n",
    "library(car)\n",
    "library(binom)"
   ]
  },
  {
   "cell_type": "markdown",
   "metadata": {},
   "source": [
    "## Loading data"
   ]
  },
  {
   "cell_type": "code",
   "execution_count": 3,
   "metadata": {},
   "outputs": [],
   "source": [
    "data.folder <- 'Experiment 1.'\n",
    "file.list <- list.files(path= data.folder, pattern= 'csv$')\n",
    "reports <- data.frame()\n",
    "for(current.filename in file.list){\n",
    "    current.observer <- read.csv2(file.path(paste(data.folder, current.filename, sep='/')))\n",
    "    \n",
    "    # extracting disambiguation method from \n",
    "    current.observer$disambiguation.method <- str_extract(current.filename, 'perspective|stereo')\n",
    "    \n",
    "    # discarding mixed phases\n",
    "    current.observer <- current.observer[-which(current.observer$Percept=='unclear'), ]\n",
    "    \n",
    "    # splitting Unambiguous and Percept columns into one-column-per-object\n",
    "    current.observer$unambiguous.L <- FALSE\n",
    "    current.observer$unambiguous.L[current.observer$Unambiguious=='left'] <- TRUE\n",
    "    current.observer$unambiguous.R <- FALSE\n",
    "    current.observer$unambiguous.R[current.observer$Unambiguious=='right'] <- TRUE\n",
    "    current.observer$ambiguity <- 'one'\n",
    "    current.observer$ambiguity[current.observer$Unambiguious=='neither'] <- 'both'   \n",
    "    \n",
    "    # rotation of the left object\n",
    "    current.observer$rotation.L <- 0 # unclear\n",
    "    current.observer$rotation.L[current.observer$Percept %in% c('left', 'down')] <- -1\n",
    "    current.observer$rotation.L[current.observer$Percept %in% c('right', 'up')] <- 1\n",
    "\n",
    "    # rotation of the right object\n",
    "    current.observer$rotation.R <- 0 # unclear\n",
    "    current.observer$rotation.R[current.observer$Percept %in% c('left', 'up')] <- -1                              \n",
    "    current.observer$rotation.R[current.observer$Percept %in% c('right', 'down')] <- 1                              \n",
    "\n",
    "    # counter.rotation\n",
    "    current.observer$counter.rotation <- NA\n",
    "    current.observer$counter.rotation[current.observer$Percept %in% c('left', 'right')] <- FALSE\n",
    "    current.observer$counter.rotation[current.observer$Percept %in% c('up', 'down')] <- TRUE\n",
    "    \n",
    "    # prettifying shape labels\n",
    "    current.observer$Shape <- gsub('-0500', '', current.observer$Shape)\n",
    "    \n",
    "    # merging\n",
    "    reports <- rbind(reports, current.observer)\n",
    "}\n",
    "\n",
    "# Computing duration of individual reports\n",
    "reports <- reports %>%\n",
    "    dplyr::group_by(Observer, Block) %>%\n",
    "    dplyr::mutate(Duration= c(diff(Time), NA)) %>%\n",
    "    ungroup()\n",
    "\n",
    "# Converting Gap to a factor\n",
    "reports <- reports %>%\n",
    "    mutate(Gap= dplyr::recode(Gap, `-0.15`= 'overlap', `0`='touching', `0.15`= 'gap')) %>%\n",
    "    mutate(Gap= factor(Gap, levels= c('overlap', 'touching', 'gap')))\n",
    "\n",
    "\n",
    "# bias direction label\n",
    "reports$Direction.label <- ifelse(reports$Direction==-1, 'left', 'right')\n",
    "\n",
    "# converting strings to factors\n",
    "reports$ambiguity <- as.factor(reports$ambiguity)"
   ]
  },
  {
   "cell_type": "markdown",
   "metadata": {},
   "source": [
    "## Computing demographics info, reported in the _Methods_ section"
   ]
  },
  {
   "cell_type": "code",
   "execution_count": 4,
   "metadata": {},
   "outputs": [
    {
     "data": {
      "text/html": [
       "<table>\n",
       "<thead><tr><th scope=col>gender</th><th scope=col>count</th><th scope=col>min.age</th><th scope=col>max.age</th></tr></thead>\n",
       "<tbody>\n",
       "\t<tr><td>female</td><td>12    </td><td>19    </td><td>36    </td></tr>\n",
       "\t<tr><td>male  </td><td> 5    </td><td>21    </td><td>29    </td></tr>\n",
       "</tbody>\n",
       "</table>\n"
      ],
      "text/latex": [
       "\\begin{tabular}{r|llll}\n",
       " gender & count & min.age & max.age\\\\\n",
       "\\hline\n",
       "\t female & 12     & 19     & 36    \\\\\n",
       "\t male   &  5     & 21     & 29    \\\\\n",
       "\\end{tabular}\n"
      ],
      "text/markdown": [
       "\n",
       "gender | count | min.age | max.age | \n",
       "|---|---|\n",
       "| female | 12     | 19     | 36     | \n",
       "| male   |  5     | 21     | 29     | \n",
       "\n",
       "\n"
      ],
      "text/plain": [
       "  gender count min.age max.age\n",
       "1 female 12    19      36     \n",
       "2 male    5    21      29     "
      ]
     },
     "metadata": {},
     "output_type": "display_data"
    }
   ],
   "source": [
    "participants <- data.frame(Observer= unique(reports$Observer))\n",
    "demographics <- participants %>%\n",
    "    mutate(Observer= str_replace(Observer, '(R|r)$', ''), # removing trailing R, which is present for some participants\n",
    "           gender= ifelse(str_detect(Observer, '(W|w)$'), 'female', 'male'),\n",
    "           birth.year= as.numeric(str_extract(Observer, '\\\\d{2,4}')),\n",
    "           birth.year= ifelse(birth.year<100, birth.year+1900, birth.year),\n",
    "           age= 2017-birth.year) %>%\n",
    "\n",
    "    group_by(gender) %>%\n",
    "    summarise(count= n(), \n",
    "              min.age= min(age),\n",
    "              max.age= max(age))\n",
    "\n",
    "demographics"
   ]
  },
  {
   "cell_type": "markdown",
   "metadata": {},
   "source": [
    "## Effectiveness of disambiguation cues\n",
    "Figure 2A in the manuscript"
   ]
  },
  {
   "cell_type": "code",
   "execution_count": 5,
   "metadata": {},
   "outputs": [
    {
     "data": {
      "text/html": [
       "<table>\n",
       "<thead><tr><th></th><th scope=col>Df</th><th scope=col>AIC</th><th scope=col>BIC</th><th scope=col>logLik</th><th scope=col>deviance</th><th scope=col>Chisq</th><th scope=col>Chi Df</th><th scope=col>Pr(&gt;Chisq)</th></tr></thead>\n",
       "<tbody>\n",
       "\t<tr><th scope=row>lm.null</th><td>3         </td><td>-168.0538 </td><td>-160.1789 </td><td>87.02692  </td><td>-174.0538 </td><td>      NA  </td><td>NA        </td><td>        NA</td></tr>\n",
       "\t<tr><th scope=row>lm.gap</th><td>5         </td><td>-166.3806 </td><td>-153.2557 </td><td>88.19030  </td><td>-176.3806 </td><td>2.326767  </td><td> 2        </td><td>0.31242732</td></tr>\n",
       "\t<tr><th scope=row>lm.shape</th><td>6         </td><td>-165.4221 </td><td>-149.6722 </td><td>88.71103  </td><td>-177.4221 </td><td>1.041448  </td><td> 1        </td><td>0.30748490</td></tr>\n",
       "\t<tr><th scope=row>lm.method</th><td>7         </td><td>-166.6950 </td><td>-148.3202 </td><td>90.34750  </td><td>-180.6950 </td><td>3.272951  </td><td> 1        </td><td>0.07043082</td></tr>\n",
       "</tbody>\n",
       "</table>\n"
      ],
      "text/latex": [
       "\\begin{tabular}{r|llllllll}\n",
       "  & Df & AIC & BIC & logLik & deviance & Chisq & Chi Df & Pr(>Chisq)\\\\\n",
       "\\hline\n",
       "\tlm.null & 3          & -168.0538  & -160.1789  & 87.02692   & -174.0538  &       NA   & NA         &         NA\\\\\n",
       "\tlm.gap & 5          & -166.3806  & -153.2557  & 88.19030   & -176.3806  & 2.326767   &  2         & 0.31242732\\\\\n",
       "\tlm.shape & 6          & -165.4221  & -149.6722  & 88.71103   & -177.4221  & 1.041448   &  1         & 0.30748490\\\\\n",
       "\tlm.method & 7          & -166.6950  & -148.3202  & 90.34750   & -180.6950  & 3.272951   &  1         & 0.07043082\\\\\n",
       "\\end{tabular}\n"
      ],
      "text/markdown": [
       "\n",
       "| <!--/--> | Df | AIC | BIC | logLik | deviance | Chisq | Chi Df | Pr(>Chisq) | \n",
       "|---|---|---|---|\n",
       "| lm.null | 3          | -168.0538  | -160.1789  | 87.02692   | -174.0538  |       NA   | NA         |         NA | \n",
       "| lm.gap | 5          | -166.3806  | -153.2557  | 88.19030   | -176.3806  | 2.326767   |  2         | 0.31242732 | \n",
       "| lm.shape | 6          | -165.4221  | -149.6722  | 88.71103   | -177.4221  | 1.041448   |  1         | 0.30748490 | \n",
       "| lm.method | 7          | -166.6950  | -148.3202  | 90.34750   | -180.6950  | 3.272951   |  1         | 0.07043082 | \n",
       "\n",
       "\n"
      ],
      "text/plain": [
       "          Df AIC       BIC       logLik   deviance  Chisq    Chi Df Pr(>Chisq)\n",
       "lm.null   3  -168.0538 -160.1789 87.02692 -174.0538       NA NA             NA\n",
       "lm.gap    5  -166.3806 -153.2557 88.19030 -176.3806 2.326767  2     0.31242732\n",
       "lm.shape  6  -165.4221 -149.6722 88.71103 -177.4221 1.041448  1     0.30748490\n",
       "lm.method 7  -166.6950 -148.3202 90.34750 -180.6950 3.272951  1     0.07043082"
      ]
     },
     "metadata": {},
     "output_type": "display_data"
    },
    {
     "data": {
      "image/png": "[encoded data removed]",
      "text/plain": [
       "plot without title"
      ]
     },
     "metadata": {},
     "output_type": "display_data"
    }
   ],
   "source": [
    "# disambiguation effect for each observer and gap x shape condition\n",
    "disambiguation <- reports %>%\n",
    "    dplyr::filter(Unambiguious != 'neither') %>% # considering only blocks with disambiguation cues\n",
    "    dplyr::mutate(biased.object.percept= ifelse(Unambiguious=='left', rotation.L, rotation.R)) %>% # selecting disambiguated object\n",
    "    dplyr::filter(is.finite(counter.rotation)) %>%\n",
    "    dplyr::group_by(Observer, Block, Gap, Shape, disambiguation.method) %>% # computing fraction of time observers reported that congruent percept in each block\n",
    "    dplyr::summarize(biased.fraction= sum(Duration[Direction == biased.object.percept])/sum(Duration)) %>%\n",
    "    dplyr::group_by(Observer, Gap, Shape, disambiguation.method) %>%\n",
    "    dplyr::summarize(biased.fraction= mean(biased.fraction))\n",
    "\n",
    "# looking at the effect of condition on disambiguation cues effectiveness\n",
    "lm.null <- lme4::lmer(biased.fraction ~ 1 + (1|Observer), data= disambiguation, REML= FALSE)\n",
    "lm.gap <- update(lm.null, .~. + Gap)\n",
    "lm.shape <- update(lm.gap, .~. + Shape)\n",
    "lm.method <- update(lm.shape, .~. + disambiguation.method)\n",
    "anova(lm.null, lm.shape, lm.gap, lm.method)\n",
    "\n",
    "disambiguation <- disambiguation %>%\n",
    "    dplyr::group_by(Observer, Gap, disambiguation.method) %>%\n",
    "    dplyr::summarize(biased.fraction= mean(biased.fraction))\n",
    "\n",
    "# plotting disambiguation effect per condition (gap x shape)\n",
    "disambiguation.plot <- ggplot(data= disambiguation, \n",
    "                              aes(x= interaction(Gap), y= biased.fraction))+\n",
    "    geom_boxplot(outlier.shape =  NA, width= 0.5 )+\n",
    "    geom_point(aes(color= Observer), position= position_dodge(width= 0.5))+\n",
    "    ylab('Pbias')+\n",
    "    xlab('Layout')+\n",
    "    facet_grid(. ~ disambiguation.method)+\n",
    "    theme(legend.position=\"none\", axis.title.x=element_blank())\n",
    "print(disambiguation.plot)"
   ]
  },
  {
   "cell_type": "markdown",
   "metadata": {},
   "source": [
    "## Computing fraction of time observers perceived _counter-rotation_ "
   ]
  },
  {
   "cell_type": "code",
   "execution_count": 6,
   "metadata": {},
   "outputs": [
    {
     "data": {
      "text/html": [
       "<table>\n",
       "<thead><tr><th></th><th scope=col>Df</th><th scope=col>AIC</th><th scope=col>BIC</th><th scope=col>logLik</th><th scope=col>deviance</th><th scope=col>Chisq</th><th scope=col>Chi Df</th><th scope=col>Pr(&gt;Chisq)</th></tr></thead>\n",
       "<tbody>\n",
       "\t<tr><th scope=row>lm.null</th><td> 3          </td><td>-18.05446   </td><td> -8.100098  </td><td>12.02723    </td><td>-24.05446   </td><td>        NA  </td><td>NA          </td><td>          NA</td></tr>\n",
       "\t<tr><th scope=row>lm.gap</th><td> 5          </td><td>-40.04029   </td><td>-23.449690  </td><td>25.02014    </td><td>-50.04029   </td><td>25.9858315  </td><td> 2          </td><td>2.276399e-06</td></tr>\n",
       "\t<tr><th scope=row>lm.shape</th><td> 6          </td><td>-45.11582   </td><td>-25.207103  </td><td>28.55791    </td><td>-57.11582   </td><td> 7.0755334  </td><td> 1          </td><td>7.814356e-03</td></tr>\n",
       "\t<tr><th scope=row>lm.ambiguity</th><td> 7          </td><td>-66.41777   </td><td>-43.190931  </td><td>40.20889    </td><td>-80.41777   </td><td>23.3019479  </td><td> 1          </td><td>1.384597e-06</td></tr>\n",
       "\t<tr><th scope=row>lm.disambiguation</th><td> 8          </td><td>-64.91518   </td><td>-38.370223  </td><td>40.45759    </td><td>-80.91518   </td><td> 0.4974115  </td><td> 1          </td><td>4.806397e-01</td></tr>\n",
       "\t<tr><th scope=row>lm.shape.layout</th><td>10          </td><td>-65.25840   </td><td>-32.077199  </td><td>42.62920    </td><td>-85.25840   </td><td> 4.3432160  </td><td> 2          </td><td>1.139942e-01</td></tr>\n",
       "</tbody>\n",
       "</table>\n"
      ],
      "text/latex": [
       "\\begin{tabular}{r|llllllll}\n",
       "  & Df & AIC & BIC & logLik & deviance & Chisq & Chi Df & Pr(>Chisq)\\\\\n",
       "\\hline\n",
       "\tlm.null &  3           & -18.05446    &  -8.100098   & 12.02723     & -24.05446    &         NA   & NA           &           NA\\\\\n",
       "\tlm.gap &  5           & -40.04029    & -23.449690   & 25.02014     & -50.04029    & 25.9858315   &  2           & 2.276399e-06\\\\\n",
       "\tlm.shape &  6           & -45.11582    & -25.207103   & 28.55791     & -57.11582    &  7.0755334   &  1           & 7.814356e-03\\\\\n",
       "\tlm.ambiguity &  7           & -66.41777    & -43.190931   & 40.20889     & -80.41777    & 23.3019479   &  1           & 1.384597e-06\\\\\n",
       "\tlm.disambiguation &  8           & -64.91518    & -38.370223   & 40.45759     & -80.91518    &  0.4974115   &  1           & 4.806397e-01\\\\\n",
       "\tlm.shape.layout & 10           & -65.25840    & -32.077199   & 42.62920     & -85.25840    &  4.3432160   &  2           & 1.139942e-01\\\\\n",
       "\\end{tabular}\n"
      ],
      "text/markdown": [
       "\n",
       "| <!--/--> | Df | AIC | BIC | logLik | deviance | Chisq | Chi Df | Pr(>Chisq) | \n",
       "|---|---|---|---|---|---|\n",
       "| lm.null |  3           | -18.05446    |  -8.100098   | 12.02723     | -24.05446    |         NA   | NA           |           NA | \n",
       "| lm.gap |  5           | -40.04029    | -23.449690   | 25.02014     | -50.04029    | 25.9858315   |  2           | 2.276399e-06 | \n",
       "| lm.shape |  6           | -45.11582    | -25.207103   | 28.55791     | -57.11582    |  7.0755334   |  1           | 7.814356e-03 | \n",
       "| lm.ambiguity |  7           | -66.41777    | -43.190931   | 40.20889     | -80.41777    | 23.3019479   |  1           | 1.384597e-06 | \n",
       "| lm.disambiguation |  8           | -64.91518    | -38.370223   | 40.45759     | -80.91518    |  0.4974115   |  1           | 4.806397e-01 | \n",
       "| lm.shape.layout | 10           | -65.25840    | -32.077199   | 42.62920     | -85.25840    |  4.3432160   |  2           | 1.139942e-01 | \n",
       "\n",
       "\n"
      ],
      "text/plain": [
       "                  Df AIC       BIC        logLik   deviance  Chisq      Chi Df\n",
       "lm.null            3 -18.05446  -8.100098 12.02723 -24.05446         NA NA    \n",
       "lm.gap             5 -40.04029 -23.449690 25.02014 -50.04029 25.9858315  2    \n",
       "lm.shape           6 -45.11582 -25.207103 28.55791 -57.11582  7.0755334  1    \n",
       "lm.ambiguity       7 -66.41777 -43.190931 40.20889 -80.41777 23.3019479  1    \n",
       "lm.disambiguation  8 -64.91518 -38.370223 40.45759 -80.91518  0.4974115  1    \n",
       "lm.shape.layout   10 -65.25840 -32.077199 42.62920 -85.25840  4.3432160  2    \n",
       "                  Pr(>Chisq)  \n",
       "lm.null                     NA\n",
       "lm.gap            2.276399e-06\n",
       "lm.shape          7.814356e-03\n",
       "lm.ambiguity      1.384597e-06\n",
       "lm.disambiguation 4.806397e-01\n",
       "lm.shape.layout   1.139942e-01"
      ]
     },
     "metadata": {},
     "output_type": "display_data"
    }
   ],
   "source": [
    "# computing fraction of time observers reported counter-rotation throughout each block\n",
    "counter.rotation <- reports %>%\n",
    "    dplyr::filter(is.finite(counter.rotation)) %>%\n",
    "    dplyr::group_by(Observer, Block, Shape, Gap, ambiguity, disambiguation.method) %>%\n",
    "    dplyr::summarize(fraction= sum(Duration[counter.rotation])/sum(Duration)) %>%\n",
    "    dplyr::group_by(Observer, Shape, Gap, ambiguity, disambiguation.method) %>%\n",
    "    dplyr::summarize(fraction= mean(fraction))\n",
    "\n",
    "# converting everything to factors for analysis\n",
    "counter.rotation <- data.frame(counter.rotation)\n",
    "counter.rotation$Gap <- as.factor(counter.rotation$Gap)\n",
    "counter.rotation$ambiguity <- as.factor(counter.rotation$ambiguity)\n",
    "counter.rotation$Shape <- as.factor(counter.rotation$Shape)\n",
    "counter.rotation$disambiguation.method <- as.factor(counter.rotation$disambiguation.method)\n",
    "\n",
    "# same by using multilevel apporach via linear-mixed models\n",
    "lm.null <- lme4::lmer(fraction ~ 1 + (1|Observer), data= counter.rotation, REML= FALSE)\n",
    "lm.gap <- update(lm.null, .~.+Gap)\n",
    "lm.shape <- update(lm.gap, .~.+Shape)\n",
    "lm.ambiguity <- update(lm.shape, .~.+ambiguity)\n",
    "lm.disambiguation <- update(lm.ambiguity, .~. + disambiguation.method)\n",
    "lm.shape.layout <- update(lm.disambiguation, .~. + Shape*Gap)\n",
    "anova(lm.null, lm.shape, lm.gap, lm.ambiguity, lm.disambiguation, lm.shape.layout)"
   ]
  },
  {
   "cell_type": "markdown",
   "metadata": {},
   "source": [
    "### Plotting all conditions  together for a birds-eye view\n",
    "Figure 2B in the manuscript"
   ]
  },
  {
   "cell_type": "code",
   "execution_count": 7,
   "metadata": {},
   "outputs": [
    {
     "data": {
      "image/png": "[encoded data removed]",
      "text/plain": [
       "plot without title"
      ]
     },
     "metadata": {},
     "output_type": "display_data"
    }
   ],
   "source": [
    "overall.averages <- counter.rotation %>%\n",
    "    dplyr::group_by(Shape, Gap, ambiguity) %>%\n",
    "    dplyr::summarise(P.counter_rotation= mean(fraction), \n",
    "                     P.serr= sd(fraction)/sqrt(n()-1), \n",
    "                     P.25=  quantile(fraction)[2],\n",
    "                     P.75= quantile(fraction)[4])\n",
    "\n",
    "overall.plot <- ggplot(data= overall.averages, aes(x= Gap, y= P.counter_rotation,\n",
    "                                                  ymin= P.counter_rotation-P.serr, ymax= P.counter_rotation + P.serr,\n",
    "                                                  group= interaction(Shape, ambiguity), color= Shape, shape= ambiguity,\n",
    "                                                  linetype = ambiguity)) + \n",
    "    geom_line() + \n",
    "    geom_errorbar(width=0.2) + \n",
    "    geom_point(size= 4)+\n",
    "    theme(legend.position=\"none\", axis.title.x=element_blank())+\n",
    "    xlab('Pcounter-rotation')+\n",
    "    scale_shape_manual(values = c(1, 16))\n",
    "\n",
    "\n",
    "print(overall.plot)\n",
    "ggsave('Figures/Exp1 - overall.pdf', overall.plot, width= 6, height= 6.5, units = 'cm', useDingbats = FALSE)"
   ]
  },
  {
   "cell_type": "markdown",
   "metadata": {},
   "source": [
    "### Plotting main effect of the gap\n",
    "Figure 2C"
   ]
  },
  {
   "cell_type": "code",
   "execution_count": 8,
   "metadata": {},
   "outputs": [
    {
     "data": {
      "text/plain": [
       "Linear mixed model fit by REML t-tests use Satterthwaite approximations to\n",
       "  degrees of freedom [lmerMod]\n",
       "Formula: fraction ~ Gap + (1 | Observer)\n",
       "   Data: counter.rotation\n",
       "\n",
       "REML criterion at convergence: -34.4\n",
       "\n",
       "Scaled residuals: \n",
       "     Min       1Q   Median       3Q      Max \n",
       "-2.36887 -0.73081 -0.03676  0.70952  2.88215 \n",
       "\n",
       "Random effects:\n",
       " Groups   Name        Variance Std.Dev.\n",
       " Observer (Intercept) 0.005957 0.07718 \n",
       " Residual             0.042850 0.20700 \n",
       "Number of obs: 204, groups:  Observer, 17\n",
       "\n",
       "Fixed effects:\n",
       "             Estimate Std. Error        df t value Pr(>|t|)    \n",
       "(Intercept)   0.23913    0.03131  46.70000   7.636 9.29e-10 ***\n",
       "Gaptouching   0.10995    0.03550 185.00000   3.097  0.00226 ** \n",
       "Gapgap        0.18537    0.03550 185.00000   5.222 4.74e-07 ***\n",
       "---\n",
       "Signif. codes:  0 '***' 0.001 '**' 0.01 '*' 0.05 '.' 0.1 ' ' 1\n",
       "\n",
       "Correlation of Fixed Effects:\n",
       "            (Intr) Gptchn\n",
       "Gaptouching -0.567       \n",
       "Gapgap      -0.567  0.500"
      ]
     },
     "metadata": {},
     "output_type": "display_data"
    },
    {
     "data": {
      "text/html": [
       "<table>\n",
       "<thead><tr><th scope=col>Estimate</th><th scope=col>Std.Error</th><th scope=col>df</th><th scope=col>t.value</th><th scope=col>p.value</th><th scope=col>R.sqr</th></tr></thead>\n",
       "<tbody>\n",
       "\t<tr><td>0.2391291   </td><td>0.03131409  </td><td> 46.70485   </td><td>7.636471    </td><td>9.285250e-10</td><td>0.7451704   </td></tr>\n",
       "\t<tr><td>0.1099462   </td><td>0.03550060  </td><td>185.00009   </td><td>3.097023    </td><td>2.259193e-03</td><td>0.2220150   </td></tr>\n",
       "\t<tr><td>0.1853681   </td><td>0.03550060  </td><td>185.00009   </td><td>5.221548    </td><td>4.743265e-07</td><td>0.3583937   </td></tr>\n",
       "</tbody>\n",
       "</table>\n"
      ],
      "text/latex": [
       "\\begin{tabular}{r|llllll}\n",
       " Estimate & Std.Error & df & t.value & p.value & R.sqr\\\\\n",
       "\\hline\n",
       "\t 0.2391291    & 0.03131409   &  46.70485    & 7.636471     & 9.285250e-10 & 0.7451704   \\\\\n",
       "\t 0.1099462    & 0.03550060   & 185.00009    & 3.097023     & 2.259193e-03 & 0.2220150   \\\\\n",
       "\t 0.1853681    & 0.03550060   & 185.00009    & 5.221548     & 4.743265e-07 & 0.3583937   \\\\\n",
       "\\end{tabular}\n"
      ],
      "text/markdown": [
       "\n",
       "Estimate | Std.Error | df | t.value | p.value | R.sqr | \n",
       "|---|---|---|\n",
       "| 0.2391291    | 0.03131409   |  46.70485    | 7.636471     | 9.285250e-10 | 0.7451704    | \n",
       "| 0.1099462    | 0.03550060   | 185.00009    | 3.097023     | 2.259193e-03 | 0.2220150    | \n",
       "| 0.1853681    | 0.03550060   | 185.00009    | 5.221548     | 4.743265e-07 | 0.3583937    | \n",
       "\n",
       "\n"
      ],
      "text/plain": [
       "  Estimate  Std.Error  df        t.value  p.value      R.sqr    \n",
       "1 0.2391291 0.03131409  46.70485 7.636471 9.285250e-10 0.7451704\n",
       "2 0.1099462 0.03550060 185.00009 3.097023 2.259193e-03 0.2220150\n",
       "3 0.1853681 0.03550060 185.00009 5.221548 4.743265e-07 0.3583937"
      ]
     },
     "metadata": {},
     "output_type": "display_data"
    },
    {
     "data": {
      "image/png": "[encoded data removed]",
      "text/plain": [
       "plot without title"
      ]
     },
     "metadata": {},
     "output_type": "display_data"
    }
   ],
   "source": [
    "rcontrast<-function(t, df) {\n",
    "    return (sqrt(t^2/(t^2 + df)))\n",
    "}\n",
    "\n",
    "gap.df <- counter.rotation %>%\n",
    "    dplyr::group_by(Observer, Gap, disambiguation.method) %>%\n",
    "    dplyr::summarize(fraction= mean(fraction))\n",
    "\n",
    "# using gap as the only factor in LMER\n",
    "gap.as.only.factor <- lmerTest::lmer(fraction ~ Gap + (1|Observer), data= counter.rotation)\n",
    "summary(gap.as.only.factor)\n",
    "coefficients.only <- data.frame(summary(gap.as.only.factor)$coefficients)\n",
    "colnames(coefficients.only) <- c('Estimate', 'Std.Error', 'df', 't.value', 'p.value')\n",
    "dplyr::mutate(coefficients.only, R.sqr= rcontrast(t.value, df))\n",
    "\n",
    "gap.plot <- ggplot(data= gap.df, aes(x= Gap, y= fraction))+\n",
    "    geom_boxplot(outlier.shape =  NA, width= 0.5)+\n",
    "    geom_point(aes(color= Observer, shape= disambiguation.method), , position= position_dodge(width= 0.5))+\n",
    "    ylim(0, 0.7)+\n",
    "    ylab('Pcounter-rotation')+\n",
    "    xlab('Layout')+\n",
    "    theme(legend.position=\"none\")\n",
    "print(gap.plot)\n",
    "ggsave('Figures/Exp1 - main effect of gap.pdf', gap.plot, width= 6, height= 6.5, units = 'cm',  useDingbats = FALSE)"
   ]
  },
  {
   "cell_type": "markdown",
   "metadata": {},
   "source": [
    "### Plotting main effect of the ambiguity\n",
    "Figure 2D"
   ]
  },
  {
   "cell_type": "code",
   "execution_count": 9,
   "metadata": {},
   "outputs": [
    {
     "data": {
      "text/plain": [
       "Linear mixed model fit by REML t-tests use Satterthwaite approximations to\n",
       "  degrees of freedom [lmerMod]\n",
       "Formula: fraction ~ ambiguity + (1 | Observer)\n",
       "   Data: counter.rotation\n",
       "\n",
       "REML criterion at convergence: -32.5\n",
       "\n",
       "Scaled residuals: \n",
       "    Min      1Q  Median      3Q     Max \n",
       "-1.8222 -0.8023 -0.0684  0.6523  3.5657 \n",
       "\n",
       "Random effects:\n",
       " Groups   Name        Variance Std.Dev.\n",
       " Observer (Intercept) 0.005848 0.07647 \n",
       " Residual             0.044165 0.21016 \n",
       "Number of obs: 204, groups:  Observer, 17\n",
       "\n",
       "Fixed effects:\n",
       "              Estimate Std. Error        df t value Pr(>|t|)    \n",
       "(Intercept)    0.27136    0.02787  30.36000   9.735 7.53e-11 ***\n",
       "ambiguityone   0.13242    0.02943 186.00000   4.500 1.20e-05 ***\n",
       "---\n",
       "Signif. codes:  0 '***' 0.001 '**' 0.01 '*' 0.05 '.' 0.1 ' ' 1\n",
       "\n",
       "Correlation of Fixed Effects:\n",
       "            (Intr)\n",
       "ambiguityon -0.528"
      ]
     },
     "metadata": {},
     "output_type": "display_data"
    },
    {
     "data": {
      "text/html": [
       "<table>\n",
       "<thead><tr><th scope=col>Estimate</th><th scope=col>Std.Error</th><th scope=col>df</th><th scope=col>t.value</th><th scope=col>p.value</th><th scope=col>R.sqr</th></tr></thead>\n",
       "<tbody>\n",
       "\t<tr><td>0.2713583   </td><td>0.02787422  </td><td> 30.35848   </td><td>9.735101    </td><td>7.531087e-11</td><td>0.8702791   </td></tr>\n",
       "\t<tr><td>0.1324177   </td><td>0.02942770  </td><td>186.00009   </td><td>4.499766    </td><td>1.196642e-05</td><td>0.3133250   </td></tr>\n",
       "</tbody>\n",
       "</table>\n"
      ],
      "text/latex": [
       "\\begin{tabular}{r|llllll}\n",
       " Estimate & Std.Error & df & t.value & p.value & R.sqr\\\\\n",
       "\\hline\n",
       "\t 0.2713583    & 0.02787422   &  30.35848    & 9.735101     & 7.531087e-11 & 0.8702791   \\\\\n",
       "\t 0.1324177    & 0.02942770   & 186.00009    & 4.499766     & 1.196642e-05 & 0.3133250   \\\\\n",
       "\\end{tabular}\n"
      ],
      "text/markdown": [
       "\n",
       "Estimate | Std.Error | df | t.value | p.value | R.sqr | \n",
       "|---|---|\n",
       "| 0.2713583    | 0.02787422   |  30.35848    | 9.735101     | 7.531087e-11 | 0.8702791    | \n",
       "| 0.1324177    | 0.02942770   | 186.00009    | 4.499766     | 1.196642e-05 | 0.3133250    | \n",
       "\n",
       "\n"
      ],
      "text/plain": [
       "  Estimate  Std.Error  df        t.value  p.value      R.sqr    \n",
       "1 0.2713583 0.02787422  30.35848 9.735101 7.531087e-11 0.8702791\n",
       "2 0.1324177 0.02942770 186.00009 4.499766 1.196642e-05 0.3133250"
      ]
     },
     "metadata": {},
     "output_type": "display_data"
    },
    {
     "data": {
      "image/png": "[encoded data removed]",
      "text/plain": [
       "plot without title"
      ]
     },
     "metadata": {},
     "output_type": "display_data"
    }
   ],
   "source": [
    "amb.df <- counter.rotation %>%\n",
    "    dplyr::group_by(Observer, ambiguity, disambiguation.method) %>%\n",
    "    dplyr::summarize(fraction= mean(fraction))\n",
    "\n",
    "# using ambiguity as the only factor in LMER\n",
    "ambiguity.as.only.factor <- lmerTest::lmer(fraction ~ ambiguity + (1|Observer), data= counter.rotation)\n",
    "summary(ambiguity.as.only.factor)\n",
    "coefficients.only <- data.frame(summary(ambiguity.as.only.factor)$coefficients)\n",
    "colnames(coefficients.only) <- c('Estimate', 'Std.Error', 'df', 't.value', 'p.value')\n",
    "dplyr::mutate(coefficients.only, R.sqr= rcontrast(t.value, df))\n",
    "\n",
    "amb.plot <- ggplot(data= amb.df, aes(x= ambiguity, y= fraction))+\n",
    "    geom_boxplot(outlier.shape = NA, width= 0.5)+\n",
    "    geom_point(aes(color= Observer, shape= disambiguation.method), position = position_dodge(width= 0.5))+\n",
    "    ylim(0, 0.7)+\n",
    "    ylab('Pcounter-rotation')+\n",
    "    theme(legend.position=\"none\")\n",
    "print(amb.plot)\n",
    "ggsave('Figures/Exp1 - main effect of ambiguity.pdf', amb.plot, width= 4.5, height= 6.5, units = 'cm',  useDingbats = FALSE)"
   ]
  },
  {
   "cell_type": "markdown",
   "metadata": {},
   "source": [
    "### Plotting main effect of the shape\n",
    "Figure 2E"
   ]
  },
  {
   "cell_type": "code",
   "execution_count": 10,
   "metadata": {},
   "outputs": [
    {
     "data": {
      "text/plain": [
       "Linear mixed model fit by REML t-tests use Satterthwaite approximations to\n",
       "  degrees of freedom [lmerMod]\n",
       "Formula: fraction ~ Shape + (1 | Observer)\n",
       "   Data: counter.rotation\n",
       "\n",
       "REML criterion at convergence: -19.4\n",
       "\n",
       "Scaled residuals: \n",
       "    Min      1Q  Median      3Q     Max \n",
       "-2.0085 -0.8024  0.0078  0.6387  3.3082 \n",
       "\n",
       "Random effects:\n",
       " Groups   Name        Variance Std.Dev.\n",
       " Observer (Intercept) 0.005579 0.07469 \n",
       " Residual             0.047391 0.21769 \n",
       "Number of obs: 204, groups:  Observer, 17\n",
       "\n",
       "Fixed effects:\n",
       "             Estimate Std. Error        df t value Pr(>|t|)    \n",
       "(Intercept)   0.37555    0.02816  31.55000  13.338 1.64e-14 ***\n",
       "Shapesphere  -0.07597    0.03048 186.00000  -2.492   0.0136 *  \n",
       "---\n",
       "Signif. codes:  0 '***' 0.001 '**' 0.01 '*' 0.05 '.' 0.1 ' ' 1\n",
       "\n",
       "Correlation of Fixed Effects:\n",
       "            (Intr)\n",
       "Shapesphere -0.541"
      ]
     },
     "metadata": {},
     "output_type": "display_data"
    },
    {
     "data": {
      "text/html": [
       "<table>\n",
       "<thead><tr><th scope=col>Estimate</th><th scope=col>Std.Error</th><th scope=col>df</th><th scope=col>t.value</th><th scope=col>p.value</th><th scope=col>R.sqr</th></tr></thead>\n",
       "<tbody>\n",
       "\t<tr><td> 0.37555200 </td><td>0.02815640  </td><td> 31.54606   </td><td>13.338070   </td><td>1.643130e-14</td><td>0.9216216   </td></tr>\n",
       "\t<tr><td>-0.07596955 </td><td>0.03048331  </td><td>186.00008   </td><td>-2.492169   </td><td>1.357104e-02</td><td>0.1797581   </td></tr>\n",
       "</tbody>\n",
       "</table>\n"
      ],
      "text/latex": [
       "\\begin{tabular}{r|llllll}\n",
       " Estimate & Std.Error & df & t.value & p.value & R.sqr\\\\\n",
       "\\hline\n",
       "\t  0.37555200  & 0.02815640   &  31.54606    & 13.338070    & 1.643130e-14 & 0.9216216   \\\\\n",
       "\t -0.07596955  & 0.03048331   & 186.00008    & -2.492169    & 1.357104e-02 & 0.1797581   \\\\\n",
       "\\end{tabular}\n"
      ],
      "text/markdown": [
       "\n",
       "Estimate | Std.Error | df | t.value | p.value | R.sqr | \n",
       "|---|---|\n",
       "|  0.37555200  | 0.02815640   |  31.54606    | 13.338070    | 1.643130e-14 | 0.9216216    | \n",
       "| -0.07596955  | 0.03048331   | 186.00008    | -2.492169    | 1.357104e-02 | 0.1797581    | \n",
       "\n",
       "\n"
      ],
      "text/plain": [
       "  Estimate    Std.Error  df        t.value   p.value      R.sqr    \n",
       "1  0.37555200 0.02815640  31.54606 13.338070 1.643130e-14 0.9216216\n",
       "2 -0.07596955 0.03048331 186.00008 -2.492169 1.357104e-02 0.1797581"
      ]
     },
     "metadata": {},
     "output_type": "display_data"
    },
    {
     "data": {
      "image/png": "[encoded data removed]",
      "text/plain": [
       "plot without title"
      ]
     },
     "metadata": {},
     "output_type": "display_data"
    }
   ],
   "source": [
    "shape.df <- counter.rotation %>%\n",
    "    dplyr::group_by(Observer, Shape, disambiguation.method) %>%\n",
    "    dplyr::summarize(fraction= mean(fraction))\n",
    "\n",
    "# using shape as the only factor in LMER\n",
    "shape.as.only.factor <- lmerTest::lmer(fraction ~ Shape + (1|Observer), data= counter.rotation)\n",
    "summary(shape.as.only.factor)\n",
    "coefficients.only <- data.frame(summary(shape.as.only.factor)$coefficients)\n",
    "colnames(coefficients.only) <- c('Estimate', 'Std.Error', 'df', 't.value', 'p.value')\n",
    "dplyr::mutate(coefficients.only, R.sqr= rcontrast(t.value, df))\n",
    "\n",
    "\n",
    "shape.plot <- ggplot(data= shape.df, aes(x= Shape, y= fraction))+\n",
    "    geom_boxplot(outlier.shape = NA, width= 0.5)+\n",
    "    geom_point(aes(color= Observer, shape= disambiguation.method), position = position_dodge(width= 0.5))+\n",
    "    ylim(0, 0.7)+\n",
    "    ylab('Pcounter-rotation')+\n",
    "    theme(legend.position=\"none\")\n",
    "print(shape.plot)\n",
    "ggsave('Figures/Exp1 - main effect of shape.pdf', shape.plot, width= 4.5, height= 6.5, units = 'cm',  useDingbats = FALSE)"
   ]
  },
  {
   "cell_type": "markdown",
   "metadata": {},
   "source": [
    "## Evaluating perceptual trapping and simultaneity of perceptual reversals in two objects \n",
    "This is __Figure 3__ in the manuscript.\n",
    "\n",
    "\n",
    "Marking out perceptual switches in individual objects"
   ]
  },
  {
   "cell_type": "code",
   "execution_count": 11,
   "metadata": {},
   "outputs": [],
   "source": [
    "mark.perceptual.switch.but.not.onset.or.offset <- function(Pprev, Pcurrent){\n",
    "    # Computes whether the object's perceptual state switch, but ignores onset and offset events\n",
    "    Pprev[Pprev==0] <- NA\n",
    "    Pcurrent[Pcurrent==0] <- NA\n",
    "    return(Pprev!=Pcurrent)\n",
    "}\n",
    "\n",
    "reports <- reports %>% \n",
    "    # marking out switches for the left and for the right object separately\n",
    "    group_by(Observer, Block) %>%\n",
    "    mutate(iTrial= 1:n(), \n",
    "           left.switch= mark.perceptual.switch.but.not.onset.or.offset(lag(rotation.L, order_by = iTrial), rotation.L),\n",
    "           right.switch= mark.perceptual.switch.but.not.onset.or.offset(lag(rotation.R, order_by = iTrial), rotation.R),\n",
    "           both.switch= left.switch & right.switch)"
   ]
  },
  {
   "cell_type": "markdown",
   "metadata": {},
   "source": [
    "Computing dominance phase duration for each object separately"
   ]
  },
  {
   "cell_type": "code",
   "execution_count": 12,
   "metadata": {},
   "outputs": [],
   "source": [
    "compute.dominance.phase.duration <- function(time, percept){\n",
    "    # first NA, because we are not interested in a change from \"no report\" to reported perception\n",
    "    changes= which(c(NA, abs(diff(percept))>0))\n",
    "    duration <- rep(NA, length(time))\n",
    "    for (iSwitch in 1:(length(changes)-1)){\n",
    "        duration[changes[iSwitch]] <- time[changes[iSwitch+1]]-time[changes[iSwitch]];\n",
    "    }\n",
    "    \n",
    "    return (duration)\n",
    "}\n",
    "\n",
    "reports <- reports %>%\n",
    "    group_by(Observer, Block) %>%\n",
    "    mutate(D.left= compute.dominance.phase.duration(Time, rotation.L), \n",
    "           D.right= compute.dominance.phase.duration(Time, rotation.R))"
   ]
  },
  {
   "cell_type": "markdown",
   "metadata": {},
   "source": [
    "Selecting blocks that have at least 5 switches for each object"
   ]
  },
  {
   "cell_type": "code",
   "execution_count": 13,
   "metadata": {},
   "outputs": [
    {
     "name": "stdout",
     "output_type": "stream",
     "text": [
      "Number of eligible blocks: 123\n",
      "Number of eligible participants: 15\n"
     ]
    }
   ],
   "source": [
    "minimal.switch.count <- 5\n",
    "eligible.blocks <- reports %>%\n",
    "    # counting number of switches per object\n",
    "    group_by(Observer, Block) %>%\n",
    "    filter(is.finite(counter.rotation)) %>%\n",
    "    summarise(left.switch.count= sum(left.switch, na.rm= TRUE), \n",
    "              right.switch.count= sum(right.switch, na.rm= TRUE), \n",
    "              mean.switch.count= mean(c(left.switch.count, right.switch.count)),\n",
    "              sim.switch.prop= sum(left.switch==TRUE & right.switch==TRUE, na.rm= TRUE)/sum(is.finite(left.switch)),\n",
    "              counter.rotation.prop= sum(Duration[counter.rotation])/sum(Duration, na.rm = TRUE),\n",
    "              disbalance= abs(counter.rotation.prop-0.5),\n",
    "              balanced= (counter.rotation.prop>0.25) & (counter.rotation.prop<0.75)) %>%\n",
    "\n",
    "    # retaining only the blocks with at least minimal.switch.count switches \n",
    "    filter(left.switch.count>= minimal.switch.count & \n",
    "           right.switch.count>= minimal.switch.count)\n",
    "\n",
    "cat(sprintf('Number of eligible blocks: %d\\n', nrow(eligible.blocks)))\n",
    "cat(sprintf('Number of eligible participants: %d\\n', length(unique(eligible.blocks$Observer))))"
   ]
  },
  {
   "cell_type": "code",
   "execution_count": 14,
   "metadata": {},
   "outputs": [
    {
     "data": {
      "text/plain": [
       "Linear mixed model fit by REML t-tests use Satterthwaite approximations to\n",
       "  degrees of freedom [lmerMod]\n",
       "Formula: sim.switch.prop ~ disbalance + (1 | Observer)\n",
       "   Data: eligible.blocks\n",
       "\n",
       "REML criterion at convergence: -67.9\n",
       "\n",
       "Scaled residuals: \n",
       "    Min      1Q  Median      3Q     Max \n",
       "-2.3809 -0.5877  0.0618  0.6575  3.3082 \n",
       "\n",
       "Random effects:\n",
       " Groups   Name        Variance Std.Dev.\n",
       " Observer (Intercept) 0.004091 0.06396 \n",
       " Residual             0.029389 0.17143 \n",
       "Number of obs: 123, groups:  Observer, 15\n",
       "\n",
       "Fixed effects:\n",
       "            Estimate Std. Error       df t value Pr(>|t|)    \n",
       "(Intercept)   0.1883     0.0401  39.6000   4.696 3.16e-05 ***\n",
       "disbalance    1.2808     0.1007 118.5300  12.721  < 2e-16 ***\n",
       "---\n",
       "Signif. codes:  0 '***' 0.001 '**' 0.01 '*' 0.05 '.' 0.1 ' ' 1\n",
       "\n",
       "Correlation of Fixed Effects:\n",
       "           (Intr)\n",
       "disbalance -0.801"
      ]
     },
     "metadata": {},
     "output_type": "display_data"
    },
    {
     "data": {
      "text/html": [
       "<table>\n",
       "<thead><tr><th scope=col>Estimate</th><th scope=col>Std.Error</th><th scope=col>df</th><th scope=col>t.value</th><th scope=col>p.value</th><th scope=col>R.sqr</th></tr></thead>\n",
       "<tbody>\n",
       "\t<tr><td>0.1882947   </td><td>0.04009678  </td><td> 39.60212   </td><td> 4.696005   </td><td>3.160618e-05</td><td>0.5980616   </td></tr>\n",
       "\t<tr><td>1.2807855   </td><td>0.10068228  </td><td>118.53350   </td><td>12.721062   </td><td>0.000000e+00</td><td>0.7597421   </td></tr>\n",
       "</tbody>\n",
       "</table>\n"
      ],
      "text/latex": [
       "\\begin{tabular}{r|llllll}\n",
       " Estimate & Std.Error & df & t.value & p.value & R.sqr\\\\\n",
       "\\hline\n",
       "\t 0.1882947    & 0.04009678   &  39.60212    &  4.696005    & 3.160618e-05 & 0.5980616   \\\\\n",
       "\t 1.2807855    & 0.10068228   & 118.53350    & 12.721062    & 0.000000e+00 & 0.7597421   \\\\\n",
       "\\end{tabular}\n"
      ],
      "text/markdown": [
       "\n",
       "Estimate | Std.Error | df | t.value | p.value | R.sqr | \n",
       "|---|---|\n",
       "| 0.1882947    | 0.04009678   |  39.60212    |  4.696005    | 3.160618e-05 | 0.5980616    | \n",
       "| 1.2807855    | 0.10068228   | 118.53350    | 12.721062    | 0.000000e+00 | 0.7597421    | \n",
       "\n",
       "\n"
      ],
      "text/plain": [
       "  Estimate  Std.Error  df        t.value   p.value      R.sqr    \n",
       "1 0.1882947 0.04009678  39.60212  4.696005 3.160618e-05 0.5980616\n",
       "2 1.2807855 0.10068228 118.53350 12.721062 0.000000e+00 0.7597421"
      ]
     },
     "metadata": {},
     "output_type": "display_data"
    },
    {
     "data": {
      "image/png": "[encoded data removed]",
      "text/plain": [
       "plot without title"
      ]
     },
     "metadata": {},
     "output_type": "display_data"
    }
   ],
   "source": [
    "sim.switch.model <- lmerTest::lmer(sim.switch.prop ~ disbalance + (1|Observer), data= eligible.blocks)\n",
    "summary(sim.switch.model)\n",
    "coefficients.only <- data.frame(summary(sim.switch.model)$coefficients)\n",
    "colnames(coefficients.only) <- c('Estimate', 'Std.Error', 'df', 't.value', 'p.value')\n",
    "dplyr::mutate(coefficients.only, R.sqr= rcontrast(t.value, df))\n",
    "\n",
    "# summary(lmerTest::lmer(sim.switch.prop ~ disbalance + (1|Observer), data= eligible.blocks))\n",
    "\n",
    "coupling.vs.sim.switches.plot <- ggplot(data= eligible.blocks, aes(x= 100*counter.rotation.prop, y= 100*sim.switch.prop)) +\n",
    "#     geom_point(aes(fill= Observer, size= mean.switch.count, color= balanced), pch=21)+\n",
    "    geom_point(aes(color= Observer, size= mean.switch.count))+\n",
    "    geom_smooth(color= 'black', method='loess')+\n",
    "    scale_colour_discrete(guide = FALSE) +\n",
    "#     scale_colour_manual(values=c('#FFFFFF00', '#000000FF'))+\n",
    "    xlab('Pcounter-rotation')\n",
    "print(coupling.vs.sim.switches.plot)\n",
    "ggsave('Figures/Exp1 - independent switching versus coupling.pdf', coupling.vs.sim.switches.plot, width= 13, height= 7.5, units = 'cm',  useDingbats = FALSE)"
   ]
  },
  {
   "cell_type": "markdown",
   "metadata": {},
   "source": [
    "Looking whether perceptual trapping makes ambiguous objects more or less stable by counting a mean number of perceptual switches"
   ]
  },
  {
   "cell_type": "code",
   "execution_count": 180,
   "metadata": {},
   "outputs": [
    {
     "data": {
      "text/plain": [
       "Linear mixed model fit by REML t-tests use Satterthwaite approximations to\n",
       "  degrees of freedom [lmerMod]\n",
       "Formula: mean.switch.count ~ disbalance + (1 | Observer)\n",
       "   Data: all.blocks\n",
       "\n",
       "REML criterion at convergence: 1158.6\n",
       "\n",
       "Scaled residuals: \n",
       "    Min      1Q  Median      3Q     Max \n",
       "-2.0060 -0.5911 -0.1744  0.3853  4.4141 \n",
       "\n",
       "Random effects:\n",
       " Groups   Name        Variance Std.Dev.\n",
       " Observer (Intercept) 13.10    3.619   \n",
       " Residual             17.35    4.165   \n",
       "Number of obs: 198, groups:  Observer, 17\n",
       "\n",
       "Fixed effects:\n",
       "            Estimate Std. Error      df t value Pr(>|t|)   \n",
       "(Intercept)    3.990      1.138  33.900   3.506  0.00130 **\n",
       "disbalance     5.354      1.991 188.520   2.689  0.00781 **\n",
       "---\n",
       "Signif. codes:  0 '***' 0.001 '**' 0.01 '*' 0.05 '.' 0.1 ' ' 1\n",
       "\n",
       "Correlation of Fixed Effects:\n",
       "           (Intr)\n",
       "disbalance -0.579"
      ]
     },
     "metadata": {},
     "output_type": "display_data"
    },
    {
     "data": {
      "text/html": [
       "<table>\n",
       "<thead><tr><th scope=col>Estimate</th><th scope=col>Std.Error</th><th scope=col>df</th><th scope=col>t.value</th><th scope=col>p.value</th><th scope=col>R.sqr</th></tr></thead>\n",
       "<tbody>\n",
       "\t<tr><td>3.989935   </td><td>1.137919   </td><td> 33.90031  </td><td>3.506344   </td><td>0.001301353</td><td>0.5158913  </td></tr>\n",
       "\t<tr><td>5.354335   </td><td>1.991144   </td><td>188.51674  </td><td>2.689075   </td><td>0.007807304</td><td>0.1922005  </td></tr>\n",
       "</tbody>\n",
       "</table>\n"
      ],
      "text/latex": [
       "\\begin{tabular}{r|llllll}\n",
       " Estimate & Std.Error & df & t.value & p.value & R.sqr\\\\\n",
       "\\hline\n",
       "\t 3.989935    & 1.137919    &  33.90031   & 3.506344    & 0.001301353 & 0.5158913  \\\\\n",
       "\t 5.354335    & 1.991144    & 188.51674   & 2.689075    & 0.007807304 & 0.1922005  \\\\\n",
       "\\end{tabular}\n"
      ],
      "text/markdown": [
       "\n",
       "Estimate | Std.Error | df | t.value | p.value | R.sqr | \n",
       "|---|---|\n",
       "| 3.989935    | 1.137919    |  33.90031   | 3.506344    | 0.001301353 | 0.5158913   | \n",
       "| 5.354335    | 1.991144    | 188.51674   | 2.689075    | 0.007807304 | 0.1922005   | \n",
       "\n",
       "\n"
      ],
      "text/plain": [
       "  Estimate Std.Error df        t.value  p.value     R.sqr    \n",
       "1 3.989935 1.137919   33.90031 3.506344 0.001301353 0.5158913\n",
       "2 5.354335 1.991144  188.51674 2.689075 0.007807304 0.1922005"
      ]
     },
     "metadata": {},
     "output_type": "display_data"
    }
   ],
   "source": [
    "ambiguous.blocks <- reports %>%\n",
    "    filter(Unambiguious == 'neither') %>%\n",
    "    filter(is.finite(counter.rotation)) %>%\n",
    "    # counting number of switches per object\n",
    "    group_by(Observer, Block) %>%\n",
    "    summarise(left.switch.count= ifelse(unambiguous.L[1], NA, sum(left.switch, na.rm= TRUE)), # ignoring disambiguated object\n",
    "              right.switch.count= ifelse(unambiguous.R[1], NA, sum(right.switch, na.rm= TRUE)), # ignoring disambiguated object\n",
    "              mean.switch.count= mean(c(left.switch.count, right.switch.count)),\n",
    "              counter.rotation.prop= sum(Duration[counter.rotation])/sum(Duration, na.rm = TRUE),\n",
    "              disbalance= abs(counter.rotation.prop-0.5),\n",
    "              balanced= (counter.rotation.prop>0.25) & (counter.rotation.prop<0.75)) %>%\n",
    "    filter(is.finite(mean.switch.count))\n",
    "\n",
    "N.switch.model <- lmerTest::lmer(mean.switch.count ~ disbalance + (1|Observer), data= all.blocks)\n",
    "summary(N.switch.model)\n",
    "coefficients.only <- data.frame(summary(N.switch.model)$coefficients)\n",
    "colnames(coefficients.only) <- c('Estimate', 'Std.Error', 'df', 't.value', 'p.value')\n",
    "dplyr::mutate(coefficients.only, R.sqr= rcontrast(t.value, df))"
   ]
  },
  {
   "cell_type": "markdown",
   "metadata": {},
   "source": [
    "#### Effect of the gap on perceptual stability\n",
    "Figure 3D in the manuscript"
   ]
  },
  {
   "cell_type": "code",
   "execution_count": 225,
   "metadata": {
    "scrolled": false
   },
   "outputs": [
    {
     "data": {
      "text/plain": [
       "Linear mixed model fit by REML t-tests use Satterthwaite approximations to\n",
       "  degrees of freedom [lmerMod]\n",
       "Formula: mean.switch.count ~ Gap + (1 | Observer)\n",
       "   Data: ambiguous.gap\n",
       "\n",
       "REML criterion at convergence: 1159.9\n",
       "\n",
       "Scaled residuals: \n",
       "    Min      1Q  Median      3Q     Max \n",
       "-2.1062 -0.5456 -0.1694  0.3794  4.3682 \n",
       "\n",
       "Random effects:\n",
       " Groups   Name        Variance Std.Dev.\n",
       " Observer (Intercept) 11.31    3.363   \n",
       " Residual             17.67    4.203   \n",
       "Number of obs: 198, groups:  Observer, 17\n",
       "\n",
       "Fixed effects:\n",
       "            Estimate Std. Error       df t value Pr(>|t|)    \n",
       "(Intercept)   6.6764     0.9669  24.4500   6.905 3.48e-07 ***\n",
       "Gaptouching  -0.8409     0.7316 179.1100  -1.149   0.2520    \n",
       "Gapgap       -1.8939     0.7316 179.1100  -2.589   0.0104 *  \n",
       "---\n",
       "Signif. codes:  0 '***' 0.001 '**' 0.01 '*' 0.05 '.' 0.1 ' ' 1\n",
       "\n",
       "Correlation of Fixed Effects:\n",
       "            (Intr) Gptchn\n",
       "Gaptouching -0.378       \n",
       "Gapgap      -0.378  0.500"
      ]
     },
     "metadata": {},
     "output_type": "display_data"
    },
    {
     "data": {
      "text/html": [
       "<table>\n",
       "<thead><tr><th scope=col>Estimate</th><th scope=col>Std.Error</th><th scope=col>df</th><th scope=col>t.value</th><th scope=col>p.value</th><th scope=col>R.sqr</th></tr></thead>\n",
       "<tbody>\n",
       "\t<tr><td> 6.6763872  </td><td>0.9669106   </td><td> 24.44564   </td><td> 6.904865   </td><td>3.483820e-07</td><td>0.81305311  </td></tr>\n",
       "\t<tr><td>-0.8409091  </td><td>0.7316492   </td><td>179.10873   </td><td>-1.149334   </td><td>2.519509e-01</td><td>0.08556421  </td></tr>\n",
       "\t<tr><td>-1.8939394  </td><td>0.7316492   </td><td>179.10873   </td><td>-2.588589   </td><td>1.042841e-02</td><td>0.18990184  </td></tr>\n",
       "</tbody>\n",
       "</table>\n"
      ],
      "text/latex": [
       "\\begin{tabular}{r|llllll}\n",
       " Estimate & Std.Error & df & t.value & p.value & R.sqr\\\\\n",
       "\\hline\n",
       "\t  6.6763872   & 0.9669106    &  24.44564    &  6.904865    & 3.483820e-07 & 0.81305311  \\\\\n",
       "\t -0.8409091   & 0.7316492    & 179.10873    & -1.149334    & 2.519509e-01 & 0.08556421  \\\\\n",
       "\t -1.8939394   & 0.7316492    & 179.10873    & -2.588589    & 1.042841e-02 & 0.18990184  \\\\\n",
       "\\end{tabular}\n"
      ],
      "text/markdown": [
       "\n",
       "Estimate | Std.Error | df | t.value | p.value | R.sqr | \n",
       "|---|---|---|\n",
       "|  6.6763872   | 0.9669106    |  24.44564    |  6.904865    | 3.483820e-07 | 0.81305311   | \n",
       "| -0.8409091   | 0.7316492    | 179.10873    | -1.149334    | 2.519509e-01 | 0.08556421   | \n",
       "| -1.8939394   | 0.7316492    | 179.10873    | -2.588589    | 1.042841e-02 | 0.18990184   | \n",
       "\n",
       "\n"
      ],
      "text/plain": [
       "  Estimate   Std.Error df        t.value   p.value      R.sqr     \n",
       "1  6.6763872 0.9669106  24.44564  6.904865 3.483820e-07 0.81305311\n",
       "2 -0.8409091 0.7316492 179.10873 -1.149334 2.519509e-01 0.08556421\n",
       "3 -1.8939394 0.7316492 179.10873 -2.588589 1.042841e-02 0.18990184"
      ]
     },
     "metadata": {},
     "output_type": "display_data"
    },
    {
     "data": {
      "image/png": "[encoded data removed]",
      "text/plain": [
       "plot without title"
      ]
     },
     "metadata": {},
     "output_type": "display_data"
    }
   ],
   "source": [
    "ambiguous.gap <- reports %>%\n",
    "    filter(Unambiguious == 'neither') %>%\n",
    "    filter(is.finite(counter.rotation)) %>%\n",
    "    # counting number of switches per object\n",
    "    group_by(Observer, Block, Gap) %>%\n",
    "    summarise(left.switch.count= ifelse(unambiguous.L[1], NA, sum(left.switch, na.rm= TRUE)), # ignoring disambiguated object\n",
    "              right.switch.count= ifelse(unambiguous.R[1], NA, sum(right.switch, na.rm= TRUE)), # ignoring disambiguated object\n",
    "              mean.switch.count= mean(c(left.switch.count, right.switch.count)),\n",
    "              counter.rotation.prop= sum(Duration[counter.rotation])/sum(Duration, na.rm = TRUE),\n",
    "              disbalance= abs(counter.rotation.prop-0.5),\n",
    "              balanced= (counter.rotation.prop>0.25) & (counter.rotation.prop<0.75)) %>%\n",
    "    filter(is.finite(mean.switch.count))\n",
    "\n",
    "# using gap as the only factor in LMER\n",
    "gap.as.only.factor <- lmerTest::lmer(mean.switch.count ~ Gap + (1|Observer), data= ambiguous.gap)\n",
    "summary(gap.as.only.factor)\n",
    "coefficients.only <- data.frame(summary(gap.as.only.factor)$coefficients)\n",
    "colnames(coefficients.only) <- c('Estimate', 'Std.Error', 'df', 't.value', 'p.value')\n",
    "dplyr::mutate(coefficients.only, R.sqr= rcontrast(t.value, df))\n",
    "\n",
    "\n",
    "ambiguous.gap.normalized <- ambiguous.gap %>%\n",
    "    group_by(Observer) %>%\n",
    "    mutate(Z.switch= c(scale(mean.switch.count)), \n",
    "           Z.disbalance= c(scale(disbalance))) %>%\n",
    "\n",
    "    group_by(Observer, Gap) %>%\n",
    "    summarise(mean.switch.count= mean(Z.switch), \n",
    "              mean.disbalance= mean(disbalance))\n",
    "\n",
    "\n",
    "swith_per_gap_plot <- ggplot(data= ambiguous.gap.normalized, aes(x= Gap, y= mean.switch.count))+\n",
    "    geom_boxplot(outlier.shape =  NA, width= 0.5)+\n",
    "    geom_jitter(aes(color= Observer), width= 0.25)+\n",
    "#     ylim(0, 0.7)+\n",
    "    ylab('Average number of switches [z-score]')+\n",
    "    xlab('Layout')+\n",
    "    theme(legend.position=\"none\")\n",
    "print(swith_per_gap_plot)\n",
    "# ggsave('Figures/Exp1 - effect of gap on switching.pdf', swith_per_gap_plot, width= 6, height= 6.5, units = 'cm',  useDingbats = FALSE)"
   ]
  },
  {
   "cell_type": "markdown",
   "metadata": {},
   "source": [
    "### Computing perceptual trapping: probability that both objects switch simultaneously\n",
    "For the perceptual trapping analysis, we restrict ourselves only to the blocks within 25%-75% range. The probability is computed relative to randomly shuffled distribution of same perceptual events and then is Z-scored to make it more comparable between observers"
   ]
  },
  {
   "cell_type": "code",
   "execution_count": 16,
   "metadata": {
    "scrolled": false
   },
   "outputs": [
    {
     "name": "stdout",
     "output_type": "stream",
     "text": [
      "Number of balanced blocks: 46\n",
      "Number of balanced participants: 11\n"
     ]
    },
    {
     "name": "stderr",
     "output_type": "stream",
     "text": [
      "Joining, by = c(\"Observer\", \"Block\")\n"
     ]
    },
    {
     "data": {
      "text/plain": [
       "\n",
       "\tOne Sample t-test\n",
       "\n",
       "data:  perceptual.trapping$z.trapped\n",
       "t = -3.2739, df = 45, p-value = 0.002043\n",
       "alternative hypothesis: true mean is not equal to 0\n",
       "95 percent confidence interval:\n",
       " -1.1161065 -0.2659054\n",
       "sample estimates:\n",
       " mean of x \n",
       "-0.6910059 \n"
      ]
     },
     "metadata": {},
     "output_type": "display_data"
    },
    {
     "name": "stdout",
     "output_type": "stream",
     "text": [
      "R^2: 0.44"
     ]
    },
    {
     "data": {
      "image/png": "[encoded data removed]",
      "text/plain": [
       "plot without title"
      ]
     },
     "metadata": {},
     "output_type": "display_data"
    }
   ],
   "source": [
    "balanced.blocks <- eligible.blocks %>%\n",
    "    filter(balanced)\n",
    "cat(sprintf('Number of balanced blocks: %d\\n', nrow(balanced.blocks)))\n",
    "cat(sprintf('Number of balanced participants: %d\\n', length(unique(balanced.blocks$Observer))))\n",
    "\n",
    "\n",
    "persistence.relative.to.chance.level <- function(perceptual.reports){\n",
    "    reports.N <- length(perceptual.reports)\n",
    "    actual.persistence <- mean(perceptual.reports[1:(reports.N-1)]==perceptual.reports[2:reports.N])\n",
    "\n",
    "    shuffle.repetitions <- 1000\n",
    "    shuffled.persistence <- rep(NA, shuffle.repetitions) \n",
    "    for(iteration in 1:shuffle.repetitions){\n",
    "        shuffled.reports <- sample(perceptual.reports)\n",
    "        shuffled.persistence[iteration] <- mean(shuffled.reports[1:(reports.N-1)]==shuffled.reports[2:reports.N])\n",
    "    }    \n",
    "\n",
    "    # z-scoring the actual persistence based on the randomly sampled sequences\n",
    "    z.scores <- c(scale(c(actual.persistence, shuffled.persistence)))\n",
    "    return(z.scores[1])\n",
    "    \n",
    "    # computing there the actual persistence is relative to a distribution of randomly shuffled reports\n",
    "    # we need to use -, as t-test measures distance from the center of distribution to the value and we need it the other way around\n",
    "#     return(-t.test(logit(shuffled.persistence), mu= logit(actual.persistence))$statistic)\n",
    "}\n",
    "\n",
    "perceptual.trapping <- reports %>% \n",
    "    semi_join(balanced.blocks) %>%\n",
    "    \n",
    "    # adding unique block index\n",
    "    group_by(Observer, disambiguation.method, Block, Shape, Gap, ambiguity) %>%\n",
    "    mutate(block.id= str_c(as.character(Observer[1]), as.character(disambiguation.method[1]), as.character(Block[1]), as.character(Shape[1]), as.character(Gap[1]), as.character(ambiguity[1]))) %>%\n",
    "    ungroup() %>%\n",
    "    mutate(block.id= as.factor(block.id)) %>%\n",
    "    \n",
    "    # computing probability of perceptual trapping\n",
    "    filter(is.finite(counter.rotation)) %>%\n",
    "    group_by(Observer,block.id) %>%\n",
    "    summarise(p.trapped= mean(counter.rotation[1:(n()-1)]==counter.rotation[2:n()]),\n",
    "              z.trapped= persistence.relative.to.chance.level(counter.rotation)) \n",
    "\n",
    "t.trapped <- t.test(perceptual.trapping$z.trapped)\n",
    "t.trapped\n",
    "cat(sprintf('R^2: %.2f', rcontrast(t.trapped$statistic, t.trapped$parameter)))\n",
    "\n",
    "trapping.plot <- ggplot(data= perceptual.trapping, aes(x= z.trapped, fill= Observer)) + \n",
    "    geom_histogram(bins= 21)+\n",
    "    scale_y_continuous(breaks= seq(0, 10, 2))+\n",
    "    scale_x_continuous(breaks= seq(-5, 5, 1))+\n",
    "    theme(legend.position=\"none\")\n",
    "print(trapping.plot)\n",
    "ggsave('Figures/Exp1 - perceptual trapping.pdf', trapping.plot, width= 8.5, height= 5.5, units = 'cm',  useDingbats = FALSE)"
   ]
  },
  {
   "cell_type": "markdown",
   "metadata": {},
   "source": [
    "### Computing perceptual stability when an object switch into a new state alone or together with another object"
   ]
  },
  {
   "cell_type": "code",
   "execution_count": 17,
   "metadata": {},
   "outputs": [
    {
     "name": "stderr",
     "output_type": "stream",
     "text": [
      "Joining, by = c(\"Observer\", \"Block\")\n"
     ]
    }
   ],
   "source": [
    "avg.duration.switch.based <- function(switch.flag, eligible.switches, duration, ambiguous){\n",
    "    \n",
    "    if (sum(switch.flag & eligible.switches & ambiguous)==1){\n",
    "        # we are not seriosly considering a single event stats, are we?\n",
    "        return(NA)\n",
    "    }\n",
    "    \n",
    "    return(mean(duration[switch.flag & eligible.switches]));\n",
    "    \n",
    "}\n",
    "\n",
    "perceptual.stability <- perceptual.trapping <- reports %>% \n",
    "    semi_join(eligible.blocks) %>%\n",
    "\n",
    "    # dropping all non-switch events (onsets and ofsets)\n",
    "    filter(is.finite(both.switch)) %>%\n",
    "    \n",
    "    # normalizing duration for each percept within each block, since we are interested in a relative effect of the switch\n",
    "    mutate(N.left= c(scale(D.left)), #/mean(D.left, na.rm= TRUE), \n",
    "           N.right= c(scale(D.right))) %>% #/mean(D.right, na.rm= TRUE)) %>%\n",
    "\n",
    "    # computing average duration for indepedently switched percepts versus percepts switched in accord\n",
    "    group_by(Observer, Block) %>%\n",
    "    summarise(independent= avg.duration.switch.based(switch.flag= c(left.switch, right.switch), \n",
    "                                              eligible.switches= c(left.switch!=right.switch, left.switch!=right.switch), \n",
    "                                              duration= c(N.left, N.right), \n",
    "                                              ambiguous= c(!unambiguous.L, !unambiguous.R)),\n",
    "           simultaneous= avg.duration.switch.based(switch.flag= c(left.switch, right.switch), \n",
    "                                              eligible.switches= c(left.switch==right.switch, left.switch==right.switch)==TRUE, \n",
    "                                              duration= c(N.left, N.right),\n",
    "                                              ambiguous= c(!unambiguous.L, !unambiguous.R)),\n",
    "           together.vs.indep= simultaneous-independent, \n",
    "           counter.rotation.prop= sum(Duration[counter.rotation])/sum(Duration, na.rm = TRUE), \n",
    "           balance= abs(counter.rotation.prop-0.5)) %>%\n",
    "\n",
    "    # dropping NA rows, because that means tha either there were no independent or simultaneous switches\n",
    "    filter(is.finite(together.vs.indep))"
   ]
  },
  {
   "cell_type": "markdown",
   "metadata": {},
   "source": [
    "Converting table from wide to narrow, so that switch type is a factor"
   ]
  },
  {
   "cell_type": "code",
   "execution_count": 18,
   "metadata": {},
   "outputs": [
    {
     "data": {
      "text/plain": [
       "Linear mixed model fit by REML t-tests use Satterthwaite approximations to\n",
       "  degrees of freedom [lmerMod]\n",
       "Formula: avg.duration ~ switch + (1 | Observer)\n",
       "   Data: stability.after.switch\n",
       "\n",
       "REML criterion at convergence: 175.6\n",
       "\n",
       "Scaled residuals: \n",
       "    Min      1Q  Median      3Q     Max \n",
       "-5.3854 -0.4499 -0.0041  0.3850  4.3792 \n",
       "\n",
       "Random effects:\n",
       " Groups   Name        Variance Std.Dev.\n",
       " Observer (Intercept) 0.0000   0.0000  \n",
       " Residual             0.1433   0.3785  \n",
       "Number of obs: 188, groups:  Observer, 14\n",
       "\n",
       "Fixed effects:\n",
       "                    Estimate Std. Error        df t value Pr(>|t|)\n",
       "(Intercept)          0.01323    0.03904 186.00000   0.339    0.735\n",
       "switchsimultaneous  -0.01187    0.05522 186.00000  -0.215    0.830\n",
       "\n",
       "Correlation of Fixed Effects:\n",
       "            (Intr)\n",
       "swtchsmltns -0.707"
      ]
     },
     "metadata": {},
     "output_type": "display_data"
    },
    {
     "data": {
      "text/html": [
       "<table>\n",
       "<thead><tr><th scope=col>Estimate</th><th scope=col>Std.Error</th><th scope=col>df</th><th scope=col>t.value</th><th scope=col>p.value</th><th scope=col>R.sqr</th></tr></thead>\n",
       "<tbody>\n",
       "\t<tr><td> 0.01322970</td><td>0.03904374 </td><td>186        </td><td> 0.3388431 </td><td>0.7351101  </td><td>0.02483752 </td></tr>\n",
       "\t<tr><td>-0.01186976</td><td>0.05521619 </td><td>186        </td><td>-0.2149689 </td><td>0.8300271  </td><td>0.01576032 </td></tr>\n",
       "</tbody>\n",
       "</table>\n"
      ],
      "text/latex": [
       "\\begin{tabular}{r|llllll}\n",
       " Estimate & Std.Error & df & t.value & p.value & R.sqr\\\\\n",
       "\\hline\n",
       "\t  0.01322970 & 0.03904374  & 186         &  0.3388431  & 0.7351101   & 0.02483752 \\\\\n",
       "\t -0.01186976 & 0.05521619  & 186         & -0.2149689  & 0.8300271   & 0.01576032 \\\\\n",
       "\\end{tabular}\n"
      ],
      "text/markdown": [
       "\n",
       "Estimate | Std.Error | df | t.value | p.value | R.sqr | \n",
       "|---|---|\n",
       "|  0.01322970 | 0.03904374  | 186         |  0.3388431  | 0.7351101   | 0.02483752  | \n",
       "| -0.01186976 | 0.05521619  | 186         | -0.2149689  | 0.8300271   | 0.01576032  | \n",
       "\n",
       "\n"
      ],
      "text/plain": [
       "  Estimate    Std.Error  df  t.value    p.value   R.sqr     \n",
       "1  0.01322970 0.03904374 186  0.3388431 0.7351101 0.02483752\n",
       "2 -0.01186976 0.05521619 186 -0.2149689 0.8300271 0.01576032"
      ]
     },
     "metadata": {},
     "output_type": "display_data"
    },
    {
     "data": {
      "image/png": "[encoded data removed]",
      "text/plain": [
       "plot without title"
      ]
     },
     "metadata": {},
     "output_type": "display_data"
    }
   ],
   "source": [
    "stability.after.switch <- perceptual.stability %>%\n",
    "    gather(key = 'switch', value = 'avg.duration', independent, simultaneous) %>%\n",
    "    mutate(switch = as.factor(switch)) %>%\n",
    "    \n",
    "    # just so that it is easier to see the data, makes no difference for the analysis\n",
    "    arrange(Observer, Block)\n",
    "\n",
    "switch.as.factor <- lmerTest::lmer(avg.duration ~ switch + (1|Observer), data= stability.after.switch)\n",
    "summary(switch.as.factor)\n",
    "coefficients.only <- data.frame(summary(switch.as.factor)$coefficients)\n",
    "colnames(coefficients.only) <- c('Estimate', 'Std.Error', 'df', 't.value', 'p.value')\n",
    "dplyr::mutate(coefficients.only, R.sqr= rcontrast(t.value, df))\n",
    "\n",
    "stability.after.switch.plot <- ggplot(data= stability.after.switch, aes(x= switch, y= avg.duration, color= Observer, group= switch))+\n",
    "    geom_boxplot(outlier.shape = NA)+\n",
    "    geom_jitter(width= 0.4)+\n",
    "    theme(legend.position=\"none\")\n",
    "print(stability.after.switch.plot)\n",
    "\n",
    "ggsave('Figures/Exp1 - post switch duration.pdf', stability.after.switch.plot, width= 5, height= 4.5, units = 'cm',  useDingbats = FALSE)"
   ]
  },
  {
   "cell_type": "code",
   "execution_count": 19,
   "metadata": {},
   "outputs": [
    {
     "data": {
      "text/plain": [
       "Linear mixed model fit by REML t-tests use Satterthwaite approximations to\n",
       "  degrees of freedom [lmerMod]\n",
       "Formula: together.vs.indep ~ balance + (1 | Observer)\n",
       "   Data: perceptual.stability\n",
       "\n",
       "REML criterion at convergence: 184.1\n",
       "\n",
       "Scaled residuals: \n",
       "     Min       1Q   Median       3Q      Max \n",
       "-3.09656 -0.59768 -0.07194  0.69674  3.15210 \n",
       "\n",
       "Random effects:\n",
       " Groups   Name        Variance Std.Dev.\n",
       " Observer (Intercept) 0.02314  0.1521  \n",
       " Residual             0.39196  0.6261  \n",
       "Number of obs: 94, groups:  Observer, 14\n",
       "\n",
       "Fixed effects:\n",
       "             Estimate Std. Error        df t value Pr(>|t|)\n",
       "(Intercept) -0.007527   0.141907 36.700000  -0.053    0.958\n",
       "balance      0.017579   0.460346 91.880000   0.038    0.970\n",
       "\n",
       "Correlation of Fixed Effects:\n",
       "        (Intr)\n",
       "balance -0.827"
      ]
     },
     "metadata": {},
     "output_type": "display_data"
    },
    {
     "data": {
      "text/html": [
       "<table>\n",
       "<thead><tr><th scope=col>Estimate</th><th scope=col>Std.Error</th><th scope=col>df</th><th scope=col>t.value</th><th scope=col>p.value</th><th scope=col>R.sqr</th></tr></thead>\n",
       "<tbody>\n",
       "\t<tr><td>-0.007526932</td><td>0.1419074   </td><td>36.69839    </td><td>-0.05304114 </td><td>0.9579868   </td><td>0.008755333 </td></tr>\n",
       "\t<tr><td> 0.017579027</td><td>0.4603463   </td><td>91.88234    </td><td> 0.03818652 </td><td>0.9696218   </td><td>0.003983737 </td></tr>\n",
       "</tbody>\n",
       "</table>\n"
      ],
      "text/latex": [
       "\\begin{tabular}{r|llllll}\n",
       " Estimate & Std.Error & df & t.value & p.value & R.sqr\\\\\n",
       "\\hline\n",
       "\t -0.007526932 & 0.1419074    & 36.69839     & -0.05304114  & 0.9579868    & 0.008755333 \\\\\n",
       "\t  0.017579027 & 0.4603463    & 91.88234     &  0.03818652  & 0.9696218    & 0.003983737 \\\\\n",
       "\\end{tabular}\n"
      ],
      "text/markdown": [
       "\n",
       "Estimate | Std.Error | df | t.value | p.value | R.sqr | \n",
       "|---|---|\n",
       "| -0.007526932 | 0.1419074    | 36.69839     | -0.05304114  | 0.9579868    | 0.008755333  | \n",
       "|  0.017579027 | 0.4603463    | 91.88234     |  0.03818652  | 0.9696218    | 0.003983737  | \n",
       "\n",
       "\n"
      ],
      "text/plain": [
       "  Estimate     Std.Error df       t.value     p.value   R.sqr      \n",
       "1 -0.007526932 0.1419074 36.69839 -0.05304114 0.9579868 0.008755333\n",
       "2  0.017579027 0.4603463 91.88234  0.03818652 0.9696218 0.003983737"
      ]
     },
     "metadata": {},
     "output_type": "display_data"
    }
   ],
   "source": [
    "balance.effect <- lmerTest::lmer(together.vs.indep ~ balance + (1|Observer), data= perceptual.stability)\n",
    "summary(balance.effect)\n",
    "coefficients.only <- data.frame(summary(balance.effect)$coefficients)\n",
    "colnames(coefficients.only) <- c('Estimate', 'Std.Error', 'df', 't.value', 'p.value')\n",
    "dplyr::mutate(coefficients.only, R.sqr= rcontrast(t.value, df))\n"
   ]
  }
 ],
 "metadata": {
  "kernelspec": {
   "display_name": "R",
   "language": "R",
   "name": "ir"
  },
  "language_info": {
   "codemirror_mode": "r",
   "file_extension": ".r",
   "mimetype": "text/x-r-source",
   "name": "R",
   "pygments_lexer": "r",
   "version": "3.4.2"
  }
 },
 "nbformat": 4,
 "nbformat_minor": 1
}
