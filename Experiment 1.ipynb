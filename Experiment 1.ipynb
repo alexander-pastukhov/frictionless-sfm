{
 "cells": [
  {
   "cell_type": "markdown",
   "metadata": {},
   "source": [
    "# Complete analysis for Experiment 1"
   ]
  },
  {
   "cell_type": "code",
   "execution_count": 1,
   "metadata": {},
   "outputs": [],
   "source": [
    "rm(list=ls())"
   ]
  },
  {
   "cell_type": "code",
   "execution_count": 131,
   "metadata": {},
   "outputs": [],
   "source": [
    "library(dplyr)\n",
    "library(ggplot2)\n",
    "library(lme4)\n",
    "library(lmerTest)\n",
    "library(stringr)\n",
    "library(car)"
   ]
  },
  {
   "cell_type": "markdown",
   "metadata": {},
   "source": [
    "## Loading data"
   ]
  },
  {
   "cell_type": "code",
   "execution_count": 25,
   "metadata": {},
   "outputs": [],
   "source": [
    "data.folder <- 'Experiment 1.'\n",
    "file.list <- list.files(path= data.folder, pattern= 'csv$')\n",
    "reports <- data.frame()\n",
    "for(current.filename in file.list){\n",
    "    current.observer <- read.csv2(file.path(paste(data.folder, current.filename, sep='/')))\n",
    "    \n",
    "    # extracting disambiguation method from \n",
    "    current.observer$disambiguation.method <- str_extract(current.filename, 'perspective|stereo')\n",
    "    \n",
    "    # discarding mixed phases\n",
    "    current.observer <- current.observer[-which(current.observer$Percept=='unclear'), ]\n",
    "    \n",
    "    # splitting Unambiguous and Percept columns into one-column-per-object\n",
    "    current.observer$unambiguous.L <- FALSE\n",
    "    current.observer$unambiguous.L[current.observer$Unambiguious=='left'] <- TRUE\n",
    "    current.observer$unambiguous.R <- FALSE\n",
    "    current.observer$unambiguous.R[current.observer$Unambiguious=='right'] <- TRUE\n",
    "    current.observer$ambiguity <- 'one'\n",
    "    current.observer$ambiguity[current.observer$Unambiguious=='neither'] <- 'both'   \n",
    "    \n",
    "    # rotation of the left object\n",
    "    current.observer$rotation.L <- 0 # unclear\n",
    "    current.observer$rotation.L[current.observer$Percept %in% c('left', 'down')] <- -1\n",
    "    current.observer$rotation.L[current.observer$Percept %in% c('right', 'up')] <- 1\n",
    "\n",
    "    # rotation of the right object\n",
    "    current.observer$rotation.R <- 0 # unclear\n",
    "    current.observer$rotation.R[current.observer$Percept %in% c('left', 'up')] <- -1                              \n",
    "    current.observer$rotation.R[current.observer$Percept %in% c('right', 'down')] <- 1                              \n",
    "\n",
    "    # counter.rotation\n",
    "    current.observer$counter.rotation <- NA\n",
    "    current.observer$counter.rotation[current.observer$Percept %in% c('left', 'right')] <- FALSE\n",
    "    current.observer$counter.rotation[current.observer$Percept %in% c('up', 'down')] <- TRUE\n",
    "    \n",
    "    # prettifying shape labels\n",
    "    current.observer$Shape <- gsub('-0500', '', current.observer$Shape)\n",
    "    \n",
    "    # merging\n",
    "    reports <- rbind(reports, current.observer)\n",
    "}\n",
    "\n",
    "# Computing duration of individual reports\n",
    "reports <- reports %>%\n",
    "    dplyr::group_by(Observer, Block) %>%\n",
    "    dplyr::mutate(Duration= c(diff(Time), NA))\n",
    "\n",
    "# bias direction label\n",
    "reports$Direction.label <- ifelse(reports$Direction==-1, 'left', 'right')\n",
    "\n",
    "# converting strings to factors\n",
    "reports$ambiguity <- as.factor(reports$ambiguity)"
   ]
  },
  {
   "cell_type": "markdown",
   "metadata": {},
   "source": [
    "## Computing demographics info, reported in the _Methods_ section"
   ]
  },
  {
   "cell_type": "code",
   "execution_count": 59,
   "metadata": {},
   "outputs": [
    {
     "data": {
      "text/html": [
       "<table>\n",
       "<thead><tr><th scope=col>gender</th><th scope=col>count</th><th scope=col>min.age</th><th scope=col>max.age</th></tr></thead>\n",
       "<tbody>\n",
       "\t<tr><td>female</td><td>12    </td><td>19    </td><td>36    </td></tr>\n",
       "\t<tr><td>male  </td><td> 5    </td><td>21    </td><td>29    </td></tr>\n",
       "</tbody>\n",
       "</table>\n"
      ],
      "text/latex": [
       "\\begin{tabular}{r|llll}\n",
       " gender & count & min.age & max.age\\\\\n",
       "\\hline\n",
       "\t female & 12     & 19     & 36    \\\\\n",
       "\t male   &  5     & 21     & 29    \\\\\n",
       "\\end{tabular}\n"
      ],
      "text/markdown": [
       "\n",
       "gender | count | min.age | max.age | \n",
       "|---|---|\n",
       "| female | 12     | 19     | 36     | \n",
       "| male   |  5     | 21     | 29     | \n",
       "\n",
       "\n"
      ],
      "text/plain": [
       "  gender count min.age max.age\n",
       "1 female 12    19      36     \n",
       "2 male    5    21      29     "
      ]
     },
     "metadata": {},
     "output_type": "display_data"
    }
   ],
   "source": [
    "participants <- data.frame(Observer= unique(reports$Observer))\n",
    "demographics <- participants %>%\n",
    "    mutate(Observer= str_replace(Observer, '(R|r)$', ''), # removing trailing R, which is present for some participants\n",
    "           gender= ifelse(str_detect(Observer, '(W|w)$'), 'female', 'male'),\n",
    "           birth.year= as.numeric(str_extract(Observer, '\\\\d{2,4}')),\n",
    "           birth.year= ifelse(birth.year<100, birth.year+1900, birth.year),\n",
    "           age= 2017-birth.year) %>%\n",
    "\n",
    "    group_by(gender) %>%\n",
    "    summarise(count= n(), \n",
    "              min.age= min(age),\n",
    "              max.age= max(age))\n",
    "\n",
    "demographics"
   ]
  },
  {
   "cell_type": "markdown",
   "metadata": {},
   "source": [
    "## Effectiveness of disambiguation cues\n",
    "Figure 2A in the manuscript"
   ]
  },
  {
   "cell_type": "code",
   "execution_count": 90,
   "metadata": {},
   "outputs": [
    {
     "data": {
      "text/html": [
       "<table>\n",
       "<thead><tr><th></th><th scope=col>Df</th><th scope=col>AIC</th><th scope=col>BIC</th><th scope=col>logLik</th><th scope=col>deviance</th><th scope=col>Chisq</th><th scope=col>Chi Df</th><th scope=col>Pr(&gt;Chisq)</th></tr></thead>\n",
       "<tbody>\n",
       "\t<tr><th scope=row>lm.null</th><td>3         </td><td>-168.0538 </td><td>-160.1789 </td><td>87.02692  </td><td>-174.0538 </td><td>      NA  </td><td>NA        </td><td>        NA</td></tr>\n",
       "\t<tr><th scope=row>lm.gap</th><td>4         </td><td>-168.3428 </td><td>-157.8429 </td><td>88.17142  </td><td>-176.3428 </td><td>2.289001  </td><td> 1        </td><td>0.13029372</td></tr>\n",
       "\t<tr><th scope=row>lm.shape</th><td>5         </td><td>-167.3838 </td><td>-154.2590 </td><td>88.69191  </td><td>-177.3838 </td><td>1.040983  </td><td> 1        </td><td>0.30759302</td></tr>\n",
       "\t<tr><th scope=row>lm.method</th><td>6         </td><td>-168.6568 </td><td>-152.9069 </td><td>90.32839  </td><td>-180.6568 </td><td>3.272951  </td><td> 1        </td><td>0.07043082</td></tr>\n",
       "</tbody>\n",
       "</table>\n"
      ],
      "text/latex": [
       "\\begin{tabular}{r|llllllll}\n",
       "  & Df & AIC & BIC & logLik & deviance & Chisq & Chi Df & Pr(>Chisq)\\\\\n",
       "\\hline\n",
       "\tlm.null & 3          & -168.0538  & -160.1789  & 87.02692   & -174.0538  &       NA   & NA         &         NA\\\\\n",
       "\tlm.gap & 4          & -168.3428  & -157.8429  & 88.17142   & -176.3428  & 2.289001   &  1         & 0.13029372\\\\\n",
       "\tlm.shape & 5          & -167.3838  & -154.2590  & 88.69191   & -177.3838  & 1.040983   &  1         & 0.30759302\\\\\n",
       "\tlm.method & 6          & -168.6568  & -152.9069  & 90.32839   & -180.6568  & 3.272951   &  1         & 0.07043082\\\\\n",
       "\\end{tabular}\n"
      ],
      "text/markdown": [
       "\n",
       "| <!--/--> | Df | AIC | BIC | logLik | deviance | Chisq | Chi Df | Pr(>Chisq) | \n",
       "|---|---|---|---|\n",
       "| lm.null | 3          | -168.0538  | -160.1789  | 87.02692   | -174.0538  |       NA   | NA         |         NA | \n",
       "| lm.gap | 4          | -168.3428  | -157.8429  | 88.17142   | -176.3428  | 2.289001   |  1         | 0.13029372 | \n",
       "| lm.shape | 5          | -167.3838  | -154.2590  | 88.69191   | -177.3838  | 1.040983   |  1         | 0.30759302 | \n",
       "| lm.method | 6          | -168.6568  | -152.9069  | 90.32839   | -180.6568  | 3.272951   |  1         | 0.07043082 | \n",
       "\n",
       "\n"
      ],
      "text/plain": [
       "          Df AIC       BIC       logLik   deviance  Chisq    Chi Df Pr(>Chisq)\n",
       "lm.null   3  -168.0538 -160.1789 87.02692 -174.0538       NA NA             NA\n",
       "lm.gap    4  -168.3428 -157.8429 88.17142 -176.3428 2.289001  1     0.13029372\n",
       "lm.shape  5  -167.3838 -154.2590 88.69191 -177.3838 1.040983  1     0.30759302\n",
       "lm.method 6  -168.6568 -152.9069 90.32839 -180.6568 3.272951  1     0.07043082"
      ]
     },
     "metadata": {},
     "output_type": "display_data"
    },
    {
     "data": {
      "image/png": "[encoded data removed]",
      "text/plain": [
       "plot without title"
      ]
     },
     "metadata": {},
     "output_type": "display_data"
    }
   ],
   "source": [
    "# disambiguation effect for each observer and gap x shape condition\n",
    "disambiguation <- reports %>%\n",
    "    dplyr::filter(Unambiguious != 'neither') %>% # considering only blocks with disambiguation cues\n",
    "    dplyr::mutate(biased.object.percept= ifelse(Unambiguious=='left', rotation.L, rotation.R)) %>% # selecting disambiguated object\n",
    "    dplyr::filter(is.finite(counter.rotation)) %>%\n",
    "    dplyr::group_by(Observer, Block, Gap, Shape, disambiguation.method) %>% # computing fraction of time observers reported that congruent percept in each block\n",
    "    dplyr::summarize(biased.fraction= sum(Duration[Direction == biased.object.percept])/sum(Duration)) %>%\n",
    "    dplyr::group_by(Observer, Gap, Shape, disambiguation.method) %>%\n",
    "    dplyr::summarize(biased.fraction= mean(biased.fraction))\n",
    "\n",
    "# looking at the effect of condition on disambiguation cues effectiveness\n",
    "lm.null <- lme4::lmer(biased.fraction ~ 1 + (1|Observer), data= disambiguation, REML= FALSE)\n",
    "lm.gap <- update(lm.null, .~. + Gap)\n",
    "lm.shape <- update(lm.gap, .~. + Shape)\n",
    "lm.method <- update(lm.shape, .~. + disambiguation.method)\n",
    "anova(lm.null, lm.shape, lm.gap, lm.method)\n",
    "\n",
    "disambiguation <- disambiguation %>%\n",
    "    dplyr::group_by(Observer, Gap, disambiguation.method) %>%\n",
    "    dplyr::summarize(biased.fraction= mean(biased.fraction))\n",
    "\n",
    "# plotting disambiguation effect per condition (gap x shape)\n",
    "disambiguation.plot <- ggplot(data= disambiguation, \n",
    "                              aes(x= interaction(Gap), y= biased.fraction))+\n",
    "    geom_boxplot(outlier.shape =  NA, width= 0.5 )+\n",
    "    geom_point(aes(color= Observer), position= position_dodge(width= 0.5))+\n",
    "    ylab('Pbias')+\n",
    "    facet_grid(. ~ disambiguation.method)+\n",
    "    theme(legend.position=\"none\", axis.title.x=element_blank())\n",
    "print(disambiguation.plot)\n",
    "ggsave('Figures/Exp1 - disambiguation.pdf', disambiguation.plot, width= 8, height= 6, units = 'cm', useDingbats = FALSE)"
   ]
  },
  {
   "cell_type": "markdown",
   "metadata": {},
   "source": [
    "## Computing fraction of time observers perceived _counter-rotation_ "
   ]
  },
  {
   "cell_type": "code",
   "execution_count": 145,
   "metadata": {},
   "outputs": [
    {
     "data": {
      "text/html": [
       "<table>\n",
       "<thead><tr><th></th><th scope=col>Df</th><th scope=col>AIC</th><th scope=col>BIC</th><th scope=col>logLik</th><th scope=col>deviance</th><th scope=col>Chisq</th><th scope=col>Chi Df</th><th scope=col>Pr(&gt;Chisq)</th></tr></thead>\n",
       "<tbody>\n",
       "\t<tr><th scope=row>lm.null</th><td> 3          </td><td>-18.05446   </td><td> -8.100098  </td><td>12.02723    </td><td>-24.05446   </td><td>        NA  </td><td>NA          </td><td>          NA</td></tr>\n",
       "\t<tr><th scope=row>lm.gap</th><td> 5          </td><td>-40.04029   </td><td>-23.449690  </td><td>25.02014    </td><td>-50.04029   </td><td>25.9858315  </td><td> 2          </td><td>2.276399e-06</td></tr>\n",
       "\t<tr><th scope=row>lm.shape</th><td> 6          </td><td>-45.11582   </td><td>-25.207103  </td><td>28.55791    </td><td>-57.11582   </td><td> 7.0755334  </td><td> 1          </td><td>7.814356e-03</td></tr>\n",
       "\t<tr><th scope=row>lm.ambiguity</th><td> 7          </td><td>-66.41777   </td><td>-43.190931  </td><td>40.20889    </td><td>-80.41777   </td><td>23.3019479  </td><td> 1          </td><td>1.384597e-06</td></tr>\n",
       "\t<tr><th scope=row>lm.disambiguation</th><td> 8          </td><td>-64.91518   </td><td>-38.370223  </td><td>40.45759    </td><td>-80.91518   </td><td> 0.4974115  </td><td> 1          </td><td>4.806397e-01</td></tr>\n",
       "\t<tr><th scope=row>lm.shape.layout</th><td>10          </td><td>-65.25840   </td><td>-32.077199  </td><td>42.62920    </td><td>-85.25840   </td><td> 4.3432160  </td><td> 2          </td><td>1.139942e-01</td></tr>\n",
       "</tbody>\n",
       "</table>\n"
      ],
      "text/latex": [
       "\\begin{tabular}{r|llllllll}\n",
       "  & Df & AIC & BIC & logLik & deviance & Chisq & Chi Df & Pr(>Chisq)\\\\\n",
       "\\hline\n",
       "\tlm.null &  3           & -18.05446    &  -8.100098   & 12.02723     & -24.05446    &         NA   & NA           &           NA\\\\\n",
       "\tlm.gap &  5           & -40.04029    & -23.449690   & 25.02014     & -50.04029    & 25.9858315   &  2           & 2.276399e-06\\\\\n",
       "\tlm.shape &  6           & -45.11582    & -25.207103   & 28.55791     & -57.11582    &  7.0755334   &  1           & 7.814356e-03\\\\\n",
       "\tlm.ambiguity &  7           & -66.41777    & -43.190931   & 40.20889     & -80.41777    & 23.3019479   &  1           & 1.384597e-06\\\\\n",
       "\tlm.disambiguation &  8           & -64.91518    & -38.370223   & 40.45759     & -80.91518    &  0.4974115   &  1           & 4.806397e-01\\\\\n",
       "\tlm.shape.layout & 10           & -65.25840    & -32.077199   & 42.62920     & -85.25840    &  4.3432160   &  2           & 1.139942e-01\\\\\n",
       "\\end{tabular}\n"
      ],
      "text/markdown": [
       "\n",
       "| <!--/--> | Df | AIC | BIC | logLik | deviance | Chisq | Chi Df | Pr(>Chisq) | \n",
       "|---|---|---|---|---|---|\n",
       "| lm.null |  3           | -18.05446    |  -8.100098   | 12.02723     | -24.05446    |         NA   | NA           |           NA | \n",
       "| lm.gap |  5           | -40.04029    | -23.449690   | 25.02014     | -50.04029    | 25.9858315   |  2           | 2.276399e-06 | \n",
       "| lm.shape |  6           | -45.11582    | -25.207103   | 28.55791     | -57.11582    |  7.0755334   |  1           | 7.814356e-03 | \n",
       "| lm.ambiguity |  7           | -66.41777    | -43.190931   | 40.20889     | -80.41777    | 23.3019479   |  1           | 1.384597e-06 | \n",
       "| lm.disambiguation |  8           | -64.91518    | -38.370223   | 40.45759     | -80.91518    |  0.4974115   |  1           | 4.806397e-01 | \n",
       "| lm.shape.layout | 10           | -65.25840    | -32.077199   | 42.62920     | -85.25840    |  4.3432160   |  2           | 1.139942e-01 | \n",
       "\n",
       "\n"
      ],
      "text/plain": [
       "                  Df AIC       BIC        logLik   deviance  Chisq      Chi Df\n",
       "lm.null            3 -18.05446  -8.100098 12.02723 -24.05446         NA NA    \n",
       "lm.gap             5 -40.04029 -23.449690 25.02014 -50.04029 25.9858315  2    \n",
       "lm.shape           6 -45.11582 -25.207103 28.55791 -57.11582  7.0755334  1    \n",
       "lm.ambiguity       7 -66.41777 -43.190931 40.20889 -80.41777 23.3019479  1    \n",
       "lm.disambiguation  8 -64.91518 -38.370223 40.45759 -80.91518  0.4974115  1    \n",
       "lm.shape.layout   10 -65.25840 -32.077199 42.62920 -85.25840  4.3432160  2    \n",
       "                  Pr(>Chisq)  \n",
       "lm.null                     NA\n",
       "lm.gap            2.276399e-06\n",
       "lm.shape          7.814356e-03\n",
       "lm.ambiguity      1.384597e-06\n",
       "lm.disambiguation 4.806397e-01\n",
       "lm.shape.layout   1.139942e-01"
      ]
     },
     "metadata": {},
     "output_type": "display_data"
    }
   ],
   "source": [
    "# computing fraction of time observers reported counter-rotation throughout each block\n",
    "counter.rotation <- reports %>%\n",
    "    dplyr::filter(is.finite(counter.rotation)) %>%\n",
    "    dplyr::group_by(Observer, Block, Shape, Gap, ambiguity, disambiguation.method) %>%\n",
    "    dplyr::summarize(fraction= sum(Duration[counter.rotation])/sum(Duration)) %>%\n",
    "    dplyr::group_by(Observer, Shape, Gap, ambiguity, disambiguation.method) %>%\n",
    "    dplyr::summarize(fraction= mean(fraction))\n",
    "\n",
    "# converting everything to factors for analysis\n",
    "counter.rotation <- data.frame(counter.rotation)\n",
    "counter.rotation$Gap <- as.factor(counter.rotation$Gap)\n",
    "counter.rotation$ambiguity <- as.factor(counter.rotation$ambiguity)\n",
    "counter.rotation$Shape <- as.factor(counter.rotation$Shape)\n",
    "counter.rotation$disambiguation.method <- as.factor(counter.rotation$disambiguation.method)\n",
    "\n",
    "# same by using multilevel apporach via linear-mixed models\n",
    "lm.null <- lme4::lmer(fraction ~ 1 + (1|Observer), data= counter.rotation, REML= FALSE)\n",
    "lm.gap <- update(lm.null, .~.+Gap)\n",
    "lm.shape <- update(lm.gap, .~.+Shape)\n",
    "lm.ambiguity <- update(lm.shape, .~.+ambiguity)\n",
    "lm.disambiguation <- update(lm.ambiguity, .~. + disambiguation.method)\n",
    "lm.shape.layout <- update(lm.disambiguation, .~. + Shape*Gap)\n",
    "anova(lm.null, lm.shape, lm.gap, lm.ambiguity, lm.disambiguation, lm.shape.layout)"
   ]
  },
  {
   "cell_type": "markdown",
   "metadata": {},
   "source": [
    "## Plotting all conditions  together for a birds-eye view\n",
    "Figure 2B in the manuscript"
   ]
  },
  {
   "cell_type": "code",
   "execution_count": 95,
   "metadata": {},
   "outputs": [
    {
     "data": {
      "image/png": "[encoded data removed]",
      "text/plain": [
       "plot without title"
      ]
     },
     "metadata": {},
     "output_type": "display_data"
    }
   ],
   "source": [
    "overall.averages <- counter.rotation %>%\n",
    "    dplyr::group_by(Shape, Gap, ambiguity) %>%\n",
    "    dplyr::summarise(P.counter_rotation= mean(fraction), \n",
    "                     P.serr= sd(fraction)/sqrt(n()-1), \n",
    "                     P.25=  quantile(fraction)[2],\n",
    "                     P.75= quantile(fraction)[4])\n",
    "\n",
    "overall.plot <- ggplot(data= overall.averages, aes(x= Gap, y= P.counter_rotation,\n",
    "                                                  ymin= P.counter_rotation-P.serr, ymax= P.counter_rotation + P.serr,\n",
    "                                                  group= interaction(Shape, ambiguity), color= Shape, shape= ambiguity,\n",
    "                                                  linetype = ambiguity)) + \n",
    "    geom_line() + \n",
    "    geom_errorbar(width=0.2) + \n",
    "    geom_point(size= 4)+\n",
    "    theme(legend.position=\"none\", axis.title.x=element_blank())+\n",
    "    xlab('Pcounter-rotation')+\n",
    "    scale_shape_manual(values = c(1, 16))\n",
    "\n",
    "\n",
    "print(overall.plot)\n",
    "ggsave('Figures/Exp1 - overall.pdf', overall.plot, width= 6, height= 6.5, units = 'cm', useDingbats = FALSE)"
   ]
  },
  {
   "cell_type": "markdown",
   "metadata": {},
   "source": [
    "## Plotting main effect of the gap\n",
    "Figure 2C"
   ]
  },
  {
   "cell_type": "code",
   "execution_count": 116,
   "metadata": {},
   "outputs": [
    {
     "data": {
      "text/plain": [
       "Linear mixed model fit by REML t-tests use Satterthwaite approximations to\n",
       "  degrees of freedom [lmerMod]\n",
       "Formula: fraction ~ Gap + (1 | Observer)\n",
       "   Data: counter.rotation\n",
       "\n",
       "REML criterion at convergence: -34.4\n",
       "\n",
       "Scaled residuals: \n",
       "     Min       1Q   Median       3Q      Max \n",
       "-2.36887 -0.73081 -0.03676  0.70952  2.88215 \n",
       "\n",
       "Random effects:\n",
       " Groups   Name        Variance Std.Dev.\n",
       " Observer (Intercept) 0.005957 0.07718 \n",
       " Residual             0.042850 0.20700 \n",
       "Number of obs: 204, groups:  Observer, 17\n",
       "\n",
       "Fixed effects:\n",
       "             Estimate Std. Error        df t value Pr(>|t|)    \n",
       "(Intercept)   0.23913    0.03131  46.70000   7.636 9.29e-10 ***\n",
       "Gap0          0.10995    0.03550 185.00000   3.097  0.00226 ** \n",
       "Gap0.15       0.18537    0.03550 185.00000   5.222 4.74e-07 ***\n",
       "---\n",
       "Signif. codes:  0 '***' 0.001 '**' 0.01 '*' 0.05 '.' 0.1 ' ' 1\n",
       "\n",
       "Correlation of Fixed Effects:\n",
       "        (Intr) Gap0  \n",
       "Gap0    -0.567       \n",
       "Gap0.15 -0.567  0.500"
      ]
     },
     "metadata": {},
     "output_type": "display_data"
    },
    {
     "data": {
      "text/html": [
       "<table>\n",
       "<thead><tr><th scope=col>Estimate</th><th scope=col>Std.Error</th><th scope=col>df</th><th scope=col>t.value</th><th scope=col>p.value</th><th scope=col>R.sqr</th></tr></thead>\n",
       "<tbody>\n",
       "\t<tr><td>0.2391291   </td><td>0.03131409  </td><td> 46.70485   </td><td>7.636471    </td><td>9.285250e-10</td><td>0.7451704   </td></tr>\n",
       "\t<tr><td>0.1099462   </td><td>0.03550060  </td><td>185.00009   </td><td>3.097023    </td><td>2.259193e-03</td><td>0.2220150   </td></tr>\n",
       "\t<tr><td>0.1853681   </td><td>0.03550060  </td><td>185.00009   </td><td>5.221548    </td><td>4.743265e-07</td><td>0.3583937   </td></tr>\n",
       "</tbody>\n",
       "</table>\n"
      ],
      "text/latex": [
       "\\begin{tabular}{r|llllll}\n",
       " Estimate & Std.Error & df & t.value & p.value & R.sqr\\\\\n",
       "\\hline\n",
       "\t 0.2391291    & 0.03131409   &  46.70485    & 7.636471     & 9.285250e-10 & 0.7451704   \\\\\n",
       "\t 0.1099462    & 0.03550060   & 185.00009    & 3.097023     & 2.259193e-03 & 0.2220150   \\\\\n",
       "\t 0.1853681    & 0.03550060   & 185.00009    & 5.221548     & 4.743265e-07 & 0.3583937   \\\\\n",
       "\\end{tabular}\n"
      ],
      "text/markdown": [
       "\n",
       "Estimate | Std.Error | df | t.value | p.value | R.sqr | \n",
       "|---|---|---|\n",
       "| 0.2391291    | 0.03131409   |  46.70485    | 7.636471     | 9.285250e-10 | 0.7451704    | \n",
       "| 0.1099462    | 0.03550060   | 185.00009    | 3.097023     | 2.259193e-03 | 0.2220150    | \n",
       "| 0.1853681    | 0.03550060   | 185.00009    | 5.221548     | 4.743265e-07 | 0.3583937    | \n",
       "\n",
       "\n"
      ],
      "text/plain": [
       "  Estimate  Std.Error  df        t.value  p.value      R.sqr    \n",
       "1 0.2391291 0.03131409  46.70485 7.636471 9.285250e-10 0.7451704\n",
       "2 0.1099462 0.03550060 185.00009 3.097023 2.259193e-03 0.2220150\n",
       "3 0.1853681 0.03550060 185.00009 5.221548 4.743265e-07 0.3583937"
      ]
     },
     "metadata": {},
     "output_type": "display_data"
    },
    {
     "data": {
      "image/png": "[encoded data removed]",
      "text/plain": [
       "plot without title"
      ]
     },
     "metadata": {},
     "output_type": "display_data"
    }
   ],
   "source": [
    "rcontrast<-function(t, df) {\n",
    "    return (sqrt(t^2/(t^2 + df)))\n",
    "}\n",
    "\n",
    "gap.df <- counter.rotation %>%\n",
    "    dplyr::group_by(Observer, Gap, disambiguation.method) %>%\n",
    "    dplyr::summarize(fraction= mean(fraction))\n",
    "\n",
    "# using gap as the only factor in LMER\n",
    "gap.as.only.factor <- lmerTest::lmer(fraction ~ Gap + (1|Observer), data= counter.rotation)\n",
    "summary(gap.as.only.factor)\n",
    "coefficients.only <- data.frame(summary(gap.as.only.factor)$coefficients)\n",
    "colnames(coefficients.only) <- c('Estimate', 'Std.Error', 'df', 't.value', 'p.value')\n",
    "dplyr::mutate(coefficients.only, R.sqr= rcontrast(t.value, df))\n",
    "\n",
    "gap.plot <- ggplot(data= gap.df, aes(x= Gap, y= fraction))+\n",
    "    geom_boxplot(outlier.shape =  NA, width= 0.5)+\n",
    "    geom_point(aes(color= Observer, shape= disambiguation.method), , position= position_dodge(width= 0.5))+\n",
    "    ylim(0, 0.7)+\n",
    "    ylab('Pcounter-rotation')+\n",
    "    xlab('Layout')+\n",
    "    theme(legend.position=\"none\")\n",
    "print(gap.plot)\n",
    "ggsave('Figures/Exp1 - main effect of gap.pdf', gap.plot, width= 6, height= 6.5, units = 'cm',  useDingbats = FALSE)"
   ]
  },
  {
   "cell_type": "markdown",
   "metadata": {},
   "source": [
    "## Plotting main effect of the ambiguity\n",
    "Figure 2D"
   ]
  },
  {
   "cell_type": "code",
   "execution_count": 115,
   "metadata": {},
   "outputs": [
    {
     "data": {
      "text/plain": [
       "Linear mixed model fit by REML t-tests use Satterthwaite approximations to\n",
       "  degrees of freedom [lmerMod]\n",
       "Formula: fraction ~ ambiguity + (1 | Observer)\n",
       "   Data: counter.rotation\n",
       "\n",
       "REML criterion at convergence: -32.5\n",
       "\n",
       "Scaled residuals: \n",
       "    Min      1Q  Median      3Q     Max \n",
       "-1.8222 -0.8023 -0.0684  0.6523  3.5657 \n",
       "\n",
       "Random effects:\n",
       " Groups   Name        Variance Std.Dev.\n",
       " Observer (Intercept) 0.005848 0.07647 \n",
       " Residual             0.044165 0.21016 \n",
       "Number of obs: 204, groups:  Observer, 17\n",
       "\n",
       "Fixed effects:\n",
       "              Estimate Std. Error        df t value Pr(>|t|)    \n",
       "(Intercept)    0.27136    0.02787  30.36000   9.735 7.53e-11 ***\n",
       "ambiguityone   0.13242    0.02943 186.00000   4.500 1.20e-05 ***\n",
       "---\n",
       "Signif. codes:  0 '***' 0.001 '**' 0.01 '*' 0.05 '.' 0.1 ' ' 1\n",
       "\n",
       "Correlation of Fixed Effects:\n",
       "            (Intr)\n",
       "ambiguityon -0.528"
      ]
     },
     "metadata": {},
     "output_type": "display_data"
    },
    {
     "data": {
      "text/html": [
       "<table>\n",
       "<thead><tr><th scope=col>Estimate</th><th scope=col>Std.Error</th><th scope=col>df</th><th scope=col>t.value</th><th scope=col>p.value</th><th scope=col>R.sqr</th></tr></thead>\n",
       "<tbody>\n",
       "\t<tr><td>0.2713583   </td><td>0.02787422  </td><td> 30.35848   </td><td>9.735101    </td><td>7.531087e-11</td><td>0.8702791   </td></tr>\n",
       "\t<tr><td>0.1324177   </td><td>0.02942770  </td><td>186.00009   </td><td>4.499766    </td><td>1.196642e-05</td><td>0.3133250   </td></tr>\n",
       "</tbody>\n",
       "</table>\n"
      ],
      "text/latex": [
       "\\begin{tabular}{r|llllll}\n",
       " Estimate & Std.Error & df & t.value & p.value & R.sqr\\\\\n",
       "\\hline\n",
       "\t 0.2713583    & 0.02787422   &  30.35848    & 9.735101     & 7.531087e-11 & 0.8702791   \\\\\n",
       "\t 0.1324177    & 0.02942770   & 186.00009    & 4.499766     & 1.196642e-05 & 0.3133250   \\\\\n",
       "\\end{tabular}\n"
      ],
      "text/markdown": [
       "\n",
       "Estimate | Std.Error | df | t.value | p.value | R.sqr | \n",
       "|---|---|\n",
       "| 0.2713583    | 0.02787422   |  30.35848    | 9.735101     | 7.531087e-11 | 0.8702791    | \n",
       "| 0.1324177    | 0.02942770   | 186.00009    | 4.499766     | 1.196642e-05 | 0.3133250    | \n",
       "\n",
       "\n"
      ],
      "text/plain": [
       "  Estimate  Std.Error  df        t.value  p.value      R.sqr    \n",
       "1 0.2713583 0.02787422  30.35848 9.735101 7.531087e-11 0.8702791\n",
       "2 0.1324177 0.02942770 186.00009 4.499766 1.196642e-05 0.3133250"
      ]
     },
     "metadata": {},
     "output_type": "display_data"
    },
    {
     "data": {
      "image/png": "[encoded data removed]",
      "text/plain": [
       "plot without title"
      ]
     },
     "metadata": {},
     "output_type": "display_data"
    }
   ],
   "source": [
    "amb.df <- counter.rotation %>%\n",
    "    dplyr::group_by(Observer, ambiguity, disambiguation.method) %>%\n",
    "    dplyr::summarize(fraction= mean(fraction))\n",
    "\n",
    "# using ambiguity as the only factor in LMER\n",
    "ambiguity.as.only.factor <- lmerTest::lmer(fraction ~ ambiguity + (1|Observer), data= counter.rotation)\n",
    "summary(ambiguity.as.only.factor)\n",
    "coefficients.only <- data.frame(summary(ambiguity.as.only.factor)$coefficients)\n",
    "colnames(coefficients.only) <- c('Estimate', 'Std.Error', 'df', 't.value', 'p.value')\n",
    "dplyr::mutate(coefficients.only, R.sqr= rcontrast(t.value, df))\n",
    "\n",
    "amb.plot <- ggplot(data= amb.df, aes(x= ambiguity, y= fraction))+\n",
    "    geom_boxplot(outlier.shape = NA, width= 0.5)+\n",
    "    geom_point(aes(color= Observer, shape= disambiguation.method), position = position_dodge(width= 0.5))+\n",
    "    ylim(0, 0.7)+\n",
    "    ylab('Pcounter-rotation')+\n",
    "    theme(legend.position=\"none\")\n",
    "print(amb.plot)\n",
    "ggsave('Figures/Exp1 - main effect of ambiguity.pdf', amb.plot, width= 4.5, height= 6.5, units = 'cm',  useDingbats = FALSE)"
   ]
  },
  {
   "cell_type": "markdown",
   "metadata": {},
   "source": [
    "## Plotting main effect of the shape\n",
    "Figure 2E"
   ]
  },
  {
   "cell_type": "code",
   "execution_count": 114,
   "metadata": {},
   "outputs": [
    {
     "data": {
      "text/plain": [
       "Linear mixed model fit by REML t-tests use Satterthwaite approximations to\n",
       "  degrees of freedom [lmerMod]\n",
       "Formula: fraction ~ Shape + (1 | Observer)\n",
       "   Data: counter.rotation\n",
       "\n",
       "REML criterion at convergence: -19.4\n",
       "\n",
       "Scaled residuals: \n",
       "    Min      1Q  Median      3Q     Max \n",
       "-2.0085 -0.8024  0.0078  0.6387  3.3082 \n",
       "\n",
       "Random effects:\n",
       " Groups   Name        Variance Std.Dev.\n",
       " Observer (Intercept) 0.005579 0.07469 \n",
       " Residual             0.047391 0.21769 \n",
       "Number of obs: 204, groups:  Observer, 17\n",
       "\n",
       "Fixed effects:\n",
       "             Estimate Std. Error        df t value Pr(>|t|)    \n",
       "(Intercept)   0.37555    0.02816  31.55000  13.338 1.64e-14 ***\n",
       "Shapesphere  -0.07597    0.03048 186.00000  -2.492   0.0136 *  \n",
       "---\n",
       "Signif. codes:  0 '***' 0.001 '**' 0.01 '*' 0.05 '.' 0.1 ' ' 1\n",
       "\n",
       "Correlation of Fixed Effects:\n",
       "            (Intr)\n",
       "Shapesphere -0.541"
      ]
     },
     "metadata": {},
     "output_type": "display_data"
    },
    {
     "data": {
      "text/html": [
       "<table>\n",
       "<thead><tr><th scope=col>Estimate</th><th scope=col>Std.Error</th><th scope=col>df</th><th scope=col>t.value</th><th scope=col>p.value</th><th scope=col>R.sqr</th></tr></thead>\n",
       "<tbody>\n",
       "\t<tr><td> 0.37555200 </td><td>0.02815640  </td><td> 31.54606   </td><td>13.338070   </td><td>1.643130e-14</td><td>0.9216216   </td></tr>\n",
       "\t<tr><td>-0.07596955 </td><td>0.03048331  </td><td>186.00008   </td><td>-2.492169   </td><td>1.357104e-02</td><td>0.1797581   </td></tr>\n",
       "</tbody>\n",
       "</table>\n"
      ],
      "text/latex": [
       "\\begin{tabular}{r|llllll}\n",
       " Estimate & Std.Error & df & t.value & p.value & R.sqr\\\\\n",
       "\\hline\n",
       "\t  0.37555200  & 0.02815640   &  31.54606    & 13.338070    & 1.643130e-14 & 0.9216216   \\\\\n",
       "\t -0.07596955  & 0.03048331   & 186.00008    & -2.492169    & 1.357104e-02 & 0.1797581   \\\\\n",
       "\\end{tabular}\n"
      ],
      "text/markdown": [
       "\n",
       "Estimate | Std.Error | df | t.value | p.value | R.sqr | \n",
       "|---|---|\n",
       "|  0.37555200  | 0.02815640   |  31.54606    | 13.338070    | 1.643130e-14 | 0.9216216    | \n",
       "| -0.07596955  | 0.03048331   | 186.00008    | -2.492169    | 1.357104e-02 | 0.1797581    | \n",
       "\n",
       "\n"
      ],
      "text/plain": [
       "  Estimate    Std.Error  df        t.value   p.value      R.sqr    \n",
       "1  0.37555200 0.02815640  31.54606 13.338070 1.643130e-14 0.9216216\n",
       "2 -0.07596955 0.03048331 186.00008 -2.492169 1.357104e-02 0.1797581"
      ]
     },
     "metadata": {},
     "output_type": "display_data"
    },
    {
     "data": {
      "image/png": "[encoded data removed]",
      "text/plain": [
       "plot without title"
      ]
     },
     "metadata": {},
     "output_type": "display_data"
    }
   ],
   "source": [
    "shape.df <- counter.rotation %>%\n",
    "    dplyr::group_by(Observer, Shape, disambiguation.method) %>%\n",
    "    dplyr::summarize(fraction= mean(fraction))\n",
    "\n",
    "# using shape as the only factor in LMER\n",
    "shape.as.only.factor <- lmerTest::lmer(fraction ~ Shape + (1|Observer), data= counter.rotation)\n",
    "summary(shape.as.only.factor)\n",
    "coefficients.only <- data.frame(summary(shape.as.only.factor)$coefficients)\n",
    "colnames(coefficients.only) <- c('Estimate', 'Std.Error', 'df', 't.value', 'p.value')\n",
    "dplyr::mutate(coefficients.only, R.sqr= rcontrast(t.value, df))\n",
    "\n",
    "\n",
    "shape.plot <- ggplot(data= shape.df, aes(x= Shape, y= fraction))+\n",
    "    geom_boxplot(outlier.shape = NA, width= 0.5)+\n",
    "    geom_point(aes(color= Observer, shape= disambiguation.method), position = position_dodge(width= 0.5))+\n",
    "    ylim(0, 0.7)+\n",
    "    ylab('Pcounter-rotation')+\n",
    "    theme(legend.position=\"none\")\n",
    "print(shape.plot)\n",
    "ggsave('Figures/Exp1 - main effect of shape.pdf', shape.plot, width= 4.5, height= 6.5, units = 'cm',  useDingbats = FALSE)"
   ]
  },
  {
   "cell_type": "markdown",
   "metadata": {},
   "source": [
    "## Evaluating perceptual trapping\n",
    "Figure 2F\n",
    "\n",
    "First, counting eligible blocks"
   ]
  },
  {
   "cell_type": "code",
   "execution_count": 159,
   "metadata": {},
   "outputs": [
    {
     "name": "stdout",
     "output_type": "stream",
     "text": [
      "Number of eligible blocks: 87\n",
      "Number of eligible participants: 11"
     ]
    }
   ],
   "source": [
    "# computing fraction of time observers reported counter-rotation throughout each block\n",
    "eligible.blocks <- reports %>%\n",
    "    dplyr::filter(is.finite(counter.rotation)) %>%\n",
    "    dplyr::group_by(Observer, disambiguation.method, Block, Shape, Gap, ambiguity) %>%\n",
    "    dplyr::filter(n()>10) %>%\n",
    "    dplyr::summarize(fraction= sum(Duration[counter.rotation])/sum(Duration, na.rm = TRUE))  %>%\n",
    "    dplyr::filter(fraction>= 0.3 & fraction <= 0.7)\n",
    "cat(sprintf('Number of eligible blocks: %d\\n', nrow(eligible.blocks)))\n",
    "\n",
    "eligible.participants <- eligible.blocks %>%\n",
    "    group_by(Observer) %>%\n",
    "    summarise()\n",
    "\n",
    "cat(sprintf('Number of eligible participants: %d', nrow(eligible.participants)))\n"
   ]
  },
  {
   "cell_type": "code",
   "execution_count": 176,
   "metadata": {},
   "outputs": [
    {
     "name": "stderr",
     "output_type": "stream",
     "text": [
      "Joining, by = c(\"Observer\", \"Block\", \"Shape\", \"Gap\", \"disambiguation.method\", \"ambiguity\")\n"
     ]
    }
   ],
   "source": [
    "persistence.relative.to.chance.level <- function(perceptual.reports){\n",
    "    reports.N <- length(perceptual.reports)\n",
    "    actual.persistence <- mean(perceptual.reports[1:(reports.N-1)]==perceptual.reports[2:reports.N])\n",
    "\n",
    "    shuffle.repetitions <- 1000\n",
    "    shuffled.persistence <- rep(NA, shuffle.repetitions) \n",
    "    for(iteration in 1:shuffle.repetitions){\n",
    "        shuffled.reports <- sample(perceptual.reports)\n",
    "        shuffled.persistence[iteration] <- mean(shuffled.reports[1:(reports.N-1)]==shuffled.reports[2:reports.N])\n",
    "    }    \n",
    "\n",
    "    # z-scoring the actual persistence based on the randomly sampled sequences\n",
    "    z.scores <- c(scale(c(actual.persistence, shuffled.persistence)))\n",
    "    return(z.scores[1])\n",
    "    \n",
    "    # computing there the actual persistence is relative to a distribution of randomly shuffled reports\n",
    "    # we need to use -, as t-test measures distance from the center of distribution to the value and we need it the other way around\n",
    "#     return(-t.test(logit(shuffled.persistence), mu= logit(actual.persistence))$statistic)\n",
    "}\n",
    "\n",
    "eligible.reports <- reports %>% \n",
    "    semi_join(eligible.blocks) %>%\n",
    "    \n",
    "    # adding unique block index\n",
    "    group_by(Observer, disambiguation.method, Block, Shape, Gap, ambiguity) %>%\n",
    "    mutate(block.id= str_c(as.character(Observer[1]), as.character(disambiguation.method[1]), as.character(Block[1]), as.character(Shape[1]), as.character(Gap[1]), as.character(ambiguity[1]))) %>%\n",
    "    ungroup() %>%\n",
    "    mutate(block.id= as.factor(block.id)) %>%\n",
    "    \n",
    "    # computing probability of perceptual trapping\n",
    "    filter(is.finite(counter.rotation)) %>%\n",
    "    group_by(Observer,block.id) %>%\n",
    "    summarise(p.trapped= mean(counter.rotation[1:(n()-1)]==counter.rotation[2:n()]),\n",
    "              z.trapped= persistence.relative.to.chance.level(counter.rotation)) "
   ]
  },
  {
   "cell_type": "code",
   "execution_count": 177,
   "metadata": {},
   "outputs": [
    {
     "data": {
      "image/png": "[encoded data removed]",
      "text/plain": [
       "plot without title"
      ]
     },
     "metadata": {},
     "output_type": "display_data"
    }
   ],
   "source": [
    "trapping.plot <- ggplot(data= eligible.reports, aes(x= z.trapped, fill= Observer)) + \n",
    "    geom_histogram(bins= 20)+\n",
    "    theme(legend.position=\"none\")\n",
    "print(trapping.plot)\n",
    "ggsave('Figures/Exp1 - perceptual trapping.pdf', trapping.plot, width= 8.5, height= 5.5, units = 'cm',  useDingbats = FALSE)"
   ]
  }
 ],
 "metadata": {
  "kernelspec": {
   "display_name": "R",
   "language": "R",
   "name": "ir"
  },
  "language_info": {
   "codemirror_mode": "r",
   "file_extension": ".r",
   "mimetype": "text/x-r-source",
   "name": "R",
   "pygments_lexer": "r",
   "version": "3.4.2"
  }
 },
 "nbformat": 4,
 "nbformat_minor": 1
}
