{
 "cells": [
  {
   "cell_type": "markdown",
   "metadata": {},
   "source": [
    "# Complete analysis for Experiment 3"
   ]
  },
  {
   "cell_type": "code",
   "execution_count": 95,
   "metadata": {},
   "outputs": [],
   "source": [
    "rm(list= ls())"
   ]
  },
  {
   "cell_type": "code",
   "execution_count": 2,
   "metadata": {},
   "outputs": [
    {
     "name": "stderr",
     "output_type": "stream",
     "text": [
      "\n",
      "Attaching package: 'dplyr'\n",
      "\n",
      "The following objects are masked from 'package:plyr':\n",
      "\n",
      "    arrange, count, desc, failwith, id, mutate, rename, summarise,\n",
      "    summarize\n",
      "\n",
      "The following objects are masked from 'package:stats':\n",
      "\n",
      "    filter, lag\n",
      "\n",
      "The following objects are masked from 'package:base':\n",
      "\n",
      "    intersect, setdiff, setequal, union\n",
      "\n",
      "Loading required package: coda\n",
      "Loading required package: Matrix\n",
      "Warning message:\n",
      "\"package 'Matrix' was built under R version 3.4.3\"\n",
      "Attaching package: 'Matrix'\n",
      "\n",
      "The following object is masked from 'package:tidyr':\n",
      "\n",
      "    expand\n",
      "\n",
      "************\n",
      "Welcome to BayesFactor 0.9.12-2. If you have questions, please contact Richard Morey (richarddmorey@gmail.com).\n",
      "\n",
      "Type BFManual() to open the manual.\n",
      "************\n",
      "Warning message:\n",
      "\"package 'lme4' was built under R version 3.4.3\"Warning message:\n",
      "\"package 'lmerTest' was built under R version 3.4.3\"\n",
      "Attaching package: 'lmerTest'\n",
      "\n",
      "The following object is masked from 'package:lme4':\n",
      "\n",
      "    lmer\n",
      "\n",
      "The following object is masked from 'package:stats':\n",
      "\n",
      "    step\n",
      "\n",
      "Warning message:\n",
      "\"package 'numform' was built under R version 3.4.3\""
     ]
    }
   ],
   "source": [
    "library(plyr)\n",
    "library(dplyr)\n",
    "library(tidyr)\n",
    "library(ggplot2)\n",
    "library(BayesFactor)\n",
    "library(lme4)\n",
    "library(lmerTest)\n",
    "library(numform)"
   ]
  },
  {
   "cell_type": "markdown",
   "metadata": {},
   "source": [
    "## Loading the data"
   ]
  },
  {
   "cell_type": "code",
   "execution_count": 4,
   "metadata": {},
   "outputs": [
    {
     "data": {
      "text/html": [
       "<table>\n",
       "<thead><tr><th scope=col>Observer</th><th scope=col>switch.fraction</th></tr></thead>\n",
       "<tbody>\n",
       "\t<tr><td>ACR94m    </td><td>0.08201058</td></tr>\n",
       "\t<tr><td>ASA97w    </td><td>0.73513514</td></tr>\n",
       "\t<tr><td>AZM90w    </td><td>0.63227513</td></tr>\n",
       "\t<tr><td>BBW97w    </td><td>0.22606383</td></tr>\n",
       "\t<tr><td>ERK91m    </td><td>0.78238342</td></tr>\n",
       "\t<tr><td>MCB93w    </td><td>0.72751323</td></tr>\n",
       "\t<tr><td>NSM89w    </td><td>0.74064171</td></tr>\n",
       "\t<tr><td>RZN88w    </td><td>0.89572193</td></tr>\n",
       "\t<tr><td>SBS92w    </td><td>0.52432432</td></tr>\n",
       "\t<tr><td>SGP95w    </td><td>0.37978142</td></tr>\n",
       "\t<tr><td>SGS95w    </td><td>0.73947368</td></tr>\n",
       "\t<tr><td>SJW88m    </td><td>0.47010870</td></tr>\n",
       "</tbody>\n",
       "</table>\n"
      ],
      "text/latex": [
       "\\begin{tabular}{r|ll}\n",
       " Observer & switch.fraction\\\\\n",
       "\\hline\n",
       "\t ACR94m     & 0.08201058\\\\\n",
       "\t ASA97w     & 0.73513514\\\\\n",
       "\t AZM90w     & 0.63227513\\\\\n",
       "\t BBW97w     & 0.22606383\\\\\n",
       "\t ERK91m     & 0.78238342\\\\\n",
       "\t MCB93w     & 0.72751323\\\\\n",
       "\t NSM89w     & 0.74064171\\\\\n",
       "\t RZN88w     & 0.89572193\\\\\n",
       "\t SBS92w     & 0.52432432\\\\\n",
       "\t SGP95w     & 0.37978142\\\\\n",
       "\t SGS95w     & 0.73947368\\\\\n",
       "\t SJW88m     & 0.47010870\\\\\n",
       "\\end{tabular}\n"
      ],
      "text/markdown": [
       "\n",
       "Observer | switch.fraction | \n",
       "|---|---|---|---|---|---|---|---|---|---|---|---|\n",
       "| ACR94m     | 0.08201058 | \n",
       "| ASA97w     | 0.73513514 | \n",
       "| AZM90w     | 0.63227513 | \n",
       "| BBW97w     | 0.22606383 | \n",
       "| ERK91m     | 0.78238342 | \n",
       "| MCB93w     | 0.72751323 | \n",
       "| NSM89w     | 0.74064171 | \n",
       "| RZN88w     | 0.89572193 | \n",
       "| SBS92w     | 0.52432432 | \n",
       "| SGP95w     | 0.37978142 | \n",
       "| SGS95w     | 0.73947368 | \n",
       "| SJW88m     | 0.47010870 | \n",
       "\n",
       "\n"
      ],
      "text/plain": [
       "   Observer switch.fraction\n",
       "1  ACR94m   0.08201058     \n",
       "2  ASA97w   0.73513514     \n",
       "3  AZM90w   0.63227513     \n",
       "4  BBW97w   0.22606383     \n",
       "5  ERK91m   0.78238342     \n",
       "6  MCB93w   0.72751323     \n",
       "7  NSM89w   0.74064171     \n",
       "8  RZN88w   0.89572193     \n",
       "9  SBS92w   0.52432432     \n",
       "10 SGP95w   0.37978142     \n",
       "11 SGS95w   0.73947368     \n",
       "12 SJW88m   0.47010870     "
      ]
     },
     "metadata": {},
     "output_type": "display_data"
    },
    {
     "data": {
      "text/plain": [
       "   Min. 1st Qu.  Median    Mean 3rd Qu.    Max. \n",
       "0.08201 0.44753 0.67989 0.57795 0.73977 0.89572 "
      ]
     },
     "metadata": {},
     "output_type": "display_data"
    }
   ],
   "source": [
    "data.folder <- 'Experiment 3'\n",
    "file.list <- list.files(path= data.folder, pattern= 'csv$')\n",
    "reports <- data.frame()\n",
    "for(current.filename in file.list){\n",
    "    current.observer <- read.csv2(file.path(paste(data.folder, current.filename, sep='/')))\n",
    "    current.observer$Yellow <- current.observer$Yellow=='True'\n",
    "    reports <- rbind(reports, current.observer)\n",
    "}\n",
    "\n",
    "# Combining a single object trigger and a single switch reports into a single value\n",
    "\n",
    "reports$Switch.comb <- as.character(reports$Switch)\n",
    "reports$Switch.comb[reports$Switch.comb %in% c('left', 'right')] <- 'single'\n",
    "reports$Switch.comb <- factor(reports$Switch.comb, levels = c('neither', 'single', 'both'))\n",
    "reports$Switch.comb <- plyr::revalue(reports$Switch.comb, c(\"neither\"=\"no trigger\", \"single\"=\"single trigger\", \"both\"=\"double trigger\"))\n",
    "\n",
    "\n",
    "reports$Response.comb <- as.character(reports$Response)\n",
    "reports$Response.comb[reports$Response.comb %in% c('left', 'right')] <- 'single'\n",
    "reports$Response.comb <- factor(reports$Response.comb, levels = c('neither', 'single', 'both'))\n",
    "reports$Response.comb <- plyr::revalue(reports$Response.comb, c(\"neither\"=\"no switch\", \"single\"=\"single switch\", \"both\"=\"double switch\"))\n",
    "\n",
    "reports <- reports %>%\n",
    "    mutate(Gap.Label= recode(Gap, '-0.15'= 'overlap', '0'='touching', '0.15'= 'gap')) %>%\n",
    "    mutate(Gap.Label= factor(Gap.Label, levels= c('overlap', 'touching', 'gap')))\n",
    "\n",
    "# Excluding observers who failed to respond to the exogenous trigger\n",
    "overall.trigger.efficiency <- reports %>%\n",
    "    dplyr::filter(Switch!='neither') %>%\n",
    "    dplyr::group_by(Observer) %>%\n",
    "    dplyr::summarize(switch.fraction= mean(Response!='neither'))\n",
    "\n",
    "overly.stable.observers <- overall.trigger.efficiency$Observer[overall.trigger.efficiency$switch.fraction<0.25]\n",
    "spontaneous.switch.rate <- reports %>%\n",
    "    dplyr::filter(Switch=='neither') %>%\n",
    "    dplyr::group_by(Observer) %>%\n",
    "    dplyr::summarize(switch.fraction= mean(Response!='neither'))\n",
    "overly.instable.observers <- spontaneous.switch.rate$Observer[spontaneous.switch.rate$switch.fraction>0.5]\n",
    "\n",
    "reports$Observer <- as.factor(as.character(reports$Observer))\n",
    "\n",
    "# recomputing for methods after excluding overly stable observers\n",
    "overall.trigger.efficiency <- reports %>%\n",
    "    dplyr::filter(Switch!='neither') %>%\n",
    "    dplyr::group_by(Observer) %>%\n",
    "    dplyr::summarize(switch.fraction= mean(Response!='neither'))\n",
    "\n",
    "overall.trigger.efficiency\n",
    "\n",
    "summary(overall.trigger.efficiency$switch.fraction)"
   ]
  },
  {
   "cell_type": "markdown",
   "metadata": {},
   "source": [
    "## Effect of the exogenous trigger (or of its absence) and of the layout\n",
    "\n",
    "Computing proprtion of reports of all kinds (`neither`, `single`, and `both`; columns) vs. type of the exogenous trigger (`neither`, `single`, and `both`; rows)"
   ]
  },
  {
   "cell_type": "code",
   "execution_count": 5,
   "metadata": {},
   "outputs": [
    {
     "data": {
      "image/png": "[encoded data removed]",
      "text/plain": [
       "plot without title"
      ]
     },
     "metadata": {},
     "output_type": "display_data"
    }
   ],
   "source": [
    "trigger.count <- reports %>%\n",
    "    dplyr::group_by(Observer, Switch.comb, Gap, Response.comb) %>%\n",
    "    dplyr::summarize(response.count= n()) %>%\n",
    "    dplyr::ungroup() %>%\n",
    "    tidyr::complete(Observer, Switch.comb, Gap, Response.comb) %>%\n",
    "    dplyr::mutate(response.count= ifelse(is.na(response.count), 0, response.count)) %>%\n",
    "    dplyr::group_by(Observer, Gap, Switch.comb) %>%\n",
    "    dplyr::mutate(report.proportion= response.count/sum(response.count))\n",
    "\n",
    "proportion.plot <- ggplot(data= trigger.count, aes(x= Gap, group= Gap, y= report.proportion, color= Observer))+\n",
    "    geom_boxplot(outlier.shape = NA) +\n",
    "    geom_jitter(aes(color= Observer)) +\n",
    "    xlab('Layout') +\n",
    "    ylab('Report proportion')+\n",
    "    theme(legend.position='none') +\n",
    "    facet_grid(Switch.comb ~ Response.comb)+\n",
    "    ggtitle('Report proportions.\\nColumns: Response type. Row: Exogenous trigger type.')+\n",
    "    scale_x_continuous(breaks = c(sort(unique(trigger.count$Gap))), labels = c('Overlap', 'Touching', 'Gap'))\n",
    "print(proportion.plot)\n",
    "# ggsave('Exp2 - trigger vs report.pdf')"
   ]
  },
  {
   "cell_type": "markdown",
   "metadata": {},
   "source": [
    "Same information but plotted in a somewhat easier to see way (__Figure 5__ in the manuscript)"
   ]
  },
  {
   "cell_type": "code",
   "execution_count": 6,
   "metadata": {},
   "outputs": [
    {
     "data": {
      "image/png": "[encoded data removed]",
      "text/plain": [
       "plot without title"
      ]
     },
     "metadata": {},
     "output_type": "display_data"
    }
   ],
   "source": [
    "group.trigger.count <- reports %>%\n",
    "    dplyr::group_by(Observer, Switch.comb, Gap, Response.comb) %>%\n",
    "    dplyr::summarize(response.count= n()) %>%\n",
    "    dplyr::ungroup() %>%\n",
    "    tidyr::complete(Observer, Switch.comb, Gap, Response.comb) %>%\n",
    "    dplyr::mutate(response.count= ifelse(is.na(response.count), 0, response.count)) %>%\n",
    "    dplyr::group_by(Observer, Gap, Switch.comb) %>%\n",
    "    dplyr::mutate(report.proportion= response.count/sum(response.count)) %>%\n",
    "    dplyr::group_by(Switch.comb, Gap, Response.comb) %>%\n",
    "    dplyr::summarize(P.report= mean(report.proportion), \n",
    "                     P.serr= sd(report.proportion)/sqrt(n()-1))\n",
    "\n",
    "proportion.plot <- ggplot(data= group.trigger.count, aes(x= Gap, \n",
    "                                                         y= P.report, ymin= P.report-P.serr, ymax= P.report+P.serr,\n",
    "                                                         color= Response.comb, shape= Response.comb))+\n",
    "    geom_line() +\n",
    "    geom_point() +\n",
    "    geom_errorbar(width=0.05) + \n",
    "    xlab('Layout') +\n",
    "    ylab('Preport')+\n",
    "#     theme(legend.position='none') +\n",
    "    facet_grid(. ~ Switch.comb)+\n",
    "#     ggtitle('Report proportions.\\nColumns: Response type. Row: Exogenous trigger type.')+\n",
    "    scale_x_continuous(breaks = c(sort(unique(trigger.count$Gap))), labels = c('Overlap', 'Touching', 'Gap'))+\n",
    "    scale_y_continuous(labels = numform::ff_num(zero = 0, digits= 2))+\n",
    "    theme(panel.grid.minor.x=element_blank())+\n",
    "    scale_shape_manual(values=c(21, 22, 23))\n",
    "\n",
    "\n",
    "print(proportion.plot)\n",
    "ggsave('Exp2 - proportion plot.pdf', proportion.plot, width= 16, height= 8, units = 'cm')\n",
    "# ggsave('Exp2 - trigger vs report.pdf')"
   ]
  },
  {
   "cell_type": "markdown",
   "metadata": {},
   "source": [
    "#### Statistical comparison for each trigger type (tables above plots in Figure 5)\n",
    "Given the _no_ visible dependence of reports on the layout, testing whether gap has an effect on the overall probability of the switch\n",
    "Using only __neither__ reports and __single__ and __both__ trigger types"
   ]
  },
  {
   "cell_type": "code",
   "execution_count": 7,
   "metadata": {},
   "outputs": [],
   "source": [
    "rcontrast<-function(t, df) {\n",
    "    return (sqrt(t^2/(t^2 + df)))\n",
    "}"
   ]
  },
  {
   "cell_type": "code",
   "execution_count": 101,
   "metadata": {
    "scrolled": false
   },
   "outputs": [
    {
     "data": {
      "text/html": [
       "<table>\n",
       "<thead><tr><th></th><th scope=col>Df</th><th scope=col>AIC</th><th scope=col>BIC</th><th scope=col>logLik</th><th scope=col>deviance</th><th scope=col>Chisq</th><th scope=col>Chi Df</th><th scope=col>Pr(&gt;Chisq)</th></tr></thead>\n",
       "<tbody>\n",
       "\t<tr><th scope=row>lm.null</th><td>3           </td><td>-61.12972   </td><td>-54.29973   </td><td>33.56486    </td><td>-67.12972   </td><td>       NA   </td><td>NA          </td><td>          NA</td></tr>\n",
       "\t<tr><th scope=row>lm.trigger</th><td>4           </td><td>-86.91478   </td><td>-77.80812   </td><td>47.45739    </td><td>-94.91478   </td><td>27.785058   </td><td> 1          </td><td>1.355691e-07</td></tr>\n",
       "\t<tr><th scope=row>lm.layout</th><td>5           </td><td>-85.95102   </td><td>-74.56769   </td><td>47.97551    </td><td>-95.95102   </td><td> 1.036234   </td><td> 1          </td><td>3.086990e-01</td></tr>\n",
       "\t<tr><th scope=row>lm.interaction</th><td>6           </td><td>-85.36400   </td><td>-71.70400   </td><td>48.68200    </td><td>-97.36400   </td><td> 1.412983   </td><td> 1          </td><td>2.345617e-01</td></tr>\n",
       "</tbody>\n",
       "</table>\n"
      ],
      "text/latex": [
       "\\begin{tabular}{r|llllllll}\n",
       "  & Df & AIC & BIC & logLik & deviance & Chisq & Chi Df & Pr(>Chisq)\\\\\n",
       "\\hline\n",
       "\tlm.null & 3            & -61.12972    & -54.29973    & 33.56486     & -67.12972    &        NA    & NA           &           NA\\\\\n",
       "\tlm.trigger & 4            & -86.91478    & -77.80812    & 47.45739     & -94.91478    & 27.785058    &  1           & 1.355691e-07\\\\\n",
       "\tlm.layout & 5            & -85.95102    & -74.56769    & 47.97551     & -95.95102    &  1.036234    &  1           & 3.086990e-01\\\\\n",
       "\tlm.interaction & 6            & -85.36400    & -71.70400    & 48.68200     & -97.36400    &  1.412983    &  1           & 2.345617e-01\\\\\n",
       "\\end{tabular}\n"
      ],
      "text/markdown": [
       "\n",
       "| <!--/--> | Df | AIC | BIC | logLik | deviance | Chisq | Chi Df | Pr(>Chisq) | \n",
       "|---|---|---|---|\n",
       "| lm.null | 3            | -61.12972    | -54.29973    | 33.56486     | -67.12972    |        NA    | NA           |           NA | \n",
       "| lm.trigger | 4            | -86.91478    | -77.80812    | 47.45739     | -94.91478    | 27.785058    |  1           | 1.355691e-07 | \n",
       "| lm.layout | 5            | -85.95102    | -74.56769    | 47.97551     | -95.95102    |  1.036234    |  1           | 3.086990e-01 | \n",
       "| lm.interaction | 6            | -85.36400    | -71.70400    | 48.68200     | -97.36400    |  1.412983    |  1           | 2.345617e-01 | \n",
       "\n",
       "\n"
      ],
      "text/plain": [
       "               Df AIC       BIC       logLik   deviance  Chisq     Chi Df\n",
       "lm.null        3  -61.12972 -54.29973 33.56486 -67.12972        NA NA    \n",
       "lm.trigger     4  -86.91478 -77.80812 47.45739 -94.91478 27.785058  1    \n",
       "lm.layout      5  -85.95102 -74.56769 47.97551 -95.95102  1.036234  1    \n",
       "lm.interaction 6  -85.36400 -71.70400 48.68200 -97.36400  1.412983  1    \n",
       "               Pr(>Chisq)  \n",
       "lm.null                  NA\n",
       "lm.trigger     1.355691e-07\n",
       "lm.layout      3.086990e-01\n",
       "lm.interaction 2.345617e-01"
      ]
     },
     "metadata": {},
     "output_type": "display_data"
    },
    {
     "data": {
      "text/html": [
       "<ol class=list-inline>\n",
       "\t<li>&lt;NA&gt;</li>\n",
       "\t<li>1.35569120573301e-07</li>\n",
       "\t<li>0.308699002962167</li>\n",
       "\t<li>0.234561746867054</li>\n",
       "</ol>\n"
      ],
      "text/latex": [
       "\\begin{enumerate*}\n",
       "\\item <NA>\n",
       "\\item 1.35569120573301e-07\n",
       "\\item 0.308699002962167\n",
       "\\item 0.234561746867054\n",
       "\\end{enumerate*}\n"
      ],
      "text/markdown": [
       "1. &lt;NA&gt;\n",
       "2. 1.35569120573301e-07\n",
       "3. 0.308699002962167\n",
       "4. 0.234561746867054\n",
       "\n",
       "\n"
      ],
      "text/plain": [
       "[1]           NA 1.355691e-07 3.086990e-01 2.345617e-01"
      ]
     },
     "metadata": {},
     "output_type": "display_data"
    },
    {
     "data": {
      "text/html": [
       "<table>\n",
       "<thead><tr><th scope=col>Estimate</th><th scope=col>Std.Error</th><th scope=col>df</th><th scope=col>t.value</th><th scope=col>p.value</th><th scope=col>R.sqr</th></tr></thead>\n",
       "<tbody>\n",
       "\t<tr><td> 0.44780017 </td><td>0.07159213  </td><td>11.53368    </td><td> 6.254880   </td><td>5.039704e-05</td><td>0.8788168   </td></tr>\n",
       "\t<tr><td>-0.12929924 </td><td>0.02193240  </td><td>58.00014    </td><td>-5.895353   </td><td>2.026535e-07</td><td>0.6121254   </td></tr>\n",
       "\t<tr><td>-0.09000271 </td><td>0.08953864  </td><td>58.00014    </td><td>-1.005183   </td><td>3.189841e-01</td><td>0.1308520   </td></tr>\n",
       "</tbody>\n",
       "</table>\n"
      ],
      "text/latex": [
       "\\begin{tabular}{r|llllll}\n",
       " Estimate & Std.Error & df & t.value & p.value & R.sqr\\\\\n",
       "\\hline\n",
       "\t  0.44780017  & 0.07159213   & 11.53368     &  6.254880    & 5.039704e-05 & 0.8788168   \\\\\n",
       "\t -0.12929924  & 0.02193240   & 58.00014     & -5.895353    & 2.026535e-07 & 0.6121254   \\\\\n",
       "\t -0.09000271  & 0.08953864   & 58.00014     & -1.005183    & 3.189841e-01 & 0.1308520   \\\\\n",
       "\\end{tabular}\n"
      ],
      "text/markdown": [
       "\n",
       "Estimate | Std.Error | df | t.value | p.value | R.sqr | \n",
       "|---|---|---|\n",
       "|  0.44780017  | 0.07159213   | 11.53368     |  6.254880    | 5.039704e-05 | 0.8788168    | \n",
       "| -0.12929924  | 0.02193240   | 58.00014     | -5.895353    | 2.026535e-07 | 0.6121254    | \n",
       "| -0.09000271  | 0.08953864   | 58.00014     | -1.005183    | 3.189841e-01 | 0.1308520    | \n",
       "\n",
       "\n"
      ],
      "text/plain": [
       "  Estimate    Std.Error  df       t.value   p.value      R.sqr    \n",
       "1  0.44780017 0.07159213 11.53368  6.254880 5.039704e-05 0.8788168\n",
       "2 -0.12929924 0.02193240 58.00014 -5.895353 2.026535e-07 0.6121254\n",
       "3 -0.09000271 0.08953864 58.00014 -1.005183 3.189841e-01 0.1308520"
      ]
     },
     "metadata": {},
     "output_type": "display_data"
    }
   ],
   "source": [
    "neither.reports <- trigger.count %>%\n",
    "    dplyr::filter((Response.comb=='no switch') & (Switch.comb!='no trigger'))\n",
    "\n",
    "lm.null <- lme4::lmer(report.proportion ~ 1 + (1|Observer), data= neither.reports, REML= FALSE)\n",
    "lm.trigger <- update(lm.null, .~. + Switch.comb)\n",
    "lm.layout <- update(lm.trigger, .~. + Gap)\n",
    "lm.interaction <- update(lm.layout, .~. + Switch.comb * Gap)\n",
    "neither.report.anova <-  anova(lm.null, lm.trigger, lm.layout, lm.interaction)\n",
    "neither.report.anova\n",
    "neither.report.anova$'Pr(>Chisq)'\n",
    "\n",
    "\n",
    "lmer.report <- summary(lmerTest::lmer(report.proportion ~ Switch.comb + Gap + Switch.comb + (1|Observer), data= neither.reports))\n",
    "\n",
    "coefficients.only <- data.frame(summary(lmer.report)$coefficients)\n",
    "colnames(coefficients.only) <- c('Estimate', 'Std.Error', 'df', 't.value', 'p.value')\n",
    "dplyr::mutate(coefficients.only, R.sqr= rcontrast(t.value, df))\n"
   ]
  },
  {
   "cell_type": "markdown",
   "metadata": {},
   "source": [
    "Given the _positive_ dependence of the `single` reports  on the layout, testing for its significance. Using only __single__ reports and __single__ and __both__ trigger types"
   ]
  },
  {
   "cell_type": "code",
   "execution_count": 8,
   "metadata": {},
   "outputs": [
    {
     "data": {
      "text/html": [
       "<table>\n",
       "<thead><tr><th></th><th scope=col>Df</th><th scope=col>AIC</th><th scope=col>BIC</th><th scope=col>logLik</th><th scope=col>deviance</th><th scope=col>Chisq</th><th scope=col>Chi Df</th><th scope=col>Pr(&gt;Chisq)</th></tr></thead>\n",
       "<tbody>\n",
       "\t<tr><th scope=row>lm.null</th><td>3           </td><td>-27.21998   </td><td>-20.38998   </td><td>16.60999    </td><td>-33.21998   </td><td>       NA   </td><td>NA          </td><td>          NA</td></tr>\n",
       "\t<tr><th scope=row>lm.trigger</th><td>4           </td><td>-66.35329   </td><td>-57.24662   </td><td>37.17664    </td><td>-74.35329   </td><td>41.133305   </td><td> 1          </td><td>1.421926e-10</td></tr>\n",
       "\t<tr><th scope=row>lm.layout</th><td>5           </td><td>-74.14095   </td><td>-62.75762   </td><td>42.07048    </td><td>-84.14095   </td><td> 9.787668   </td><td> 1          </td><td>1.756861e-03</td></tr>\n",
       "\t<tr><th scope=row>lm.interaction</th><td>6           </td><td>-73.26318   </td><td>-59.60318   </td><td>42.63159    </td><td>-85.26318   </td><td> 1.122226   </td><td> 1          </td><td>2.894396e-01</td></tr>\n",
       "</tbody>\n",
       "</table>\n"
      ],
      "text/latex": [
       "\\begin{tabular}{r|llllllll}\n",
       "  & Df & AIC & BIC & logLik & deviance & Chisq & Chi Df & Pr(>Chisq)\\\\\n",
       "\\hline\n",
       "\tlm.null & 3            & -27.21998    & -20.38998    & 16.60999     & -33.21998    &        NA    & NA           &           NA\\\\\n",
       "\tlm.trigger & 4            & -66.35329    & -57.24662    & 37.17664     & -74.35329    & 41.133305    &  1           & 1.421926e-10\\\\\n",
       "\tlm.layout & 5            & -74.14095    & -62.75762    & 42.07048     & -84.14095    &  9.787668    &  1           & 1.756861e-03\\\\\n",
       "\tlm.interaction & 6            & -73.26318    & -59.60318    & 42.63159     & -85.26318    &  1.122226    &  1           & 2.894396e-01\\\\\n",
       "\\end{tabular}\n"
      ],
      "text/markdown": [
       "\n",
       "| <!--/--> | Df | AIC | BIC | logLik | deviance | Chisq | Chi Df | Pr(>Chisq) | \n",
       "|---|---|---|---|\n",
       "| lm.null | 3            | -27.21998    | -20.38998    | 16.60999     | -33.21998    |        NA    | NA           |           NA | \n",
       "| lm.trigger | 4            | -66.35329    | -57.24662    | 37.17664     | -74.35329    | 41.133305    |  1           | 1.421926e-10 | \n",
       "| lm.layout | 5            | -74.14095    | -62.75762    | 42.07048     | -84.14095    |  9.787668    |  1           | 1.756861e-03 | \n",
       "| lm.interaction | 6            | -73.26318    | -59.60318    | 42.63159     | -85.26318    |  1.122226    |  1           | 2.894396e-01 | \n",
       "\n",
       "\n"
      ],
      "text/plain": [
       "               Df AIC       BIC       logLik   deviance  Chisq     Chi Df\n",
       "lm.null        3  -27.21998 -20.38998 16.60999 -33.21998        NA NA    \n",
       "lm.trigger     4  -66.35329 -57.24662 37.17664 -74.35329 41.133305  1    \n",
       "lm.layout      5  -74.14095 -62.75762 42.07048 -84.14095  9.787668  1    \n",
       "lm.interaction 6  -73.26318 -59.60318 42.63159 -85.26318  1.122226  1    \n",
       "               Pr(>Chisq)  \n",
       "lm.null                  NA\n",
       "lm.trigger     1.421926e-10\n",
       "lm.layout      1.756861e-03\n",
       "lm.interaction 2.894396e-01"
      ]
     },
     "metadata": {},
     "output_type": "display_data"
    },
    {
     "data": {
      "text/html": [
       "<ol class=list-inline>\n",
       "\t<li>&lt;NA&gt;</li>\n",
       "\t<li>1.42192622793688e-10</li>\n",
       "\t<li>0.00175686127815031</li>\n",
       "\t<li>0.289439640840228</li>\n",
       "</ol>\n"
      ],
      "text/latex": [
       "\\begin{enumerate*}\n",
       "\\item <NA>\n",
       "\\item 1.42192622793688e-10\n",
       "\\item 0.00175686127815031\n",
       "\\item 0.289439640840228\n",
       "\\end{enumerate*}\n"
      ],
      "text/markdown": [
       "1. &lt;NA&gt;\n",
       "2. 1.42192622793688e-10\n",
       "3. 0.00175686127815031\n",
       "4. 0.289439640840228\n",
       "\n",
       "\n"
      ],
      "text/plain": [
       "[1]           NA 1.421926e-10 1.756861e-03 2.894396e-01"
      ]
     },
     "metadata": {},
     "output_type": "display_data"
    },
    {
     "data": {
      "text/plain": [
       "Linear mixed model fit by REML t-tests use Satterthwaite approximations to\n",
       "  degrees of freedom [lmerMod]\n",
       "Formula: report.proportion ~ Switch.comb + Gap + (1 | Observer)\n",
       "   Data: single.reports\n",
       "\n",
       "REML criterion at convergence: -71\n",
       "\n",
       "Scaled residuals: \n",
       "    Min      1Q  Median      3Q     Max \n",
       "-1.9576 -0.6531 -0.1518  0.4809  2.3250 \n",
       "\n",
       "Random effects:\n",
       " Groups   Name        Variance Std.Dev.\n",
       " Observer (Intercept) 0.006018 0.07757 \n",
       " Residual             0.015547 0.12469 \n",
       "Number of obs: 72, groups:  Observer, 12\n",
       "\n",
       "Fixed effects:\n",
       "                          Estimate Std. Error       df t value Pr(>|t|)    \n",
       "(Intercept)                0.36288    0.03055 18.30000  11.878 4.86e-10 ***\n",
       "Switch.combdouble trigger -0.24100    0.02939 58.00000  -8.200 2.83e-11 ***\n",
       "Gap                        0.38463    0.11998 58.00000   3.206  0.00219 ** \n",
       "---\n",
       "Signif. codes:  0 '***' 0.001 '**' 0.01 '*' 0.05 '.' 0.1 ' ' 1\n",
       "\n",
       "Correlation of Fixed Effects:\n",
       "            (Intr) Swtc.t\n",
       "Swtch.cmbdt -0.481       \n",
       "Gap          0.000  0.000"
      ]
     },
     "metadata": {},
     "output_type": "display_data"
    },
    {
     "data": {
      "text/html": [
       "<table>\n",
       "<thead><tr><th scope=col>Estimate</th><th scope=col>Std.Error</th><th scope=col>df</th><th scope=col>t.value</th><th scope=col>p.value</th><th scope=col>R.sqr</th></tr></thead>\n",
       "<tbody>\n",
       "\t<tr><td> 0.3628799  </td><td>0.03055094  </td><td>18.30378    </td><td>11.877864   </td><td>4.858571e-10</td><td>0.9408303   </td></tr>\n",
       "\t<tr><td>-0.2410013  </td><td>0.02938952  </td><td>58.00007    </td><td>-8.200247   </td><td>2.830203e-11</td><td>0.7327372   </td></tr>\n",
       "\t<tr><td> 0.3846334  </td><td>0.11998222  </td><td>58.00007    </td><td> 3.205753   </td><td>2.192086e-03</td><td>0.3879655   </td></tr>\n",
       "</tbody>\n",
       "</table>\n"
      ],
      "text/latex": [
       "\\begin{tabular}{r|llllll}\n",
       " Estimate & Std.Error & df & t.value & p.value & R.sqr\\\\\n",
       "\\hline\n",
       "\t  0.3628799   & 0.03055094   & 18.30378     & 11.877864    & 4.858571e-10 & 0.9408303   \\\\\n",
       "\t -0.2410013   & 0.02938952   & 58.00007     & -8.200247    & 2.830203e-11 & 0.7327372   \\\\\n",
       "\t  0.3846334   & 0.11998222   & 58.00007     &  3.205753    & 2.192086e-03 & 0.3879655   \\\\\n",
       "\\end{tabular}\n"
      ],
      "text/markdown": [
       "\n",
       "Estimate | Std.Error | df | t.value | p.value | R.sqr | \n",
       "|---|---|---|\n",
       "|  0.3628799   | 0.03055094   | 18.30378     | 11.877864    | 4.858571e-10 | 0.9408303    | \n",
       "| -0.2410013   | 0.02938952   | 58.00007     | -8.200247    | 2.830203e-11 | 0.7327372    | \n",
       "|  0.3846334   | 0.11998222   | 58.00007     |  3.205753    | 2.192086e-03 | 0.3879655    | \n",
       "\n",
       "\n"
      ],
      "text/plain": [
       "  Estimate   Std.Error  df       t.value   p.value      R.sqr    \n",
       "1  0.3628799 0.03055094 18.30378 11.877864 4.858571e-10 0.9408303\n",
       "2 -0.2410013 0.02938952 58.00007 -8.200247 2.830203e-11 0.7327372\n",
       "3  0.3846334 0.11998222 58.00007  3.205753 2.192086e-03 0.3879655"
      ]
     },
     "metadata": {},
     "output_type": "display_data"
    }
   ],
   "source": [
    "single.reports <- trigger.count %>%\n",
    "    dplyr::filter((Response.comb=='single switch') & (Switch.comb!='no trigger'))\n",
    "lm.null <- lme4::lmer(report.proportion ~ 1 + (1|Observer), data= single.reports, REML= FALSE)\n",
    "lm.trigger <- update(lm.null, .~. + Switch.comb)\n",
    "lm.layout <- update(lm.trigger, .~. + Gap)\n",
    "lm.interaction <- update(lm.layout, .~. + Switch.comb * Gap)\n",
    "single.report.anova <- anova(lm.null, lm.trigger, lm.layout, lm.interaction)\n",
    "single.report.anova\n",
    "single.report.anova$'Pr(>Chisq)'\n",
    "\n",
    "lmer.report <- summary(lmerTest::lmer(report.proportion ~ Switch.comb + Gap +  (1|Observer), data= single.reports))\n",
    "\n",
    "lmer.report\n",
    "coefficients.only <- data.frame(summary(lmer.report)$coefficients)\n",
    "colnames(coefficients.only) <- c('Estimate', 'Std.Error', 'df', 't.value', 'p.value')\n",
    "dplyr::mutate(coefficients.only, R.sqr= rcontrast(t.value, df))"
   ]
  },
  {
   "cell_type": "markdown",
   "metadata": {},
   "source": [
    "The analysis shows that the smaller gap produces fewer __single__ switch responses (highly significant _positive_ slope for `Gap`) and that there were fewer __single__ switch responses for when the exogenous trigger was applied to __both__ spheres (highly significant negative factor for `Switch.combboth`). However, there is no evidence for the interaction."
   ]
  },
  {
   "cell_type": "markdown",
   "metadata": {},
   "source": [
    "Given the _negative_ dependence of the `both` reports  on the layout, testing for its significance. Using only __both__ reports and __single__ and __both__ trigger types"
   ]
  },
  {
   "cell_type": "code",
   "execution_count": 103,
   "metadata": {},
   "outputs": [
    {
     "data": {
      "text/html": [
       "<table>\n",
       "<thead><tr><th></th><th scope=col>Df</th><th scope=col>AIC</th><th scope=col>BIC</th><th scope=col>logLik</th><th scope=col>deviance</th><th scope=col>Chisq</th><th scope=col>Chi Df</th><th scope=col>Pr(&gt;Chisq)</th></tr></thead>\n",
       "<tbody>\n",
       "\t<tr><th scope=row>lm.null</th><td>3           </td><td> 26.27093   </td><td> 33.10093   </td><td>-10.13547   </td><td> 20.27093   </td><td>         NA </td><td>NA          </td><td>          NA</td></tr>\n",
       "\t<tr><th scope=row>lm.trigger</th><td>4           </td><td>-31.59586   </td><td>-22.48920   </td><td> 19.79793   </td><td>-39.59586   </td><td>59.86679380 </td><td> 1          </td><td>1.014996e-14</td></tr>\n",
       "\t<tr><th scope=row>lm.layout</th><td>5           </td><td>-33.63082   </td><td>-22.24749   </td><td> 21.81541   </td><td>-43.63082   </td><td> 4.03495700 </td><td> 1          </td><td>4.456681e-02</td></tr>\n",
       "\t<tr><th scope=row>lm.interaction</th><td>6           </td><td>-31.65074   </td><td>-17.99074   </td><td> 21.82537   </td><td>-43.65074   </td><td> 0.01992091 </td><td> 1          </td><td>8.877582e-01</td></tr>\n",
       "</tbody>\n",
       "</table>\n"
      ],
      "text/latex": [
       "\\begin{tabular}{r|llllllll}\n",
       "  & Df & AIC & BIC & logLik & deviance & Chisq & Chi Df & Pr(>Chisq)\\\\\n",
       "\\hline\n",
       "\tlm.null & 3            &  26.27093    &  33.10093    & -10.13547    &  20.27093    &          NA  & NA           &           NA\\\\\n",
       "\tlm.trigger & 4            & -31.59586    & -22.48920    &  19.79793    & -39.59586    & 59.86679380  &  1           & 1.014996e-14\\\\\n",
       "\tlm.layout & 5            & -33.63082    & -22.24749    &  21.81541    & -43.63082    &  4.03495700  &  1           & 4.456681e-02\\\\\n",
       "\tlm.interaction & 6            & -31.65074    & -17.99074    &  21.82537    & -43.65074    &  0.01992091  &  1           & 8.877582e-01\\\\\n",
       "\\end{tabular}\n"
      ],
      "text/markdown": [
       "\n",
       "| <!--/--> | Df | AIC | BIC | logLik | deviance | Chisq | Chi Df | Pr(>Chisq) | \n",
       "|---|---|---|---|\n",
       "| lm.null | 3            |  26.27093    |  33.10093    | -10.13547    |  20.27093    |          NA  | NA           |           NA | \n",
       "| lm.trigger | 4            | -31.59586    | -22.48920    |  19.79793    | -39.59586    | 59.86679380  |  1           | 1.014996e-14 | \n",
       "| lm.layout | 5            | -33.63082    | -22.24749    |  21.81541    | -43.63082    |  4.03495700  |  1           | 4.456681e-02 | \n",
       "| lm.interaction | 6            | -31.65074    | -17.99074    |  21.82537    | -43.65074    |  0.01992091  |  1           | 8.877582e-01 | \n",
       "\n",
       "\n"
      ],
      "text/plain": [
       "               Df AIC       BIC       logLik    deviance  Chisq       Chi Df\n",
       "lm.null        3   26.27093  33.10093 -10.13547  20.27093          NA NA    \n",
       "lm.trigger     4  -31.59586 -22.48920  19.79793 -39.59586 59.86679380  1    \n",
       "lm.layout      5  -33.63082 -22.24749  21.81541 -43.63082  4.03495700  1    \n",
       "lm.interaction 6  -31.65074 -17.99074  21.82537 -43.65074  0.01992091  1    \n",
       "               Pr(>Chisq)  \n",
       "lm.null                  NA\n",
       "lm.trigger     1.014996e-14\n",
       "lm.layout      4.456681e-02\n",
       "lm.interaction 8.877582e-01"
      ]
     },
     "metadata": {},
     "output_type": "display_data"
    },
    {
     "data": {
      "text/html": [
       "<ol class=list-inline>\n",
       "\t<li>&lt;NA&gt;</li>\n",
       "\t<li>59.8667938044599</li>\n",
       "\t<li>4.0349570036371</li>\n",
       "\t<li>0.0199209128104911</li>\n",
       "</ol>\n"
      ],
      "text/latex": [
       "\\begin{enumerate*}\n",
       "\\item <NA>\n",
       "\\item 59.8667938044599\n",
       "\\item 4.0349570036371\n",
       "\\item 0.0199209128104911\n",
       "\\end{enumerate*}\n"
      ],
      "text/markdown": [
       "1. &lt;NA&gt;\n",
       "2. 59.8667938044599\n",
       "3. 4.0349570036371\n",
       "4. 0.0199209128104911\n",
       "\n",
       "\n"
      ],
      "text/plain": [
       "[1]          NA 59.86679380  4.03495700  0.01992091"
      ]
     },
     "metadata": {},
     "output_type": "display_data"
    },
    {
     "data": {
      "text/html": [
       "<ol class=list-inline>\n",
       "\t<li>&lt;NA&gt;</li>\n",
       "\t<li>1.01499565488158e-14</li>\n",
       "\t<li>0.044566810972656</li>\n",
       "\t<li>0.887758188100326</li>\n",
       "</ol>\n"
      ],
      "text/latex": [
       "\\begin{enumerate*}\n",
       "\\item <NA>\n",
       "\\item 1.01499565488158e-14\n",
       "\\item 0.044566810972656\n",
       "\\item 0.887758188100326\n",
       "\\end{enumerate*}\n"
      ],
      "text/markdown": [
       "1. &lt;NA&gt;\n",
       "2. 1.01499565488158e-14\n",
       "3. 0.044566810972656\n",
       "4. 0.887758188100326\n",
       "\n",
       "\n"
      ],
      "text/plain": [
       "[1]           NA 1.014996e-14 4.456681e-02 8.877582e-01"
      ]
     },
     "metadata": {},
     "output_type": "display_data"
    },
    {
     "data": {
      "text/plain": [
       "Linear mixed model fit by REML t-tests use Satterthwaite approximations to\n",
       "  degrees of freedom [lmerMod]\n",
       "Formula: report.proportion ~ Switch.comb + Gap + (1 | Observer)\n",
       "   Data: both.reports\n",
       "\n",
       "REML criterion at convergence: -32.7\n",
       "\n",
       "Scaled residuals: \n",
       "     Min       1Q   Median       3Q      Max \n",
       "-1.93140 -0.64564 -0.01935  0.79617  1.95528 \n",
       "\n",
       "Random effects:\n",
       " Groups   Name        Variance Std.Dev.\n",
       " Observer (Intercept) 0.02989  0.1729  \n",
       " Residual             0.02324  0.1524  \n",
       "Number of obs: 72, groups:  Observer, 12\n",
       "\n",
       "Fixed effects:\n",
       "                          Estimate Std. Error       df t value Pr(>|t|)    \n",
       "(Intercept)                0.18932    0.05600 13.63000   3.380  0.00463 ** \n",
       "Switch.combdouble trigger  0.37030    0.03593 58.00000  10.306 9.99e-15 ***\n",
       "Gap                       -0.29463    0.14668 58.00000  -2.009  0.04924 *  \n",
       "---\n",
       "Signif. codes:  0 '***' 0.001 '**' 0.01 '*' 0.05 '.' 0.1 ' ' 1\n",
       "\n",
       "Correlation of Fixed Effects:\n",
       "            (Intr) Swtc.t\n",
       "Swtch.cmbdt -0.321       \n",
       "Gap          0.000  0.000"
      ]
     },
     "metadata": {},
     "output_type": "display_data"
    },
    {
     "data": {
      "text/html": [
       "<table>\n",
       "<thead><tr><th scope=col>Estimate</th><th scope=col>Std.Error</th><th scope=col>df</th><th scope=col>t.value</th><th scope=col>p.value</th><th scope=col>R.sqr</th></tr></thead>\n",
       "<tbody>\n",
       "\t<tr><td> 0.1893200  </td><td>0.05600391  </td><td>13.63413    </td><td> 3.380478   </td><td>4.634757e-03</td><td>0.6752619   </td></tr>\n",
       "\t<tr><td> 0.3703006  </td><td>0.03592968  </td><td>58.00005    </td><td>10.306259   </td><td>9.992007e-15</td><td>0.8042468   </td></tr>\n",
       "\t<tr><td>-0.2946307  </td><td>0.14668231  </td><td>58.00005    </td><td>-2.008631   </td><td>4.923953e-02</td><td>0.2550252   </td></tr>\n",
       "</tbody>\n",
       "</table>\n"
      ],
      "text/latex": [
       "\\begin{tabular}{r|llllll}\n",
       " Estimate & Std.Error & df & t.value & p.value & R.sqr\\\\\n",
       "\\hline\n",
       "\t  0.1893200   & 0.05600391   & 13.63413     &  3.380478    & 4.634757e-03 & 0.6752619   \\\\\n",
       "\t  0.3703006   & 0.03592968   & 58.00005     & 10.306259    & 9.992007e-15 & 0.8042468   \\\\\n",
       "\t -0.2946307   & 0.14668231   & 58.00005     & -2.008631    & 4.923953e-02 & 0.2550252   \\\\\n",
       "\\end{tabular}\n"
      ],
      "text/markdown": [
       "\n",
       "Estimate | Std.Error | df | t.value | p.value | R.sqr | \n",
       "|---|---|---|\n",
       "|  0.1893200   | 0.05600391   | 13.63413     |  3.380478    | 4.634757e-03 | 0.6752619    | \n",
       "|  0.3703006   | 0.03592968   | 58.00005     | 10.306259    | 9.992007e-15 | 0.8042468    | \n",
       "| -0.2946307   | 0.14668231   | 58.00005     | -2.008631    | 4.923953e-02 | 0.2550252    | \n",
       "\n",
       "\n"
      ],
      "text/plain": [
       "  Estimate   Std.Error  df       t.value   p.value      R.sqr    \n",
       "1  0.1893200 0.05600391 13.63413  3.380478 4.634757e-03 0.6752619\n",
       "2  0.3703006 0.03592968 58.00005 10.306259 9.992007e-15 0.8042468\n",
       "3 -0.2946307 0.14668231 58.00005 -2.008631 4.923953e-02 0.2550252"
      ]
     },
     "metadata": {},
     "output_type": "display_data"
    }
   ],
   "source": [
    "both.reports <- trigger.count %>%\n",
    "    dplyr::filter((Response.comb=='double switch') & (Switch.comb!='no trigger'))\n",
    "\n",
    "lm.null <- lme4::lmer(report.proportion ~ 1 + (1|Observer), data= both.reports, REML= FALSE)\n",
    "lm.trigger <- update(lm.null, .~. + Switch.comb)\n",
    "lm.layout <- update(lm.trigger, .~. + Gap)\n",
    "lm.interaction <- update(lm.layout, .~. + Switch.comb * Gap)\n",
    "both.report.anova <- anova(lm.null, lm.trigger, lm.layout, lm.interaction)\n",
    "both.report.anova\n",
    "both.report.anova$Chisq\n",
    "both.report.anova$'Pr(>Chisq)'\n",
    "\n",
    "lmer.report <- summary(lmerTest::lmer(report.proportion ~ Switch.comb + Gap  + (1|Observer), data= both.reports))\n",
    "\n",
    "lmer.report\n",
    "coefficients.only <- data.frame(summary(lmer.report)$coefficients)\n",
    "colnames(coefficients.only) <- c('Estimate', 'Std.Error', 'df', 't.value', 'p.value')\n",
    "dplyr::mutate(coefficients.only, R.sqr= rcontrast(t.value, df))"
   ]
  },
  {
   "cell_type": "markdown",
   "metadata": {},
   "source": [
    "The analysis shows that the smaller gap produces more __both__ switch responses (significant _negative_ slope for `Gap`) and that there were fewer __both__ switch responses for when the exogenous trigger was applied to a __single__ sphere only (highly significant positive factor for `Switch.combboth`). However, there is no evidence for the interaction."
   ]
  },
  {
   "cell_type": "markdown",
   "metadata": {},
   "source": [
    "Analysis shows that there were more reported switch when the exogenous trigger was applied to __both__ spheres (highly significant _negative_ effect for the `Switch.combboth` means that there were fewer 'no switch' responses, hence, more 'switch responses'). However, there was neither an effect of the `Gap`, nor of `Switch` x `Gap` interaction."
   ]
  },
  {
   "cell_type": "markdown",
   "metadata": {},
   "source": [
    "# Effect of the history\n",
    "\n",
    "__Figure 6__ in the manuscript\n",
    "\n",
    "\n",
    "\n",
    "\n",
    "\n",
    "Adding information about the prior trial"
   ]
  },
  {
   "cell_type": "code",
   "execution_count": 120,
   "metadata": {},
   "outputs": [],
   "source": [
    "single.responses <- c('left', 'right')\n",
    "\n",
    "prior.response.given.current <- function(current.response, prior.response){\n",
    "    transformed.response <- prior.response\n",
    "    transformed.response[(prior.response %in%  c('left', 'right'))] <- 'single switch';\n",
    "    \n",
    "    return(transformed.response);\n",
    "}\n",
    "\n",
    "reports <- reports %>%\n",
    "    group_by(Observer, Block) %>%\n",
    "\n",
    "    # figure out the response\n",
    "    mutate(prior.response= lag(Response)) %>%\n",
    "    mutate(prior.response= prior.response.given.current(as.character(Response), as.character(prior.response))) %>%\n",
    "    mutate(prior.response= factor(prior.response, levels= c('neither', 'single switch', 'both')))"
   ]
  },
  {
   "cell_type": "markdown",
   "metadata": {},
   "source": [
    "Plotting proportions of __\"no switch\"__ responses given the prior trial outcome"
   ]
  },
  {
   "cell_type": "code",
   "execution_count": 149,
   "metadata": {},
   "outputs": [
    {
     "data": {
      "image/png": "[encoded data removed]",
      "text/plain": [
       "plot without title"
      ]
     },
     "metadata": {},
     "output_type": "display_data"
    }
   ],
   "source": [
    "no.switch.history <- reports %>%\n",
    "    filter(!is.na(prior.response)) %>%\n",
    "    group_by(Observer, Gap.Label, prior.response) %>%\n",
    "    summarize(P.no.switch= sum(Response.comb=='no switch')/n())\n",
    "\n",
    "no.switch.summary <- no.switch.history %>%\n",
    "    group_by(Gap.Label, prior.response) %>%\n",
    "    summarise(P.mean= mean(P.no.switch),\n",
    "              P.serr= sd(P.no.switch)/sqrt(n()-1))\n",
    "\n",
    "no.switch.history.plot <- ggplot(data= no.switch.summary, \n",
    "                                 aes(x= Gap.Label, y= P.mean, ymin= P.mean-P.serr, ymax= P.mean+P.serr,\n",
    "                                     color= prior.response, group= prior.response, shape= prior.response)) + \n",
    "    geom_errorbar(width= 0.2)+\n",
    "    geom_line()+\n",
    "    geom_point(size= 5)+\n",
    "    theme(legend.position='none', panel.grid.major.x = element_blank())+\n",
    "    scale_shape_manual(values=c(21, 22, 23))+\n",
    "    xlab('Layout')+\n",
    "    ylab('P(both stable | previous response)')\n",
    "print(no.switch.history.plot)\n",
    "ggsave('Figures/Exp3 - Pstable x layout.pdf', no.switch.history.plot, width= 6.5, height= 6.5, units = 'cm',  useDingbats = FALSE)"
   ]
  },
  {
   "cell_type": "code",
   "execution_count": 137,
   "metadata": {},
   "outputs": [
    {
     "data": {
      "text/html": [
       "<table>\n",
       "<thead><tr><th scope=col>Estimate</th><th scope=col>Std.Error</th><th scope=col>df</th><th scope=col>t.value</th><th scope=col>p.value</th><th scope=col>layout</th><th scope=col>prior.response</th><th scope=col>R.sqr</th><th scope=col>p.adjusted</th></tr></thead>\n",
       "<tbody>\n",
       "\t<tr><td>-0.1416830   </td><td>0.05429701   </td><td>22.00002     </td><td>-2.609408    </td><td>0.0160082099 </td><td>overlap      </td><td>single switch</td><td>0.4861583    </td><td>0.032016420  </td></tr>\n",
       "\t<tr><td>-0.1769087   </td><td>0.05429701   </td><td>22.00002     </td><td>-3.258167    </td><td>0.0036018912 </td><td>overlap      </td><td>double switch</td><td>0.5705060    </td><td>0.014407565  </td></tr>\n",
       "\t<tr><td>-0.1698291   </td><td>0.04235789   </td><td>22.00003     </td><td>-4.009385    </td><td>0.0005895017 </td><td>touching     </td><td>single switch</td><td>0.6497655    </td><td>0.003537010  </td></tr>\n",
       "\t<tr><td>-0.1345107   </td><td>0.04235789   </td><td>22.00003     </td><td>-3.175576    </td><td>0.0043765773 </td><td>touching     </td><td>double switch</td><td>0.5606298    </td><td>0.014407565  </td></tr>\n",
       "\t<tr><td>-0.2093192   </td><td>0.05594148   </td><td>22.00002     </td><td>-3.741753    </td><td>0.0011299014 </td><td>gap          </td><td>single switch</td><td>0.6236191    </td><td>0.005649507  </td></tr>\n",
       "\t<tr><td>-0.0650861   </td><td>0.05594148   </td><td>22.00002     </td><td>-1.163468    </td><td>0.2571039311 </td><td>gap          </td><td>double switch</td><td>0.2407558    </td><td>0.257103931  </td></tr>\n",
       "</tbody>\n",
       "</table>\n"
      ],
      "text/latex": [
       "\\begin{tabular}{r|lllllllll}\n",
       " Estimate & Std.Error & df & t.value & p.value & layout & prior.response & R.sqr & p.adjusted\\\\\n",
       "\\hline\n",
       "\t -0.1416830    & 0.05429701    & 22.00002      & -2.609408     & 0.0160082099  & overlap       & single switch & 0.4861583     & 0.032016420  \\\\\n",
       "\t -0.1769087    & 0.05429701    & 22.00002      & -3.258167     & 0.0036018912  & overlap       & double switch & 0.5705060     & 0.014407565  \\\\\n",
       "\t -0.1698291    & 0.04235789    & 22.00003      & -4.009385     & 0.0005895017  & touching      & single switch & 0.6497655     & 0.003537010  \\\\\n",
       "\t -0.1345107    & 0.04235789    & 22.00003      & -3.175576     & 0.0043765773  & touching      & double switch & 0.5606298     & 0.014407565  \\\\\n",
       "\t -0.2093192    & 0.05594148    & 22.00002      & -3.741753     & 0.0011299014  & gap           & single switch & 0.6236191     & 0.005649507  \\\\\n",
       "\t -0.0650861    & 0.05594148    & 22.00002      & -1.163468     & 0.2571039311  & gap           & double switch & 0.2407558     & 0.257103931  \\\\\n",
       "\\end{tabular}\n"
      ],
      "text/markdown": [
       "\n",
       "Estimate | Std.Error | df | t.value | p.value | layout | prior.response | R.sqr | p.adjusted | \n",
       "|---|---|---|---|---|---|\n",
       "| -0.1416830    | 0.05429701    | 22.00002      | -2.609408     | 0.0160082099  | overlap       | single switch | 0.4861583     | 0.032016420   | \n",
       "| -0.1769087    | 0.05429701    | 22.00002      | -3.258167     | 0.0036018912  | overlap       | double switch | 0.5705060     | 0.014407565   | \n",
       "| -0.1698291    | 0.04235789    | 22.00003      | -4.009385     | 0.0005895017  | touching      | single switch | 0.6497655     | 0.003537010   | \n",
       "| -0.1345107    | 0.04235789    | 22.00003      | -3.175576     | 0.0043765773  | touching      | double switch | 0.5606298     | 0.014407565   | \n",
       "| -0.2093192    | 0.05594148    | 22.00002      | -3.741753     | 0.0011299014  | gap           | single switch | 0.6236191     | 0.005649507   | \n",
       "| -0.0650861    | 0.05594148    | 22.00002      | -1.163468     | 0.2571039311  | gap           | double switch | 0.2407558     | 0.257103931   | \n",
       "\n",
       "\n"
      ],
      "text/plain": [
       "  Estimate   Std.Error  df       t.value   p.value      layout   prior.response\n",
       "1 -0.1416830 0.05429701 22.00002 -2.609408 0.0160082099 overlap  single switch \n",
       "2 -0.1769087 0.05429701 22.00002 -3.258167 0.0036018912 overlap  double switch \n",
       "3 -0.1698291 0.04235789 22.00003 -4.009385 0.0005895017 touching single switch \n",
       "4 -0.1345107 0.04235789 22.00003 -3.175576 0.0043765773 touching double switch \n",
       "5 -0.2093192 0.05594148 22.00002 -3.741753 0.0011299014 gap      single switch \n",
       "6 -0.0650861 0.05594148 22.00002 -1.163468 0.2571039311 gap      double switch \n",
       "  R.sqr     p.adjusted \n",
       "1 0.4861583 0.032016420\n",
       "2 0.5705060 0.014407565\n",
       "3 0.6497655 0.003537010\n",
       "4 0.5606298 0.014407565\n",
       "5 0.6236191 0.005649507\n",
       "6 0.2407558 0.257103931"
      ]
     },
     "metadata": {},
     "output_type": "display_data"
    }
   ],
   "source": [
    "# overlap\n",
    "overlap <- data.frame(summary(lmerTest::lmer(P.no.switch ~ prior.response + (1|Observer), \n",
    "                       data= no.switch.history %>% filter(Gap.Label=='overlap')))$coefficients)[2:3, ]\n",
    "overlap$layout <- 'overlap'\n",
    "overlap$prior.response <- c('single switch', 'double switch')\n",
    "\n",
    "\n",
    "touching <- data.frame(summary(lmerTest::lmer(P.no.switch ~ prior.response + (1|Observer), \n",
    "                       data= no.switch.history %>% filter(Gap.Label=='touching')))$coefficients)[2:3, ]\n",
    "touching$layout <- 'touching'\n",
    "touching$prior.response <- c('single switch', 'double switch')\n",
    "\n",
    "gap <- data.frame(summary(lmerTest::lmer(P.no.switch ~ prior.response + (1|Observer), \n",
    "                       data= no.switch.history %>% filter(Gap.Label=='gap')))$coefficients)[2:3, ]\n",
    "gap$layout <- 'gap'\n",
    "gap$prior.response <- c('single switch', 'double switch')\n",
    "\n",
    "no.switch.priming <- rbind(overlap, touching, gap)\n",
    "colnames(no.switch.priming) <- c('Estimate', 'Std.Error', 'df', 't.value', 'p.value', 'layout', 'prior.response')\n",
    "rownames(no.switch.priming) <- NULL\n",
    "no.switch.priming <- no.switch.priming %>%\n",
    "    mutate(R.sqr= rcontrast(t.value, df), \n",
    "           p.adjusted= p.adjust(p.value, method = 'holm'))\n",
    "no.switch.priming"
   ]
  },
  {
   "cell_type": "markdown",
   "metadata": {},
   "source": [
    "Plotting proportions of __\"single switch\"__ responses given the prior trial outcome"
   ]
  },
  {
   "cell_type": "code",
   "execution_count": 161,
   "metadata": {},
   "outputs": [
    {
     "data": {
      "image/png": "[encoded data removed]",
      "text/plain": [
       "plot without title"
      ]
     },
     "metadata": {},
     "output_type": "display_data"
    }
   ],
   "source": [
    "single.switch.history <- reports %>%\n",
    "    filter(!is.na(prior.response)) %>%\n",
    "    group_by(Observer, Gap.Label, prior.response) %>%\n",
    "    summarize(P.single.switch= sum(Response.comb=='single switch')/n())\n",
    "\n",
    "single.switch.summary <- single.switch.history %>%\n",
    "    group_by(Gap.Label, prior.response) %>%\n",
    "    summarise(P.mean= mean(P.single.switch),\n",
    "              P.serr= sd(P.single.switch)/sqrt(n()-1))\n",
    "\n",
    "single.switch.history.plot <- ggplot(data= single.switch.summary, \n",
    "                                 aes(x= Gap.Label, y= P.mean, ymin= P.mean-P.serr, ymax= P.mean+P.serr,\n",
    "                                     color= prior.response, group= prior.response, shape= prior.response)) + \n",
    "    geom_errorbar(width= 0.2)+\n",
    "    geom_line()+\n",
    "    geom_point(size= 5)+\n",
    "    theme(legend.position='none', panel.grid.major.x = element_blank())+\n",
    "    scale_shape_manual(values=c(21, 22, 23))+\n",
    "    xlab('Layout')+\n",
    "    ylab('P(single switch | previous response)')\n",
    "print(single.switch.history.plot)\n",
    "ggsave('Figures/Exp3 - Psingle x layout.pdf', single.switch.history.plot, width= 6.5, height= 6.5, units = 'cm',  useDingbats = FALSE)"
   ]
  },
  {
   "cell_type": "code",
   "execution_count": 158,
   "metadata": {},
   "outputs": [
    {
     "data": {
      "text/html": [
       "<table>\n",
       "<thead><tr><th scope=col>Estimate</th><th scope=col>Std.Error</th><th scope=col>df</th><th scope=col>t.value</th><th scope=col>p.value</th><th scope=col>layout</th><th scope=col>prior.response</th><th scope=col>R.sqr</th><th scope=col>p.adjusted</th></tr></thead>\n",
       "<tbody>\n",
       "\t<tr><td>-0.10959562  </td><td>0.03191251   </td><td>22.00005     </td><td>-3.434253    </td><td>0.002369295  </td><td>overlap      </td><td>both stable  </td><td>0.5907606    </td><td>0.011846476  </td></tr>\n",
       "\t<tr><td>-0.06233060  </td><td>0.03191251   </td><td>22.00005     </td><td>-1.953172    </td><td>0.063634627  </td><td>overlap      </td><td>double switch</td><td>0.3844191    </td><td>0.063634627  </td></tr>\n",
       "\t<tr><td>-0.14126804  </td><td>0.03877752   </td><td>22.00003     </td><td>-3.643039    </td><td>0.001434552  </td><td>touching     </td><td>both stable  </td><td>0.6134091    </td><td>0.008607311  </td></tr>\n",
       "\t<tr><td>-0.09740349  </td><td>0.03877752   </td><td>22.00003     </td><td>-2.511854    </td><td>0.019846176  </td><td>touching     </td><td>double switch</td><td>0.4720943    </td><td>0.059538528  </td></tr>\n",
       "\t<tr><td>-0.14639119  </td><td>0.05304849   </td><td>22.00002     </td><td>-2.759573    </td><td>0.011436455  </td><td>gap          </td><td>both stable  </td><td>0.5070889    </td><td>0.045745818  </td></tr>\n",
       "\t<tr><td>-0.12938243  </td><td>0.05304849   </td><td>22.00002     </td><td>-2.438947    </td><td>0.023257830  </td><td>gap          </td><td>double switch</td><td>0.4613422    </td><td>0.059538528  </td></tr>\n",
       "</tbody>\n",
       "</table>\n"
      ],
      "text/latex": [
       "\\begin{tabular}{r|lllllllll}\n",
       " Estimate & Std.Error & df & t.value & p.value & layout & prior.response & R.sqr & p.adjusted\\\\\n",
       "\\hline\n",
       "\t -0.10959562   & 0.03191251    & 22.00005      & -3.434253     & 0.002369295   & overlap       & both stable   & 0.5907606     & 0.011846476  \\\\\n",
       "\t -0.06233060   & 0.03191251    & 22.00005      & -1.953172     & 0.063634627   & overlap       & double switch & 0.3844191     & 0.063634627  \\\\\n",
       "\t -0.14126804   & 0.03877752    & 22.00003      & -3.643039     & 0.001434552   & touching      & both stable   & 0.6134091     & 0.008607311  \\\\\n",
       "\t -0.09740349   & 0.03877752    & 22.00003      & -2.511854     & 0.019846176   & touching      & double switch & 0.4720943     & 0.059538528  \\\\\n",
       "\t -0.14639119   & 0.05304849    & 22.00002      & -2.759573     & 0.011436455   & gap           & both stable   & 0.5070889     & 0.045745818  \\\\\n",
       "\t -0.12938243   & 0.05304849    & 22.00002      & -2.438947     & 0.023257830   & gap           & double switch & 0.4613422     & 0.059538528  \\\\\n",
       "\\end{tabular}\n"
      ],
      "text/markdown": [
       "\n",
       "Estimate | Std.Error | df | t.value | p.value | layout | prior.response | R.sqr | p.adjusted | \n",
       "|---|---|---|---|---|---|\n",
       "| -0.10959562   | 0.03191251    | 22.00005      | -3.434253     | 0.002369295   | overlap       | both stable   | 0.5907606     | 0.011846476   | \n",
       "| -0.06233060   | 0.03191251    | 22.00005      | -1.953172     | 0.063634627   | overlap       | double switch | 0.3844191     | 0.063634627   | \n",
       "| -0.14126804   | 0.03877752    | 22.00003      | -3.643039     | 0.001434552   | touching      | both stable   | 0.6134091     | 0.008607311   | \n",
       "| -0.09740349   | 0.03877752    | 22.00003      | -2.511854     | 0.019846176   | touching      | double switch | 0.4720943     | 0.059538528   | \n",
       "| -0.14639119   | 0.05304849    | 22.00002      | -2.759573     | 0.011436455   | gap           | both stable   | 0.5070889     | 0.045745818   | \n",
       "| -0.12938243   | 0.05304849    | 22.00002      | -2.438947     | 0.023257830   | gap           | double switch | 0.4613422     | 0.059538528   | \n",
       "\n",
       "\n"
      ],
      "text/plain": [
       "  Estimate    Std.Error  df       t.value   p.value     layout   prior.response\n",
       "1 -0.10959562 0.03191251 22.00005 -3.434253 0.002369295 overlap  both stable   \n",
       "2 -0.06233060 0.03191251 22.00005 -1.953172 0.063634627 overlap  double switch \n",
       "3 -0.14126804 0.03877752 22.00003 -3.643039 0.001434552 touching both stable   \n",
       "4 -0.09740349 0.03877752 22.00003 -2.511854 0.019846176 touching double switch \n",
       "5 -0.14639119 0.05304849 22.00002 -2.759573 0.011436455 gap      both stable   \n",
       "6 -0.12938243 0.05304849 22.00002 -2.438947 0.023257830 gap      double switch \n",
       "  R.sqr     p.adjusted \n",
       "1 0.5907606 0.011846476\n",
       "2 0.3844191 0.063634627\n",
       "3 0.6134091 0.008607311\n",
       "4 0.4720943 0.059538528\n",
       "5 0.5070889 0.045745818\n",
       "6 0.4613422 0.059538528"
      ]
     },
     "metadata": {},
     "output_type": "display_data"
    }
   ],
   "source": [
    "# overlap\n",
    "single.switch.history <- single.switch.history %>% \n",
    "    mutate(prior.response= factor(prior.response, levels= c('single switch', 'neither', 'both')))\n",
    "\n",
    "overlap <- data.frame(summary(lmerTest::lmer(P.single.switch ~ prior.response + (1|Observer), \n",
    "                       data= single.switch.history %>% filter(Gap.Label=='overlap')))$coefficients)[2:3, ]\n",
    "overlap$layout <- 'overlap'\n",
    "overlap$prior.response <- c('both stable', 'double switch')\n",
    "\n",
    "\n",
    "touching <- data.frame(summary(lmerTest::lmer(P.single.switch ~ prior.response + (1|Observer), \n",
    "                       data= single.switch.history %>% filter(Gap.Label=='touching')))$coefficients)[2:3, ]\n",
    "touching$layout <- 'touching'\n",
    "touching$prior.response <- c('both stable', 'double switch')\n",
    "\n",
    "gap <- data.frame(summary(lmerTest::lmer(P.single.switch ~ prior.response + (1|Observer), \n",
    "                       data= single.switch.history %>% filter(Gap.Label=='gap')))$coefficients)[2:3, ]\n",
    "gap$layout <- 'gap'\n",
    "gap$prior.response <- c('both stable', 'double switch')\n",
    "\n",
    "single.switch.priming <- rbind(overlap, touching, gap)\n",
    "colnames(single.switch.priming) <- c('Estimate', 'Std.Error', 'df', 't.value', 'p.value', 'layout', 'prior.response')\n",
    "rownames(single.switch.priming) <- NULL\n",
    "single.switch.priming <- single.switch.priming %>%\n",
    "    mutate(R.sqr= rcontrast(t.value, df), \n",
    "           p.adjusted= p.adjust(p.value, method = 'holm'))\n",
    "single.switch.priming"
   ]
  },
  {
   "cell_type": "code",
   "execution_count": 165,
   "metadata": {},
   "outputs": [
    {
     "data": {
      "image/png": "[encoded data removed]",
      "text/plain": [
       "plot without title"
      ]
     },
     "metadata": {},
     "output_type": "display_data"
    }
   ],
   "source": [
    "double.switch.history <- reports %>%\n",
    "    filter(!is.na(prior.response)) %>%\n",
    "    group_by(Observer, Gap.Label, prior.response) %>%\n",
    "    summarize(P.double.switch= sum(Response.comb=='double switch')/n())\n",
    "\n",
    "double.switch.summary <- double.switch.history %>%\n",
    "    group_by(Gap.Label, prior.response) %>%\n",
    "    summarise(P.mean= mean(P.double.switch),\n",
    "              P.serr= sd(P.double.switch)/sqrt(n()-1))\n",
    "\n",
    "double.switch.history.plot <- ggplot(data= double.switch.summary, \n",
    "                                 aes(x= Gap.Label, y= P.mean, ymin= P.mean-P.serr, ymax= P.mean+P.serr,\n",
    "                                     color= prior.response, group= prior.response, shape= prior.response)) + \n",
    "    geom_errorbar(width= 0.2)+\n",
    "    geom_line()+\n",
    "    geom_point(size= 5)+\n",
    "    theme(legend.position='none', panel.grid.major.x = element_blank())+\n",
    "    scale_shape_manual(values=c(21, 22, 23))+    xlab('Layout')+\n",
    "    ylab('P(both switched | previous response)')\n",
    "print(double.switch.history.plot)\n",
    "ggsave('Figures/Exp3 - Pdual x layout.pdf', double.switch.history.plot, width= 6.5, height= 6.5, units = 'cm',  useDingbats = FALSE)"
   ]
  },
  {
   "cell_type": "code",
   "execution_count": 166,
   "metadata": {},
   "outputs": [
    {
     "data": {
      "text/html": [
       "<table>\n",
       "<thead><tr><th scope=col>Estimate</th><th scope=col>Std.Error</th><th scope=col>df</th><th scope=col>t.value</th><th scope=col>p.value</th><th scope=col>layout</th><th scope=col>prior.response</th><th scope=col>R.sqr</th><th scope=col>p.adjusted</th></tr></thead>\n",
       "<tbody>\n",
       "\t<tr><td>-0.12964372  </td><td>0.04143841   </td><td>22.00003     </td><td>-3.1285884   </td><td>0.004886944  </td><td>overlap      </td><td>both stable  </td><td>0.55490187   </td><td>0.02932166   </td></tr>\n",
       "\t<tr><td>-0.09755630  </td><td>0.04143841   </td><td>22.00003     </td><td>-2.3542482   </td><td>0.027900890  </td><td>overlap      </td><td>single switch</td><td>0.44859091   </td><td>0.13950445   </td></tr>\n",
       "\t<tr><td>-0.09064618  </td><td>0.04057048   </td><td>22.00003     </td><td>-2.2342891   </td><td>0.035945801  </td><td>touching     </td><td>both stable  </td><td>0.43005223   </td><td>0.14378320   </td></tr>\n",
       "\t<tr><td>-0.06208514  </td><td>0.04057048   </td><td>22.00003     </td><td>-1.5303032   </td><td>0.140194908  </td><td>touching     </td><td>single switch</td><td>0.31017060   </td><td>0.42058472   </td></tr>\n",
       "\t<tr><td>-0.04807733  </td><td>0.03391964   </td><td>22.00004     </td><td>-1.4173895   </td><td>0.170376802  </td><td>gap          </td><td>both stable  </td><td>0.28926896   </td><td>0.42058472   </td></tr>\n",
       "\t<tr><td> 0.01485064  </td><td>0.03391964   </td><td>22.00004     </td><td> 0.4378185   </td><td>0.665786239  </td><td>gap          </td><td>single switch</td><td>0.09293912   </td><td>0.66578624   </td></tr>\n",
       "</tbody>\n",
       "</table>\n"
      ],
      "text/latex": [
       "\\begin{tabular}{r|lllllllll}\n",
       " Estimate & Std.Error & df & t.value & p.value & layout & prior.response & R.sqr & p.adjusted\\\\\n",
       "\\hline\n",
       "\t -0.12964372   & 0.04143841    & 22.00003      & -3.1285884    & 0.004886944   & overlap       & both stable   & 0.55490187    & 0.02932166   \\\\\n",
       "\t -0.09755630   & 0.04143841    & 22.00003      & -2.3542482    & 0.027900890   & overlap       & single switch & 0.44859091    & 0.13950445   \\\\\n",
       "\t -0.09064618   & 0.04057048    & 22.00003      & -2.2342891    & 0.035945801   & touching      & both stable   & 0.43005223    & 0.14378320   \\\\\n",
       "\t -0.06208514   & 0.04057048    & 22.00003      & -1.5303032    & 0.140194908   & touching      & single switch & 0.31017060    & 0.42058472   \\\\\n",
       "\t -0.04807733   & 0.03391964    & 22.00004      & -1.4173895    & 0.170376802   & gap           & both stable   & 0.28926896    & 0.42058472   \\\\\n",
       "\t  0.01485064   & 0.03391964    & 22.00004      &  0.4378185    & 0.665786239   & gap           & single switch & 0.09293912    & 0.66578624   \\\\\n",
       "\\end{tabular}\n"
      ],
      "text/markdown": [
       "\n",
       "Estimate | Std.Error | df | t.value | p.value | layout | prior.response | R.sqr | p.adjusted | \n",
       "|---|---|---|---|---|---|\n",
       "| -0.12964372   | 0.04143841    | 22.00003      | -3.1285884    | 0.004886944   | overlap       | both stable   | 0.55490187    | 0.02932166    | \n",
       "| -0.09755630   | 0.04143841    | 22.00003      | -2.3542482    | 0.027900890   | overlap       | single switch | 0.44859091    | 0.13950445    | \n",
       "| -0.09064618   | 0.04057048    | 22.00003      | -2.2342891    | 0.035945801   | touching      | both stable   | 0.43005223    | 0.14378320    | \n",
       "| -0.06208514   | 0.04057048    | 22.00003      | -1.5303032    | 0.140194908   | touching      | single switch | 0.31017060    | 0.42058472    | \n",
       "| -0.04807733   | 0.03391964    | 22.00004      | -1.4173895    | 0.170376802   | gap           | both stable   | 0.28926896    | 0.42058472    | \n",
       "|  0.01485064   | 0.03391964    | 22.00004      |  0.4378185    | 0.665786239   | gap           | single switch | 0.09293912    | 0.66578624    | \n",
       "\n",
       "\n"
      ],
      "text/plain": [
       "  Estimate    Std.Error  df       t.value    p.value     layout  \n",
       "1 -0.12964372 0.04143841 22.00003 -3.1285884 0.004886944 overlap \n",
       "2 -0.09755630 0.04143841 22.00003 -2.3542482 0.027900890 overlap \n",
       "3 -0.09064618 0.04057048 22.00003 -2.2342891 0.035945801 touching\n",
       "4 -0.06208514 0.04057048 22.00003 -1.5303032 0.140194908 touching\n",
       "5 -0.04807733 0.03391964 22.00004 -1.4173895 0.170376802 gap     \n",
       "6  0.01485064 0.03391964 22.00004  0.4378185 0.665786239 gap     \n",
       "  prior.response R.sqr      p.adjusted\n",
       "1 both stable    0.55490187 0.02932166\n",
       "2 single switch  0.44859091 0.13950445\n",
       "3 both stable    0.43005223 0.14378320\n",
       "4 single switch  0.31017060 0.42058472\n",
       "5 both stable    0.28926896 0.42058472\n",
       "6 single switch  0.09293912 0.66578624"
      ]
     },
     "metadata": {},
     "output_type": "display_data"
    }
   ],
   "source": [
    "# overlap\n",
    "double.switch.history <- double.switch.history %>% \n",
    "    mutate(prior.response= factor(prior.response, levels= c('both', 'neither', 'single switch')))\n",
    "\n",
    "overlap <- data.frame(summary(lmerTest::lmer(P.double.switch ~ prior.response + (1|Observer), \n",
    "                       data= double.switch.history %>% filter(Gap.Label=='overlap')))$coefficients)[2:3, ]\n",
    "overlap$layout <- 'overlap'\n",
    "overlap$prior.response <- c('both stable', 'single switch')\n",
    "\n",
    "\n",
    "touching <- data.frame(summary(lmerTest::lmer(P.double.switch ~ prior.response + (1|Observer), \n",
    "                       data= double.switch.history %>% filter(Gap.Label=='touching')))$coefficients)[2:3, ]\n",
    "touching$layout <- 'touching'\n",
    "touching$prior.response <- c('both stable', 'single switch')\n",
    "\n",
    "gap <- data.frame(summary(lmerTest::lmer(P.double.switch ~ prior.response + (1|Observer), \n",
    "                       data= double.switch.history %>% filter(Gap.Label=='gap')))$coefficients)[2:3, ]\n",
    "gap$layout <- 'gap'\n",
    "gap$prior.response <- c('both stable', 'single switch')\n",
    "\n",
    "double.switch.priming <- rbind(overlap, touching, gap)\n",
    "colnames(double.switch.priming) <- c('Estimate', 'Std.Error', 'df', 't.value', 'p.value', 'layout', 'prior.response')\n",
    "rownames(double.switch.priming) <- NULL\n",
    "double.switch.priming <- double.switch.priming %>%\n",
    "    mutate(R.sqr= rcontrast(t.value, df), \n",
    "           p.adjusted= p.adjust(p.value, method = 'holm'))\n",
    "double.switch.priming"
   ]
  },
  {
   "cell_type": "markdown",
   "metadata": {},
   "source": [
    "Single switch preceded by a single switch only"
   ]
  },
  {
   "cell_type": "code",
   "execution_count": 190,
   "metadata": {},
   "outputs": [],
   "source": [
    "reports <- reports %>%\n",
    "    group_by(Observer, Block) %>%\n",
    "\n",
    "    # figure out the response\n",
    "    mutate(prior.response= lag(Response))\n",
    "\n",
    "right.switch.history <- reports %>%\n",
    "    filter(!is.na(prior.response)) %>%\n",
    "    group_by(Observer, prior.response) %>%\n",
    "    summarize(P.single.switch= sum(Response=='right')/n()) %>%\n",
    "    mutate(prior.response= factor(prior.response, levels=  c('neither', 'left', 'right', 'both')))\n",
    "\n",
    "reports <- reports %>%\n",
    "    group_by(Observer, Block) %>%\n",
    "\n",
    "    # figure out the response\n",
    "    mutate(prior.response= lag(Response))\n",
    "\n",
    "left.switch.history <- reports %>%\n",
    "    filter(!is.na(prior.response)) %>%\n",
    "    group_by(Observer, Gap.Label, prior.response) %>%\n",
    "    summarize(P.single.switch= sum(Response=='left')/n()) %>%\n",
    "    filter(prior.response %in% c('left', 'right')) %>%\n",
    "    mutate(same.side= prior.response == 'left')\n",
    "\n",
    "right.switch.history <- reports %>%\n",
    "    filter(!is.na(prior.response)) %>%\n",
    "    group_by(Observer, Gap.Label, prior.response) %>%\n",
    "    summarize(P.single.switch= sum(Response=='right')/n()) %>%\n",
    "    filter(prior.response %in% c('left', 'right')) %>%\n",
    "    mutate(same.side= prior.response == 'right')\n",
    "\n",
    "single.switch.history <-  left.switch.history %>%\n",
    "    rbind(right.switch.history) %>%\n",
    "    group_by(Observer, Gap.Label, same.side) %>%\n",
    "    summarize(P.single.switch= mean(P.single.switch))"
   ]
  },
  {
   "cell_type": "markdown",
   "metadata": {},
   "source": [
    "Accompanying statistics"
   ]
  },
  {
   "cell_type": "code",
   "execution_count": 200,
   "metadata": {},
   "outputs": [
    {
     "data": {
      "image/png": "[encoded data removed]",
      "text/plain": [
       "plot without title"
      ]
     },
     "metadata": {},
     "output_type": "display_data"
    }
   ],
   "source": [
    "side.summary <- single.switch.history %>%\n",
    "    group_by(Gap.Label, same.side) %>%\n",
    "    summarise(P.mean= mean(P.single.switch),\n",
    "              P.serr= sd(P.single.switch)/sqrt(n()-1))\n",
    "\n",
    "single.switch.history.plot <- ggplot(data= side.summary, \n",
    "                                     aes(x= as.numeric(Gap.Label), \n",
    "                                         y= P.mean, ymin= P.mean-P.serr, ymax= P.mean+P.serr,\n",
    "                                         color= same.side, shape= same.side)) + \n",
    "    geom_errorbar(width= 0.2)+\n",
    "    geom_line()+\n",
    "    geom_point(size= 5)+\n",
    "    scale_x_continuous(breaks= c(1:3), labels = c('overlap', 'touching', 'gap'))+\n",
    "    theme(legend.position='none', panel.grid.major.x = element_blank())+\n",
    "    xlab('Layout')+\n",
    "    scale_shape_manual(values=c(25, 24))+    \n",
    "    xlab('Layout')+\n",
    "    ylab('P(single switched | previous response)')\n",
    "print(single.switch.history.plot)\n",
    "ggsave('Figures/Exp3 - Psingle side x layout.pdf', single.switch.history.plot, width= 6.5, height= 6.5, units = 'cm',  useDingbats = FALSE)"
   ]
  },
  {
   "cell_type": "code",
   "execution_count": 201,
   "metadata": {},
   "outputs": [
    {
     "data": {
      "text/html": [
       "<table>\n",
       "<thead><tr><th scope=col>Estimate</th><th scope=col>Std.Error</th><th scope=col>df</th><th scope=col>t.value</th><th scope=col>p.value</th><th scope=col>layout</th><th scope=col>R.sqr</th><th scope=col>p.adjusted</th></tr></thead>\n",
       "<tbody>\n",
       "\t<tr><td>-0.01440164</td><td>0.04598105 </td><td>22.00004   </td><td>-0.3132081 </td><td>0.75707259 </td><td>overlap    </td><td>0.06662776 </td><td>0.82916516 </td></tr>\n",
       "\t<tr><td> 0.03916237</td><td>0.04709406 </td><td>22.00004   </td><td> 0.8315776 </td><td>0.41458258 </td><td>touching   </td><td>0.17457041 </td><td>0.82916516 </td></tr>\n",
       "\t<tr><td>-0.12069561</td><td>0.04597307 </td><td>22.00004   </td><td>-2.6253546 </td><td>0.01545132 </td><td>gap        </td><td>0.48842199 </td><td>0.04635397 </td></tr>\n",
       "</tbody>\n",
       "</table>\n"
      ],
      "text/latex": [
       "\\begin{tabular}{r|llllllll}\n",
       " Estimate & Std.Error & df & t.value & p.value & layout & R.sqr & p.adjusted\\\\\n",
       "\\hline\n",
       "\t -0.01440164 & 0.04598105  & 22.00004    & -0.3132081  & 0.75707259  & overlap     & 0.06662776  & 0.82916516 \\\\\n",
       "\t  0.03916237 & 0.04709406  & 22.00004    &  0.8315776  & 0.41458258  & touching    & 0.17457041  & 0.82916516 \\\\\n",
       "\t -0.12069561 & 0.04597307  & 22.00004    & -2.6253546  & 0.01545132  & gap         & 0.48842199  & 0.04635397 \\\\\n",
       "\\end{tabular}\n"
      ],
      "text/markdown": [
       "\n",
       "Estimate | Std.Error | df | t.value | p.value | layout | R.sqr | p.adjusted | \n",
       "|---|---|---|\n",
       "| -0.01440164 | 0.04598105  | 22.00004    | -0.3132081  | 0.75707259  | overlap     | 0.06662776  | 0.82916516  | \n",
       "|  0.03916237 | 0.04709406  | 22.00004    |  0.8315776  | 0.41458258  | touching    | 0.17457041  | 0.82916516  | \n",
       "| -0.12069561 | 0.04597307  | 22.00004    | -2.6253546  | 0.01545132  | gap         | 0.48842199  | 0.04635397  | \n",
       "\n",
       "\n"
      ],
      "text/plain": [
       "  Estimate    Std.Error  df       t.value    p.value    layout   R.sqr     \n",
       "1 -0.01440164 0.04598105 22.00004 -0.3132081 0.75707259 overlap  0.06662776\n",
       "2  0.03916237 0.04709406 22.00004  0.8315776 0.41458258 touching 0.17457041\n",
       "3 -0.12069561 0.04597307 22.00004 -2.6253546 0.01545132 gap      0.48842199\n",
       "  p.adjusted\n",
       "1 0.82916516\n",
       "2 0.82916516\n",
       "3 0.04635397"
      ]
     },
     "metadata": {},
     "output_type": "display_data"
    }
   ],
   "source": [
    "# overlap\n",
    "single.switch.history <- single.switch.history %>%\n",
    "    mutate(same.side= factor(same.side, levels= c('TRUE', 'FALSE')))\n",
    "\n",
    "overlap <- data.frame(summary(lmerTest::lmer(P.single.switch ~ same.side + (1|Observer), \n",
    "                       data= single.switch.history %>% filter(Gap.Label=='overlap')))$coefficients)[2, ]\n",
    "overlap$layout <- 'overlap'\n",
    "\n",
    "touching <- data.frame(summary(lmerTest::lmer(P.single.switch ~ same.side + (1|Observer), \n",
    "                       data= single.switch.history %>% filter(Gap.Label=='touching')))$coefficients)[2, ]\n",
    "touching$layout <- 'touching'\n",
    "\n",
    "gap <- data.frame(summary(lmerTest::lmer(P.single.switch ~ same.side + (1|Observer), \n",
    "                       data= single.switch.history %>% filter(Gap.Label=='gap')))$coefficients)[2, ]\n",
    "gap$layout <- 'gap'\n",
    "\n",
    "single.switch.priming <- rbind(overlap, touching, gap)\n",
    "colnames(single.switch.priming) <- c('Estimate', 'Std.Error', 'df', 't.value', 'p.value', 'layout')\n",
    "rownames(single.switch.priming) <- NULL\n",
    "single.switch.priming <- single.switch.priming %>%\n",
    "    mutate(R.sqr= rcontrast(t.value, df), \n",
    "           p.adjusted= p.adjust(p.value, method = 'holm'))\n",
    "single.switch.priming"
   ]
  },
  {
   "cell_type": "markdown",
   "metadata": {},
   "source": [
    "## Looking at the effect of the trigger timing"
   ]
  },
  {
   "cell_type": "code",
   "execution_count": 116,
   "metadata": {},
   "outputs": [
    {
     "data": {
      "text/html": [
       "<table>\n",
       "<thead><tr><th scope=col>SwitchTime</th><th scope=col>P.switch</th><th scope=col>P.serr</th></tr></thead>\n",
       "<tbody>\n",
       "\t<tr><td>1.1       </td><td>0.4030099 </td><td>0.07646162</td></tr>\n",
       "\t<tr><td>1.3       </td><td>0.4042547 </td><td>0.07270071</td></tr>\n",
       "\t<tr><td>1.5       </td><td>0.4258502 </td><td>0.07723313</td></tr>\n",
       "\t<tr><td>1.7       </td><td>0.4153497 </td><td>0.07664548</td></tr>\n",
       "\t<tr><td>1.9       </td><td>0.4642275 </td><td>0.07165866</td></tr>\n",
       "</tbody>\n",
       "</table>\n"
      ],
      "text/latex": [
       "\\begin{tabular}{r|lll}\n",
       " SwitchTime & P.switch & P.serr\\\\\n",
       "\\hline\n",
       "\t 1.1        & 0.4030099  & 0.07646162\\\\\n",
       "\t 1.3        & 0.4042547  & 0.07270071\\\\\n",
       "\t 1.5        & 0.4258502  & 0.07723313\\\\\n",
       "\t 1.7        & 0.4153497  & 0.07664548\\\\\n",
       "\t 1.9        & 0.4642275  & 0.07165866\\\\\n",
       "\\end{tabular}\n"
      ],
      "text/markdown": [
       "\n",
       "SwitchTime | P.switch | P.serr | \n",
       "|---|---|---|---|---|\n",
       "| 1.1        | 0.4030099  | 0.07646162 | \n",
       "| 1.3        | 0.4042547  | 0.07270071 | \n",
       "| 1.5        | 0.4258502  | 0.07723313 | \n",
       "| 1.7        | 0.4153497  | 0.07664548 | \n",
       "| 1.9        | 0.4642275  | 0.07165866 | \n",
       "\n",
       "\n"
      ],
      "text/plain": [
       "  SwitchTime P.switch  P.serr    \n",
       "1 1.1        0.4030099 0.07646162\n",
       "2 1.3        0.4042547 0.07270071\n",
       "3 1.5        0.4258502 0.07723313\n",
       "4 1.7        0.4153497 0.07664548\n",
       "5 1.9        0.4642275 0.07165866"
      ]
     },
     "metadata": {},
     "output_type": "display_data"
    },
    {
     "data": {
      "image/png": "[encoded data removed]",
      "text/plain": [
       "plot without title"
      ]
     },
     "metadata": {},
     "output_type": "display_data"
    }
   ],
   "source": [
    "trigger.timing.effect <- reports %>%\n",
    "    dplyr::filter(Switch.comb != 'no trigger') %>%\n",
    "    dplyr::group_by(Observer, SwitchTime) %>%\n",
    "    dplyr::summarize(switch.proportion= mean(Response.comb=='no switch')) %>%\n",
    "    dplyr::group_by(SwitchTime) %>%\n",
    "    dplyr::summarize(P.switch= mean(switch.proportion), \n",
    "                     P.serr= sd(switch.proportion)/sqrt(n()-1))\n",
    "trigger.timing.effect\n",
    "\n",
    "proportion.plot <- ggplot(data= trigger.timing.effect, aes(x= SwitchTime, \n",
    "                                                         y= P.switch, ymin= P.switch-P.serr, ymax= P.switch+P.serr))+\n",
    "    geom_line() +\n",
    "    geom_errorbar(width=0.05) + \n",
    "    geom_point() +\n",
    "    xlab('Layout') +\n",
    "    ylab('Preport')+\n",
    "    scale_x_continuous(breaks = c(sort(unique(trigger.timing.effect$SwitchTime))))+\n",
    "    scale_y_continuous(labels = numform::ff_num(zero = 0, digits= 2))+\n",
    "    theme(panel.grid.minor.x=element_blank())\n",
    "\n",
    "print(proportion.plot)\n",
    "# ggsave('Exp2 - proportion plot.pdf', proportion.plot, width= 16, height= 8, units = 'cm')\n",
    "# ggsave('Exp2 - trigger vs report.pdf')"
   ]
  }
 ],
 "metadata": {
  "kernelspec": {
   "display_name": "R",
   "language": "R",
   "name": "ir"
  },
  "language_info": {
   "codemirror_mode": "r",
   "file_extension": ".r",
   "mimetype": "text/x-r-source",
   "name": "R",
   "pygments_lexer": "r",
   "version": "3.4.2"
  }
 },
 "nbformat": 4,
 "nbformat_minor": 1
}
