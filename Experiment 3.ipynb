{
 "cells": [
  {
   "cell_type": "markdown",
   "metadata": {},
   "source": [
    "# Complete analysis for Experiment 3"
   ]
  },
  {
   "cell_type": "code",
   "execution_count": 3,
   "metadata": {},
   "outputs": [],
   "source": [
    "rm(list= ls())"
   ]
  },
  {
   "cell_type": "code",
   "execution_count": 4,
   "metadata": {},
   "outputs": [],
   "source": [
    "library(plyr)\n",
    "library(dplyr)\n",
    "library(tidyr)\n",
    "library(ggplot2)\n",
    "library(BayesFactor)\n",
    "library(lme4)\n",
    "library(lmerTest)\n",
    "library(numform)"
   ]
  },
  {
   "cell_type": "markdown",
   "metadata": {},
   "source": [
    "## Loading the data"
   ]
  },
  {
   "cell_type": "code",
   "execution_count": 5,
   "metadata": {},
   "outputs": [
    {
     "name": "stdout",
     "output_type": "stream",
     "text": [
      "Excluding overly stable participants:  ACR94m BBW97w \n",
      "Excluding overly unstable observers:  RZN88w \n"
     ]
    },
    {
     "data": {
      "text/html": [
       "<table>\n",
       "<thead><tr><th scope=col>Observer</th><th scope=col>switch.fraction</th></tr></thead>\n",
       "<tbody>\n",
       "\t<tr><td>ASA97w   </td><td>0.7351351</td></tr>\n",
       "\t<tr><td>AZM90w   </td><td>0.6322751</td></tr>\n",
       "\t<tr><td>ERK91m   </td><td>0.7823834</td></tr>\n",
       "\t<tr><td>MCB93w   </td><td>0.7275132</td></tr>\n",
       "\t<tr><td>NSM89w   </td><td>0.7406417</td></tr>\n",
       "\t<tr><td>SBS92w   </td><td>0.5243243</td></tr>\n",
       "\t<tr><td>SGP95w   </td><td>0.3797814</td></tr>\n",
       "\t<tr><td>SGS95w   </td><td>0.7394737</td></tr>\n",
       "\t<tr><td>SJW88m   </td><td>0.4701087</td></tr>\n",
       "</tbody>\n",
       "</table>\n"
      ],
      "text/latex": [
       "\\begin{tabular}{r|ll}\n",
       " Observer & switch.fraction\\\\\n",
       "\\hline\n",
       "\t ASA97w    & 0.7351351\\\\\n",
       "\t AZM90w    & 0.6322751\\\\\n",
       "\t ERK91m    & 0.7823834\\\\\n",
       "\t MCB93w    & 0.7275132\\\\\n",
       "\t NSM89w    & 0.7406417\\\\\n",
       "\t SBS92w    & 0.5243243\\\\\n",
       "\t SGP95w    & 0.3797814\\\\\n",
       "\t SGS95w    & 0.7394737\\\\\n",
       "\t SJW88m    & 0.4701087\\\\\n",
       "\\end{tabular}\n"
      ],
      "text/markdown": [
       "\n",
       "Observer | switch.fraction | \n",
       "|---|---|---|---|---|---|---|---|---|\n",
       "| ASA97w    | 0.7351351 | \n",
       "| AZM90w    | 0.6322751 | \n",
       "| ERK91m    | 0.7823834 | \n",
       "| MCB93w    | 0.7275132 | \n",
       "| NSM89w    | 0.7406417 | \n",
       "| SBS92w    | 0.5243243 | \n",
       "| SGP95w    | 0.3797814 | \n",
       "| SGS95w    | 0.7394737 | \n",
       "| SJW88m    | 0.4701087 | \n",
       "\n",
       "\n"
      ],
      "text/plain": [
       "  Observer switch.fraction\n",
       "1 ASA97w   0.7351351      \n",
       "2 AZM90w   0.6322751      \n",
       "3 ERK91m   0.7823834      \n",
       "4 MCB93w   0.7275132      \n",
       "5 NSM89w   0.7406417      \n",
       "6 SBS92w   0.5243243      \n",
       "7 SGP95w   0.3797814      \n",
       "8 SGS95w   0.7394737      \n",
       "9 SJW88m   0.4701087      "
      ]
     },
     "metadata": {},
     "output_type": "display_data"
    },
    {
     "data": {
      "text/plain": [
       "   Min. 1st Qu.  Median    Mean 3rd Qu.    Max. \n",
       " 0.3798  0.5243  0.7275  0.6368  0.7395  0.7824 "
      ]
     },
     "metadata": {},
     "output_type": "display_data"
    }
   ],
   "source": [
    "data.folder <- 'Experiment 3'\n",
    "file.list <- list.files(path= data.folder, pattern= 'csv$')\n",
    "reports <- data.frame()\n",
    "for(current.filename in file.list){\n",
    "    current.observer <- read.csv2(file.path(paste(data.folder, current.filename, sep='/')))\n",
    "    current.observer$Yellow <- current.observer$Yellow=='True'\n",
    "    reports <- rbind(reports, current.observer)\n",
    "}\n",
    "\n",
    "# Combining a single object trigger and a single switch reports into a single value\n",
    "\n",
    "reports$Switch.comb <- as.character(reports$Switch)\n",
    "reports$Switch.comb[reports$Switch.comb %in% c('left', 'right')] <- 'single'\n",
    "reports$Switch.comb <- factor(reports$Switch.comb, levels = c('neither', 'single', 'both'))\n",
    "reports$Switch.comb <- plyr::revalue(reports$Switch.comb, c(\"neither\"=\"no trigger\", \"single\"=\"single trigger\", \"both\"=\"double trigger\"))\n",
    "\n",
    "\n",
    "reports$Response.comb <- as.character(reports$Response)\n",
    "reports$Response.comb[reports$Response.comb %in% c('left', 'right')] <- 'single'\n",
    "reports$Response.comb <- factor(reports$Response.comb, levels = c('neither', 'single', 'both'))\n",
    "reports$Response.comb <- plyr::revalue(reports$Response.comb, c(\"neither\"=\"no switch\", \"single\"=\"single switch\", \"both\"=\"double switch\"))\n",
    "\n",
    "# Excluding observers who failed to respond to the exogenous trigger\n",
    "overall.trigger.efficiency <- reports %>%\n",
    "    dplyr::filter(Switch!='neither') %>%\n",
    "    dplyr::group_by(Observer) %>%\n",
    "    dplyr::summarize(switch.fraction= mean(Response!='neither'))\n",
    "\n",
    "overly.stable.observers <- overall.trigger.efficiency$Observer[overall.trigger.efficiency$switch.fraction<0.25]\n",
    "cat('Excluding overly stable participants: ', as.character(overly.stable.observers), '\\n')\n",
    "\n",
    "spontaneous.switch.rate <- reports %>%\n",
    "    dplyr::filter(Switch=='neither') %>%\n",
    "    dplyr::group_by(Observer) %>%\n",
    "    dplyr::summarize(switch.fraction= mean(Response!='neither'))\n",
    "overly.instable.observers <- spontaneous.switch.rate$Observer[spontaneous.switch.rate$switch.fraction>0.5]\n",
    "\n",
    "# Also excluding RZN88w due to excessive spontaneous switches\n",
    "cat('Excluding overly unstable observers: ', as.character(overly.instable.observers), '\\n')\n",
    "\n",
    "reports <- reports[-which(reports$Observer %in% c(as.character(overly.stable.observers), as.character(overly.instable.observers))), ]\n",
    "reports$Observer <- as.factor(as.character(reports$Observer))\n",
    "\n",
    "# recomputing for methods after excluding overly stable observers\n",
    "overall.trigger.efficiency <- reports %>%\n",
    "    dplyr::filter(Switch!='neither') %>%\n",
    "    dplyr::group_by(Observer) %>%\n",
    "    dplyr::summarize(switch.fraction= mean(Response!='neither'))\n",
    "\n",
    "overall.trigger.efficiency\n",
    "\n",
    "summary(overall.trigger.efficiency$switch.fraction)"
   ]
  },
  {
   "cell_type": "markdown",
   "metadata": {},
   "source": [
    "### Computing proprtion of reports of all kinds (`neither`, `single`, and `both`; columns) vs. type of the exogenous trigger (`neither`, `single`, and `both`; rows)"
   ]
  },
  {
   "cell_type": "code",
   "execution_count": 6,
   "metadata": {},
   "outputs": [
    {
     "data": {
      "image/png": "[encoded data removed]",
      "text/plain": [
       "plot without title"
      ]
     },
     "metadata": {},
     "output_type": "display_data"
    }
   ],
   "source": [
    "trigger.count <- reports %>%\n",
    "    dplyr::group_by(Observer, Switch.comb, Gap, Response.comb) %>%\n",
    "    dplyr::summarize(response.count= n()) %>%\n",
    "    dplyr::ungroup() %>%\n",
    "    tidyr::complete(Observer, Switch.comb, Gap, Response.comb) %>%\n",
    "    dplyr::mutate(response.count= ifelse(is.na(response.count), 0, response.count)) %>%\n",
    "    dplyr::group_by(Observer, Gap, Switch.comb) %>%\n",
    "    dplyr::mutate(report.proportion= response.count/sum(response.count))\n",
    "\n",
    "proportion.plot <- ggplot(data= trigger.count, aes(x= Gap, group= Gap, y= report.proportion, color= Observer))+\n",
    "    geom_boxplot(outlier.shape = NA) +\n",
    "    geom_jitter(aes(color= Observer)) +\n",
    "    xlab('Layout') +\n",
    "    ylab('Report proportion')+\n",
    "    theme(legend.position='none') +\n",
    "    facet_grid(Switch.comb ~ Response.comb)+\n",
    "    ggtitle('Report proportions.\\nColumns: Response type. Row: Exogenous trigger type.')+\n",
    "    scale_x_continuous(breaks = c(sort(unique(trigger.count$Gap))), labels = c('Overlap', 'Touching', 'Gap'))\n",
    "print(proportion.plot)\n",
    "# ggsave('Exp2 - trigger vs report.pdf')"
   ]
  },
  {
   "cell_type": "code",
   "execution_count": 7,
   "metadata": {},
   "outputs": [
    {
     "data": {
      "image/png": "[encoded data removed]",
      "text/plain": [
       "plot without title"
      ]
     },
     "metadata": {},
     "output_type": "display_data"
    }
   ],
   "source": [
    "group.trigger.count <- reports %>%\n",
    "    dplyr::group_by(Observer, Switch.comb, Gap, Response.comb) %>%\n",
    "    dplyr::summarize(response.count= n()) %>%\n",
    "    dplyr::ungroup() %>%\n",
    "    tidyr::complete(Observer, Switch.comb, Gap, Response.comb) %>%\n",
    "    dplyr::mutate(response.count= ifelse(is.na(response.count), 0, response.count)) %>%\n",
    "    dplyr::group_by(Observer, Gap, Switch.comb) %>%\n",
    "    dplyr::mutate(report.proportion= response.count/sum(response.count)) %>%\n",
    "    dplyr::group_by(Switch.comb, Gap, Response.comb) %>%\n",
    "    dplyr::summarize(P.report= mean(report.proportion), \n",
    "                     P.serr= sd(report.proportion)/sqrt(n()-1))\n",
    "\n",
    "proportion.plot <- ggplot(data= group.trigger.count, aes(x= Gap, \n",
    "                                                         y= P.report, ymin= P.report-P.serr, ymax= P.report+P.serr,\n",
    "                                                         color= Response.comb, shape= Response.comb))+\n",
    "    geom_line() +\n",
    "    geom_point() +\n",
    "    geom_errorbar(width=0.05) + \n",
    "    xlab('Layout') +\n",
    "    ylab('Preport')+\n",
    "#     theme(legend.position='none') +\n",
    "    facet_grid(. ~ Switch.comb)+\n",
    "#     ggtitle('Report proportions.\\nColumns: Response type. Row: Exogenous trigger type.')+\n",
    "    scale_x_continuous(breaks = c(sort(unique(trigger.count$Gap))), labels = c('Overlap', 'Touching', 'Gap'))+\n",
    "    scale_y_continuous(labels = numform::ff_num(zero = 0, digits= 2))+\n",
    "    theme(panel.grid.minor.x=element_blank())+\n",
    "    scale_shape_manual(values=c(21, 22, 23))\n",
    "\n",
    "\n",
    "print(proportion.plot)\n",
    "ggsave('Exp2 - proportion plot.pdf', proportion.plot, width= 16, height= 8, units = 'cm')\n",
    "# ggsave('Exp2 - trigger vs report.pdf')"
   ]
  },
  {
   "cell_type": "markdown",
   "metadata": {},
   "source": [
    "### Given the _no_ visible dependence of reports on the layout, testing whether gap has an effect on the overall probability of the switch\n",
    "Using only __neither__ reports and __single__ and __both__ trigger types"
   ]
  },
  {
   "cell_type": "code",
   "execution_count": 8,
   "metadata": {},
   "outputs": [],
   "source": [
    "rcontrast<-function(t, df) {\n",
    "    return (sqrt(t^2/(t^2 + df)))\n",
    "}"
   ]
  },
  {
   "cell_type": "code",
   "execution_count": 9,
   "metadata": {
    "scrolled": false
   },
   "outputs": [
    {
     "data": {
      "text/html": [
       "<table>\n",
       "<thead><tr><th></th><th scope=col>Df</th><th scope=col>AIC</th><th scope=col>BIC</th><th scope=col>logLik</th><th scope=col>deviance</th><th scope=col>Chisq</th><th scope=col>Chi Df</th><th scope=col>Pr(&gt;Chisq)</th></tr></thead>\n",
       "<tbody>\n",
       "\t<tr><th scope=row>lm.null</th><td>3           </td><td>-45.97468   </td><td>-40.00773   </td><td>25.98734    </td><td>-51.97468   </td><td>       NA   </td><td>NA          </td><td>          NA</td></tr>\n",
       "\t<tr><th scope=row>lm.trigger</th><td>4           </td><td>-76.55662   </td><td>-68.60069   </td><td>42.27831    </td><td>-84.55662   </td><td>32.581939   </td><td> 1          </td><td>1.142717e-08</td></tr>\n",
       "\t<tr><th scope=row>lm.layout</th><td>5           </td><td>-75.71497   </td><td>-65.77005   </td><td>42.85749    </td><td>-85.71497   </td><td> 1.158351   </td><td> 1          </td><td>2.818077e-01</td></tr>\n",
       "\t<tr><th scope=row>lm.interaction</th><td>6           </td><td>-75.43441   </td><td>-63.50051   </td><td>43.71721    </td><td>-87.43441   </td><td> 1.719438   </td><td> 1          </td><td>1.897654e-01</td></tr>\n",
       "</tbody>\n",
       "</table>\n"
      ],
      "text/latex": [
       "\\begin{tabular}{r|llllllll}\n",
       "  & Df & AIC & BIC & logLik & deviance & Chisq & Chi Df & Pr(>Chisq)\\\\\n",
       "\\hline\n",
       "\tlm.null & 3            & -45.97468    & -40.00773    & 25.98734     & -51.97468    &        NA    & NA           &           NA\\\\\n",
       "\tlm.trigger & 4            & -76.55662    & -68.60069    & 42.27831     & -84.55662    & 32.581939    &  1           & 1.142717e-08\\\\\n",
       "\tlm.layout & 5            & -75.71497    & -65.77005    & 42.85749     & -85.71497    &  1.158351    &  1           & 2.818077e-01\\\\\n",
       "\tlm.interaction & 6            & -75.43441    & -63.50051    & 43.71721     & -87.43441    &  1.719438    &  1           & 1.897654e-01\\\\\n",
       "\\end{tabular}\n"
      ],
      "text/markdown": [
       "\n",
       "| <!--/--> | Df | AIC | BIC | logLik | deviance | Chisq | Chi Df | Pr(>Chisq) | \n",
       "|---|---|---|---|\n",
       "| lm.null | 3            | -45.97468    | -40.00773    | 25.98734     | -51.97468    |        NA    | NA           |           NA | \n",
       "| lm.trigger | 4            | -76.55662    | -68.60069    | 42.27831     | -84.55662    | 32.581939    |  1           | 1.142717e-08 | \n",
       "| lm.layout | 5            | -75.71497    | -65.77005    | 42.85749     | -85.71497    |  1.158351    |  1           | 2.818077e-01 | \n",
       "| lm.interaction | 6            | -75.43441    | -63.50051    | 43.71721     | -87.43441    |  1.719438    |  1           | 1.897654e-01 | \n",
       "\n",
       "\n"
      ],
      "text/plain": [
       "               Df AIC       BIC       logLik   deviance  Chisq     Chi Df\n",
       "lm.null        3  -45.97468 -40.00773 25.98734 -51.97468        NA NA    \n",
       "lm.trigger     4  -76.55662 -68.60069 42.27831 -84.55662 32.581939  1    \n",
       "lm.layout      5  -75.71497 -65.77005 42.85749 -85.71497  1.158351  1    \n",
       "lm.interaction 6  -75.43441 -63.50051 43.71721 -87.43441  1.719438  1    \n",
       "               Pr(>Chisq)  \n",
       "lm.null                  NA\n",
       "lm.trigger     1.142717e-08\n",
       "lm.layout      2.818077e-01\n",
       "lm.interaction 1.897654e-01"
      ]
     },
     "metadata": {},
     "output_type": "display_data"
    },
    {
     "data": {
      "text/html": [
       "<ol class=list-inline>\n",
       "\t<li>&lt;NA&gt;</li>\n",
       "\t<li>1.14271727140995e-08</li>\n",
       "\t<li>0.281807747035333</li>\n",
       "\t<li>0.189765403065704</li>\n",
       "</ol>\n"
      ],
      "text/latex": [
       "\\begin{enumerate*}\n",
       "\\item <NA>\n",
       "\\item 1.14271727140995e-08\n",
       "\\item 0.281807747035333\n",
       "\\item 0.189765403065704\n",
       "\\end{enumerate*}\n"
      ],
      "text/markdown": [
       "1. &lt;NA&gt;\n",
       "2. 1.14271727140995e-08\n",
       "3. 0.281807747035333\n",
       "4. 0.189765403065704\n",
       "\n",
       "\n"
      ],
      "text/plain": [
       "[1]           NA 1.142717e-08 2.818077e-01 1.897654e-01"
      ]
     },
     "metadata": {},
     "output_type": "display_data"
    },
    {
     "data": {
      "text/html": [
       "<table>\n",
       "<thead><tr><th scope=col>Estimate</th><th scope=col>Std.Error</th><th scope=col>df</th><th scope=col>t.value</th><th scope=col>p.value</th><th scope=col>R.sqr</th></tr></thead>\n",
       "<tbody>\n",
       "\t<tr><td> 0.3968722  </td><td>0.04564831  </td><td> 9.317698   </td><td> 8.694127   </td><td>9.026304e-06</td><td>0.9435349   </td></tr>\n",
       "\t<tr><td>-0.1700089  </td><td>0.02482739  </td><td>43.000102   </td><td>-6.847636   </td><td>2.139432e-08</td><td>0.7222448   </td></tr>\n",
       "\t<tr><td>-0.1073258  </td><td>0.10135739  </td><td>43.000102   </td><td>-1.058885   </td><td>2.955642e-01</td><td>0.1594133   </td></tr>\n",
       "</tbody>\n",
       "</table>\n"
      ],
      "text/latex": [
       "\\begin{tabular}{r|llllll}\n",
       " Estimate & Std.Error & df & t.value & p.value & R.sqr\\\\\n",
       "\\hline\n",
       "\t  0.3968722   & 0.04564831   &  9.317698    &  8.694127    & 9.026304e-06 & 0.9435349   \\\\\n",
       "\t -0.1700089   & 0.02482739   & 43.000102    & -6.847636    & 2.139432e-08 & 0.7222448   \\\\\n",
       "\t -0.1073258   & 0.10135739   & 43.000102    & -1.058885    & 2.955642e-01 & 0.1594133   \\\\\n",
       "\\end{tabular}\n"
      ],
      "text/markdown": [
       "\n",
       "Estimate | Std.Error | df | t.value | p.value | R.sqr | \n",
       "|---|---|---|\n",
       "|  0.3968722   | 0.04564831   |  9.317698    |  8.694127    | 9.026304e-06 | 0.9435349    | \n",
       "| -0.1700089   | 0.02482739   | 43.000102    | -6.847636    | 2.139432e-08 | 0.7222448    | \n",
       "| -0.1073258   | 0.10135739   | 43.000102    | -1.058885    | 2.955642e-01 | 0.1594133    | \n",
       "\n",
       "\n"
      ],
      "text/plain": [
       "  Estimate   Std.Error  df        t.value   p.value      R.sqr    \n",
       "1  0.3968722 0.04564831  9.317698  8.694127 9.026304e-06 0.9435349\n",
       "2 -0.1700089 0.02482739 43.000102 -6.847636 2.139432e-08 0.7222448\n",
       "3 -0.1073258 0.10135739 43.000102 -1.058885 2.955642e-01 0.1594133"
      ]
     },
     "metadata": {},
     "output_type": "display_data"
    }
   ],
   "source": [
    "neither.reports <- trigger.count %>%\n",
    "    dplyr::filter((Response.comb=='no switch') & (Switch.comb!='no trigger'))\n",
    "\n",
    "lm.null <- lme4::lmer(report.proportion ~ 1 + (1|Observer), data= neither.reports, REML= FALSE)\n",
    "lm.trigger <- update(lm.null, .~. + Switch.comb)\n",
    "lm.layout <- update(lm.trigger, .~. + Gap)\n",
    "lm.interaction <- update(lm.layout, .~. + Switch.comb * Gap)\n",
    "neither.report.anova <-  anova(lm.null, lm.trigger, lm.layout, lm.interaction)\n",
    "neither.report.anova\n",
    "neither.report.anova$'Pr(>Chisq)'\n",
    "\n",
    "\n",
    "lmer.report <- summary(lmerTest::lmer(report.proportion ~ Switch.comb + Gap + Switch.comb + (1|Observer), data= neither.reports))\n",
    "\n",
    "coefficients.only <- data.frame(summary(lmer.report)$coefficients)\n",
    "colnames(coefficients.only) <- c('Estimate', 'Std.Error', 'df', 't.value', 'p.value')\n",
    "dplyr::mutate(coefficients.only, R.sqr= rcontrast(t.value, df))\n"
   ]
  },
  {
   "cell_type": "markdown",
   "metadata": {},
   "source": [
    "### Given the _positive_ dependence of the `single` reports  on the layout, testing for its significance\n",
    "Using only __single__ reports and __single__ and __both__ trigger types"
   ]
  },
  {
   "cell_type": "code",
   "execution_count": 10,
   "metadata": {},
   "outputs": [
    {
     "data": {
      "text/html": [
       "0.2955642"
      ],
      "text/latex": [
       "0.2955642"
      ],
      "text/markdown": [
       "0.2955642"
      ],
      "text/plain": [
       "[1] 0.2955642"
      ]
     },
     "metadata": {},
     "output_type": "display_data"
    }
   ],
   "source": [
    "2.955642e-01"
   ]
  },
  {
   "cell_type": "code",
   "execution_count": 11,
   "metadata": {},
   "outputs": [
    {
     "data": {
      "text/html": [
       "<table>\n",
       "<thead><tr><th></th><th scope=col>Df</th><th scope=col>AIC</th><th scope=col>BIC</th><th scope=col>logLik</th><th scope=col>deviance</th><th scope=col>Chisq</th><th scope=col>Chi Df</th><th scope=col>Pr(&gt;Chisq)</th></tr></thead>\n",
       "<tbody>\n",
       "\t<tr><th scope=row>lm.null</th><td>3           </td><td>-12.89391   </td><td> -6.926957  </td><td> 9.446954   </td><td>-18.89391   </td><td>       NA   </td><td>NA          </td><td>          NA</td></tr>\n",
       "\t<tr><th scope=row>lm.trigger</th><td>4           </td><td>-62.23421   </td><td>-54.278273  </td><td>35.117104   </td><td>-70.23421   </td><td>51.340300   </td><td> 1          </td><td>7.766481e-13</td></tr>\n",
       "\t<tr><th scope=row>lm.layout</th><td>5           </td><td>-76.56593   </td><td>-66.621013  </td><td>43.282966   </td><td>-86.56593   </td><td>16.331724   </td><td> 1          </td><td>5.316640e-05</td></tr>\n",
       "\t<tr><th scope=row>lm.interaction</th><td>6           </td><td>-75.80471   </td><td>-63.870810  </td><td>43.902357   </td><td>-87.80471   </td><td> 1.238781   </td><td> 1          </td><td>2.657061e-01</td></tr>\n",
       "</tbody>\n",
       "</table>\n"
      ],
      "text/latex": [
       "\\begin{tabular}{r|llllllll}\n",
       "  & Df & AIC & BIC & logLik & deviance & Chisq & Chi Df & Pr(>Chisq)\\\\\n",
       "\\hline\n",
       "\tlm.null & 3            & -12.89391    &  -6.926957   &  9.446954    & -18.89391    &        NA    & NA           &           NA\\\\\n",
       "\tlm.trigger & 4            & -62.23421    & -54.278273   & 35.117104    & -70.23421    & 51.340300    &  1           & 7.766481e-13\\\\\n",
       "\tlm.layout & 5            & -76.56593    & -66.621013   & 43.282966    & -86.56593    & 16.331724    &  1           & 5.316640e-05\\\\\n",
       "\tlm.interaction & 6            & -75.80471    & -63.870810   & 43.902357    & -87.80471    &  1.238781    &  1           & 2.657061e-01\\\\\n",
       "\\end{tabular}\n"
      ],
      "text/markdown": [
       "\n",
       "| <!--/--> | Df | AIC | BIC | logLik | deviance | Chisq | Chi Df | Pr(>Chisq) | \n",
       "|---|---|---|---|\n",
       "| lm.null | 3            | -12.89391    |  -6.926957   |  9.446954    | -18.89391    |        NA    | NA           |           NA | \n",
       "| lm.trigger | 4            | -62.23421    | -54.278273   | 35.117104    | -70.23421    | 51.340300    |  1           | 7.766481e-13 | \n",
       "| lm.layout | 5            | -76.56593    | -66.621013   | 43.282966    | -86.56593    | 16.331724    |  1           | 5.316640e-05 | \n",
       "| lm.interaction | 6            | -75.80471    | -63.870810   | 43.902357    | -87.80471    |  1.238781    |  1           | 2.657061e-01 | \n",
       "\n",
       "\n"
      ],
      "text/plain": [
       "               Df AIC       BIC        logLik    deviance  Chisq     Chi Df\n",
       "lm.null        3  -12.89391  -6.926957  9.446954 -18.89391        NA NA    \n",
       "lm.trigger     4  -62.23421 -54.278273 35.117104 -70.23421 51.340300  1    \n",
       "lm.layout      5  -76.56593 -66.621013 43.282966 -86.56593 16.331724  1    \n",
       "lm.interaction 6  -75.80471 -63.870810 43.902357 -87.80471  1.238781  1    \n",
       "               Pr(>Chisq)  \n",
       "lm.null                  NA\n",
       "lm.trigger     7.766481e-13\n",
       "lm.layout      5.316640e-05\n",
       "lm.interaction 2.657061e-01"
      ]
     },
     "metadata": {},
     "output_type": "display_data"
    },
    {
     "data": {
      "text/html": [
       "<ol class=list-inline>\n",
       "\t<li>&lt;NA&gt;</li>\n",
       "\t<li>7.76648060533654e-13</li>\n",
       "\t<li>5.31664049845567e-05</li>\n",
       "\t<li>0.265706095124651</li>\n",
       "</ol>\n"
      ],
      "text/latex": [
       "\\begin{enumerate*}\n",
       "\\item <NA>\n",
       "\\item 7.76648060533654e-13\n",
       "\\item 5.31664049845567e-05\n",
       "\\item 0.265706095124651\n",
       "\\end{enumerate*}\n"
      ],
      "text/markdown": [
       "1. &lt;NA&gt;\n",
       "2. 7.76648060533654e-13\n",
       "3. 5.31664049845567e-05\n",
       "4. 0.265706095124651\n",
       "\n",
       "\n"
      ],
      "text/plain": [
       "[1]           NA 7.766481e-13 5.316640e-05 2.657061e-01"
      ]
     },
     "metadata": {},
     "output_type": "display_data"
    },
    {
     "data": {
      "text/plain": [
       "Linear mixed model fit by REML t-tests use Satterthwaite approximations to\n",
       "  degrees of freedom [lmerMod]\n",
       "Formula: report.proportion ~ Switch.comb + Gap + (1 | Observer)\n",
       "   Data: single.reports\n",
       "\n",
       "REML criterion at convergence: -72.7\n",
       "\n",
       "Scaled residuals: \n",
       "     Min       1Q   Median       3Q      Max \n",
       "-1.92114 -0.69575 -0.09186  0.58083  2.39786 \n",
       "\n",
       "Random effects:\n",
       " Groups   Name        Variance Std.Dev.\n",
       " Observer (Intercept) 0.001407 0.03752 \n",
       " Residual             0.011379 0.10667 \n",
       "Number of obs: 54, groups:  Observer, 9\n",
       "\n",
       "Fixed effects:\n",
       "                          Estimate Std. Error       df t value Pr(>|t|)    \n",
       "(Intercept)                0.43858    0.02404 18.68000  18.245 2.33e-13 ***\n",
       "Switch.combdouble trigger -0.31813    0.02903 43.00000 -10.957 5.02e-14 ***\n",
       "Gap                        0.51411    0.11853 43.00000   4.337 8.56e-05 ***\n",
       "---\n",
       "Signif. codes:  0 '***' 0.001 '**' 0.01 '*' 0.05 '.' 0.1 ' ' 1\n",
       "\n",
       "Correlation of Fixed Effects:\n",
       "            (Intr) Swtc.t\n",
       "Swtch.cmbdt -0.604       \n",
       "Gap          0.000  0.000"
      ]
     },
     "metadata": {},
     "output_type": "display_data"
    },
    {
     "data": {
      "text/html": [
       "<table>\n",
       "<thead><tr><th scope=col>Estimate</th><th scope=col>Std.Error</th><th scope=col>df</th><th scope=col>t.value</th><th scope=col>p.value</th><th scope=col>R.sqr</th></tr></thead>\n",
       "<tbody>\n",
       "\t<tr><td> 0.4385839  </td><td>0.02403839  </td><td>18.67539    </td><td> 18.245143  </td><td>2.333689e-13</td><td>0.9730769   </td></tr>\n",
       "\t<tr><td>-0.3181264  </td><td>0.02903306  </td><td>43.00007    </td><td>-10.957383  </td><td>5.018208e-14</td><td>0.8580792   </td></tr>\n",
       "\t<tr><td> 0.5141099  </td><td>0.11852697  </td><td>43.00007    </td><td>  4.337493  </td><td>8.557493e-05</td><td>0.5516906   </td></tr>\n",
       "</tbody>\n",
       "</table>\n"
      ],
      "text/latex": [
       "\\begin{tabular}{r|llllll}\n",
       " Estimate & Std.Error & df & t.value & p.value & R.sqr\\\\\n",
       "\\hline\n",
       "\t  0.4385839   & 0.02403839   & 18.67539     &  18.245143   & 2.333689e-13 & 0.9730769   \\\\\n",
       "\t -0.3181264   & 0.02903306   & 43.00007     & -10.957383   & 5.018208e-14 & 0.8580792   \\\\\n",
       "\t  0.5141099   & 0.11852697   & 43.00007     &   4.337493   & 8.557493e-05 & 0.5516906   \\\\\n",
       "\\end{tabular}\n"
      ],
      "text/markdown": [
       "\n",
       "Estimate | Std.Error | df | t.value | p.value | R.sqr | \n",
       "|---|---|---|\n",
       "|  0.4385839   | 0.02403839   | 18.67539     |  18.245143   | 2.333689e-13 | 0.9730769    | \n",
       "| -0.3181264   | 0.02903306   | 43.00007     | -10.957383   | 5.018208e-14 | 0.8580792    | \n",
       "|  0.5141099   | 0.11852697   | 43.00007     |   4.337493   | 8.557493e-05 | 0.5516906    | \n",
       "\n",
       "\n"
      ],
      "text/plain": [
       "  Estimate   Std.Error  df       t.value    p.value      R.sqr    \n",
       "1  0.4385839 0.02403839 18.67539  18.245143 2.333689e-13 0.9730769\n",
       "2 -0.3181264 0.02903306 43.00007 -10.957383 5.018208e-14 0.8580792\n",
       "3  0.5141099 0.11852697 43.00007   4.337493 8.557493e-05 0.5516906"
      ]
     },
     "metadata": {},
     "output_type": "display_data"
    }
   ],
   "source": [
    "single.reports <- trigger.count %>%\n",
    "    dplyr::filter((Response.comb=='single switch') & (Switch.comb!='no trigger'))\n",
    "lm.null <- lme4::lmer(report.proportion ~ 1 + (1|Observer), data= single.reports, REML= FALSE)\n",
    "lm.trigger <- update(lm.null, .~. + Switch.comb)\n",
    "lm.layout <- update(lm.trigger, .~. + Gap)\n",
    "lm.interaction <- update(lm.layout, .~. + Switch.comb * Gap)\n",
    "single.report.anova <- anova(lm.null, lm.trigger, lm.layout, lm.interaction)\n",
    "single.report.anova\n",
    "single.report.anova$'Pr(>Chisq)'\n",
    "\n",
    "lmer.report <- summary(lmerTest::lmer(report.proportion ~ Switch.comb + Gap +  (1|Observer), data= single.reports))\n",
    "\n",
    "lmer.report\n",
    "coefficients.only <- data.frame(summary(lmer.report)$coefficients)\n",
    "colnames(coefficients.only) <- c('Estimate', 'Std.Error', 'df', 't.value', 'p.value')\n",
    "dplyr::mutate(coefficients.only, R.sqr= rcontrast(t.value, df))"
   ]
  },
  {
   "cell_type": "markdown",
   "metadata": {},
   "source": [
    "The analysis shows that the smaller gap produces fewer __single__ switch responses (highly significant _positive_ slope for `Gap`) and that there were fewer __single__ switch responses for when the exogenous trigger was applied to __both__ spheres (highly significant negative factor for `Switch.combboth`). However, there is no evidence for the interaction."
   ]
  },
  {
   "cell_type": "markdown",
   "metadata": {},
   "source": [
    "### Given the _negative_ dependence of the `both` reports  on the layout, testing for its significance\n",
    "Using only __both__ reports and __single__ and __both__ trigger types"
   ]
  },
  {
   "cell_type": "code",
   "execution_count": 12,
   "metadata": {},
   "outputs": [
    {
     "data": {
      "text/html": [
       "<table>\n",
       "<thead><tr><th></th><th scope=col>Df</th><th scope=col>AIC</th><th scope=col>BIC</th><th scope=col>logLik</th><th scope=col>deviance</th><th scope=col>Chisq</th><th scope=col>Chi Df</th><th scope=col>Pr(&gt;Chisq)</th></tr></thead>\n",
       "<tbody>\n",
       "\t<tr><th scope=row>lm.null</th><td>3           </td><td> 23.41067   </td><td> 29.37762   </td><td>-8.705336   </td><td> 17.41067   </td><td>          NA</td><td>NA          </td><td>          NA</td></tr>\n",
       "\t<tr><th scope=row>lm.trigger</th><td>4           </td><td>-55.77067   </td><td>-47.81473   </td><td>31.885334   </td><td>-63.77067   </td><td>8.118134e+01</td><td> 1          </td><td>2.059273e-19</td></tr>\n",
       "\t<tr><th scope=row>lm.layout</th><td>5           </td><td>-64.26091   </td><td>-54.31599   </td><td>37.130453   </td><td>-74.26091   </td><td>1.049024e+01</td><td> 1          </td><td>1.200068e-03</td></tr>\n",
       "\t<tr><th scope=row>lm.interaction</th><td>6           </td><td>-62.26093   </td><td>-50.32703   </td><td>37.130467   </td><td>-74.26093   </td><td>2.701277e-05</td><td> 1          </td><td>9.958531e-01</td></tr>\n",
       "</tbody>\n",
       "</table>\n"
      ],
      "text/latex": [
       "\\begin{tabular}{r|llllllll}\n",
       "  & Df & AIC & BIC & logLik & deviance & Chisq & Chi Df & Pr(>Chisq)\\\\\n",
       "\\hline\n",
       "\tlm.null & 3            &  23.41067    &  29.37762    & -8.705336    &  17.41067    &           NA & NA           &           NA\\\\\n",
       "\tlm.trigger & 4            & -55.77067    & -47.81473    & 31.885334    & -63.77067    & 8.118134e+01 &  1           & 2.059273e-19\\\\\n",
       "\tlm.layout & 5            & -64.26091    & -54.31599    & 37.130453    & -74.26091    & 1.049024e+01 &  1           & 1.200068e-03\\\\\n",
       "\tlm.interaction & 6            & -62.26093    & -50.32703    & 37.130467    & -74.26093    & 2.701277e-05 &  1           & 9.958531e-01\\\\\n",
       "\\end{tabular}\n"
      ],
      "text/markdown": [
       "\n",
       "| <!--/--> | Df | AIC | BIC | logLik | deviance | Chisq | Chi Df | Pr(>Chisq) | \n",
       "|---|---|---|---|\n",
       "| lm.null | 3            |  23.41067    |  29.37762    | -8.705336    |  17.41067    |           NA | NA           |           NA | \n",
       "| lm.trigger | 4            | -55.77067    | -47.81473    | 31.885334    | -63.77067    | 8.118134e+01 |  1           | 2.059273e-19 | \n",
       "| lm.layout | 5            | -64.26091    | -54.31599    | 37.130453    | -74.26091    | 1.049024e+01 |  1           | 1.200068e-03 | \n",
       "| lm.interaction | 6            | -62.26093    | -50.32703    | 37.130467    | -74.26093    | 2.701277e-05 |  1           | 9.958531e-01 | \n",
       "\n",
       "\n"
      ],
      "text/plain": [
       "               Df AIC       BIC       logLik    deviance  Chisq        Chi Df\n",
       "lm.null        3   23.41067  29.37762 -8.705336  17.41067           NA NA    \n",
       "lm.trigger     4  -55.77067 -47.81473 31.885334 -63.77067 8.118134e+01  1    \n",
       "lm.layout      5  -64.26091 -54.31599 37.130453 -74.26091 1.049024e+01  1    \n",
       "lm.interaction 6  -62.26093 -50.32703 37.130467 -74.26093 2.701277e-05  1    \n",
       "               Pr(>Chisq)  \n",
       "lm.null                  NA\n",
       "lm.trigger     2.059273e-19\n",
       "lm.layout      1.200068e-03\n",
       "lm.interaction 9.958531e-01"
      ]
     },
     "metadata": {},
     "output_type": "display_data"
    },
    {
     "data": {
      "text/html": [
       "<ol class=list-inline>\n",
       "\t<li>&lt;NA&gt;</li>\n",
       "\t<li>81.1813393816738</li>\n",
       "\t<li>10.490239256244</li>\n",
       "\t<li>2.70127690669142e-05</li>\n",
       "</ol>\n"
      ],
      "text/latex": [
       "\\begin{enumerate*}\n",
       "\\item <NA>\n",
       "\\item 81.1813393816738\n",
       "\\item 10.490239256244\n",
       "\\item 2.70127690669142e-05\n",
       "\\end{enumerate*}\n"
      ],
      "text/markdown": [
       "1. &lt;NA&gt;\n",
       "2. 81.1813393816738\n",
       "3. 10.490239256244\n",
       "4. 2.70127690669142e-05\n",
       "\n",
       "\n"
      ],
      "text/plain": [
       "[1]           NA 8.118134e+01 1.049024e+01 2.701277e-05"
      ]
     },
     "metadata": {},
     "output_type": "display_data"
    },
    {
     "data": {
      "text/html": [
       "<ol class=list-inline>\n",
       "\t<li>&lt;NA&gt;</li>\n",
       "\t<li>2.05927304865971e-19</li>\n",
       "\t<li>0.00120006830442293</li>\n",
       "\t<li>0.995853108628091</li>\n",
       "</ol>\n"
      ],
      "text/latex": [
       "\\begin{enumerate*}\n",
       "\\item <NA>\n",
       "\\item 2.05927304865971e-19\n",
       "\\item 0.00120006830442293\n",
       "\\item 0.995853108628091\n",
       "\\end{enumerate*}\n"
      ],
      "text/markdown": [
       "1. &lt;NA&gt;\n",
       "2. 2.05927304865971e-19\n",
       "3. 0.00120006830442293\n",
       "4. 0.995853108628091\n",
       "\n",
       "\n"
      ],
      "text/plain": [
       "[1]           NA 2.059273e-19 1.200068e-03 9.958531e-01"
      ]
     },
     "metadata": {},
     "output_type": "display_data"
    },
    {
     "data": {
      "text/plain": [
       "Linear mixed model fit by REML t-tests use Satterthwaite approximations to\n",
       "  degrees of freedom [lmerMod]\n",
       "Formula: report.proportion ~ Switch.comb + Gap + (1 | Observer)\n",
       "   Data: both.reports\n",
       "\n",
       "REML criterion at convergence: -61.7\n",
       "\n",
       "Scaled residuals: \n",
       "     Min       1Q   Median       3Q      Max \n",
       "-2.05792 -0.65488  0.09078  0.64489  1.79089 \n",
       "\n",
       "Random effects:\n",
       " Groups   Name        Variance Std.Dev.\n",
       " Observer (Intercept) 0.008506 0.09223 \n",
       " Residual             0.011873 0.10896 \n",
       "Number of obs: 54, groups:  Observer, 9\n",
       "\n",
       "Fixed effects:\n",
       "                          Estimate Std. Error       df t value Pr(>|t|)    \n",
       "(Intercept)                0.16454    0.03721 11.23000   4.422 0.000976 ***\n",
       "Switch.combdouble trigger  0.48814    0.02966 43.00000  16.460  < 2e-16 ***\n",
       "Gap                       -0.40678    0.12107 43.00000  -3.360 0.001643 ** \n",
       "---\n",
       "Signif. codes:  0 '***' 0.001 '**' 0.01 '*' 0.05 '.' 0.1 ' ' 1\n",
       "\n",
       "Correlation of Fixed Effects:\n",
       "            (Intr) Swtc.t\n",
       "Swtch.cmbdt -0.398       \n",
       "Gap          0.000  0.000"
      ]
     },
     "metadata": {},
     "output_type": "display_data"
    },
    {
     "data": {
      "text/html": [
       "<table>\n",
       "<thead><tr><th scope=col>Estimate</th><th scope=col>Std.Error</th><th scope=col>df</th><th scope=col>t.value</th><th scope=col>p.value</th><th scope=col>R.sqr</th></tr></thead>\n",
       "<tbody>\n",
       "\t<tr><td> 0.1645439  </td><td>0.03721431  </td><td>11.23018    </td><td> 4.421523   </td><td>0.0009762101</td><td>0.7969613   </td></tr>\n",
       "\t<tr><td> 0.4881353  </td><td>0.02965631  </td><td>43.00007    </td><td>16.459745   </td><td>0.0000000000</td><td>0.9289907   </td></tr>\n",
       "\t<tr><td>-0.4067840  </td><td>0.12107137  </td><td>43.00007    </td><td>-3.359870   </td><td>0.0016434762</td><td>0.4560026   </td></tr>\n",
       "</tbody>\n",
       "</table>\n"
      ],
      "text/latex": [
       "\\begin{tabular}{r|llllll}\n",
       " Estimate & Std.Error & df & t.value & p.value & R.sqr\\\\\n",
       "\\hline\n",
       "\t  0.1645439   & 0.03721431   & 11.23018     &  4.421523    & 0.0009762101 & 0.7969613   \\\\\n",
       "\t  0.4881353   & 0.02965631   & 43.00007     & 16.459745    & 0.0000000000 & 0.9289907   \\\\\n",
       "\t -0.4067840   & 0.12107137   & 43.00007     & -3.359870    & 0.0016434762 & 0.4560026   \\\\\n",
       "\\end{tabular}\n"
      ],
      "text/markdown": [
       "\n",
       "Estimate | Std.Error | df | t.value | p.value | R.sqr | \n",
       "|---|---|---|\n",
       "|  0.1645439   | 0.03721431   | 11.23018     |  4.421523    | 0.0009762101 | 0.7969613    | \n",
       "|  0.4881353   | 0.02965631   | 43.00007     | 16.459745    | 0.0000000000 | 0.9289907    | \n",
       "| -0.4067840   | 0.12107137   | 43.00007     | -3.359870    | 0.0016434762 | 0.4560026    | \n",
       "\n",
       "\n"
      ],
      "text/plain": [
       "  Estimate   Std.Error  df       t.value   p.value      R.sqr    \n",
       "1  0.1645439 0.03721431 11.23018  4.421523 0.0009762101 0.7969613\n",
       "2  0.4881353 0.02965631 43.00007 16.459745 0.0000000000 0.9289907\n",
       "3 -0.4067840 0.12107137 43.00007 -3.359870 0.0016434762 0.4560026"
      ]
     },
     "metadata": {},
     "output_type": "display_data"
    }
   ],
   "source": [
    "both.reports <- trigger.count %>%\n",
    "    dplyr::filter((Response.comb=='double switch') & (Switch.comb!='no trigger'))\n",
    "\n",
    "lm.null <- lme4::lmer(report.proportion ~ 1 + (1|Observer), data= both.reports, REML= FALSE)\n",
    "lm.trigger <- update(lm.null, .~. + Switch.comb)\n",
    "lm.layout <- update(lm.trigger, .~. + Gap)\n",
    "lm.interaction <- update(lm.layout, .~. + Switch.comb * Gap)\n",
    "both.report.anova <- anova(lm.null, lm.trigger, lm.layout, lm.interaction)\n",
    "both.report.anova\n",
    "both.report.anova$Chisq\n",
    "both.report.anova$'Pr(>Chisq)'\n",
    "\n",
    "lmer.report <- summary(lmerTest::lmer(report.proportion ~ Switch.comb + Gap  + (1|Observer), data= both.reports))\n",
    "\n",
    "lmer.report\n",
    "coefficients.only <- data.frame(summary(lmer.report)$coefficients)\n",
    "colnames(coefficients.only) <- c('Estimate', 'Std.Error', 'df', 't.value', 'p.value')\n",
    "dplyr::mutate(coefficients.only, R.sqr= rcontrast(t.value, df))"
   ]
  },
  {
   "cell_type": "markdown",
   "metadata": {},
   "source": [
    "The analysis shows that the smaller gap produces more __both__ switch responses (significant _negative_ slope for `Gap`) and that there were fewer __both__ switch responses for when the exogenous trigger was applied to a __single__ sphere only (highly significant positive factor for `Switch.combboth`). However, there is no evidence for the interaction."
   ]
  },
  {
   "cell_type": "markdown",
   "metadata": {},
   "source": [
    "Analysis shows that there were more reported switch when the exogenous trigger was applied to __both__ spheres (highly significant _negative_ effect for the `Switch.combboth` means that there were fewer 'no switch' responses, hence, more 'switch responses'). However, there was neither an effect of the `Gap`, nor of `Switch` x `Gap` interaction."
   ]
  },
  {
   "cell_type": "markdown",
   "metadata": {},
   "source": [
    "## Looking at the effect of the trigger timing"
   ]
  },
  {
   "cell_type": "code",
   "execution_count": 13,
   "metadata": {},
   "outputs": [
    {
     "data": {
      "text/html": [
       "<table>\n",
       "<thead><tr><th scope=col>SwitchTime</th><th scope=col>P.switch</th><th scope=col>P.serr</th></tr></thead>\n",
       "<tbody>\n",
       "\t<tr><td>1.1       </td><td>0.3514591 </td><td>0.05812369</td></tr>\n",
       "\t<tr><td>1.3       </td><td>0.3437760 </td><td>0.04567837</td></tr>\n",
       "\t<tr><td>1.5       </td><td>0.3648883 </td><td>0.05804399</td></tr>\n",
       "\t<tr><td>1.7       </td><td>0.3522123 </td><td>0.05282676</td></tr>\n",
       "\t<tr><td>1.9       </td><td>0.4088545 </td><td>0.05072543</td></tr>\n",
       "</tbody>\n",
       "</table>\n"
      ],
      "text/latex": [
       "\\begin{tabular}{r|lll}\n",
       " SwitchTime & P.switch & P.serr\\\\\n",
       "\\hline\n",
       "\t 1.1        & 0.3514591  & 0.05812369\\\\\n",
       "\t 1.3        & 0.3437760  & 0.04567837\\\\\n",
       "\t 1.5        & 0.3648883  & 0.05804399\\\\\n",
       "\t 1.7        & 0.3522123  & 0.05282676\\\\\n",
       "\t 1.9        & 0.4088545  & 0.05072543\\\\\n",
       "\\end{tabular}\n"
      ],
      "text/markdown": [
       "\n",
       "SwitchTime | P.switch | P.serr | \n",
       "|---|---|---|---|---|\n",
       "| 1.1        | 0.3514591  | 0.05812369 | \n",
       "| 1.3        | 0.3437760  | 0.04567837 | \n",
       "| 1.5        | 0.3648883  | 0.05804399 | \n",
       "| 1.7        | 0.3522123  | 0.05282676 | \n",
       "| 1.9        | 0.4088545  | 0.05072543 | \n",
       "\n",
       "\n"
      ],
      "text/plain": [
       "  SwitchTime P.switch  P.serr    \n",
       "1 1.1        0.3514591 0.05812369\n",
       "2 1.3        0.3437760 0.04567837\n",
       "3 1.5        0.3648883 0.05804399\n",
       "4 1.7        0.3522123 0.05282676\n",
       "5 1.9        0.4088545 0.05072543"
      ]
     },
     "metadata": {},
     "output_type": "display_data"
    },
    {
     "data": {
      "image/png": "[encoded data removed]",
      "text/plain": [
       "plot without title"
      ]
     },
     "metadata": {},
     "output_type": "display_data"
    }
   ],
   "source": [
    "trigger.timing.effect <- reports %>%\n",
    "    dplyr::filter(Switch.comb != 'no trigger') %>%\n",
    "    dplyr::group_by(Observer, SwitchTime) %>%\n",
    "    dplyr::summarize(switch.proportion= mean(Response.comb=='no switch')) %>%\n",
    "    dplyr::group_by(SwitchTime) %>%\n",
    "    dplyr::summarize(P.switch= mean(switch.proportion), \n",
    "                     P.serr= sd(switch.proportion)/sqrt(n()-1))\n",
    "trigger.timing.effect\n",
    "\n",
    "proportion.plot <- ggplot(data= trigger.timing.effect, aes(x= SwitchTime, \n",
    "                                                         y= P.switch, ymin= P.switch-P.serr, ymax= P.switch+P.serr))+\n",
    "    geom_line() +\n",
    "    geom_errorbar(width=0.05) + \n",
    "    geom_point() +\n",
    "    xlab('Layout') +\n",
    "    ylab('Preport')+\n",
    "    scale_x_continuous(breaks = c(sort(unique(trigger.timing.effect$SwitchTime))))+\n",
    "    scale_y_continuous(labels = numform::ff_num(zero = 0, digits= 2))+\n",
    "    theme(panel.grid.minor.x=element_blank())\n",
    "\n",
    "print(proportion.plot)\n",
    "# ggsave('Exp2 - proportion plot.pdf', proportion.plot, width= 16, height= 8, units = 'cm')\n",
    "# ggsave('Exp2 - trigger vs report.pdf')"
   ]
  }
 ],
 "metadata": {
  "kernelspec": {
   "display_name": "R",
   "language": "R",
   "name": "ir"
  },
  "language_info": {
   "codemirror_mode": "r",
   "file_extension": ".r",
   "mimetype": "text/x-r-source",
   "name": "R",
   "pygments_lexer": "r",
   "version": "3.4.2"
  }
 },
 "nbformat": 4,
 "nbformat_minor": 1
}
